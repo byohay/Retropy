{
 "cells": [
  {
   "cell_type": "code",
   "execution_count": null,
   "metadata": {
    "ExecuteTime": {
     "end_time": "2019-07-08T18:41:10.948767Z",
     "start_time": "2019-07-08T18:41:08.527831Z"
    }
   },
   "outputs": [],
   "source": [
    "%run retropy.ipynb"
   ]
  },
  {
   "cell_type": "markdown",
   "metadata": {},
   "source": [
    "https://cefanalyzer.com  \n",
    "http://cefdata.com  "
   ]
  },
  {
   "cell_type": "code",
   "execution_count": null,
   "metadata": {
    "ExecuteTime": {
     "end_time": "2019-07-06T18:20:38.343976Z",
     "start_time": "2019-07-06T18:20:34.943663Z"
    }
   },
   "outputs": [],
   "source": [
    "show('PRIVX', 'SPY')"
   ]
  },
  {
   "cell_type": "markdown",
   "metadata": {},
   "source": [
    "# My"
   ]
  },
  {
   "cell_type": "code",
   "execution_count": null,
   "metadata": {
    "ExecuteTime": {
     "end_time": "2019-07-06T10:48:28.796061Z",
     "start_time": "2019-07-06T10:48:28.680441Z"
    }
   },
   "outputs": [],
   "source": [
    "mode = \"NTR\"\n",
    "p = 'BHK|JPS|GBAB|PAI|MPV'\n",
    "all = ['BHK', 'JPS', 'GBAB', 'PAI', 'MPV']\n",
    "all = get(all, cache=True, mode=mode)"
   ]
  },
  {
   "cell_type": "code",
   "execution_count": null,
   "metadata": {
    "ExecuteTime": {
     "end_time": "2019-07-06T10:48:29.897069Z",
     "start_time": "2019-07-06T10:48:29.182839Z"
    }
   },
   "outputs": [],
   "source": [
    "show(all)"
   ]
  },
  {
   "cell_type": "code",
   "execution_count": null,
   "metadata": {
    "ExecuteTime": {
     "end_time": "2019-07-06T10:45:46.024949Z",
     "start_time": "2019-07-06T10:44:36.425268Z"
    }
   },
   "outputs": [],
   "source": [
    "j = join_rel_align_mean_series_incremental(all, mode=mode)\n",
    "j = name(j, \"my-CEFs\")\n",
    "#show(p, 'EDV', 'SPY', 'VXUS', 'FDN', 'IBB', 'AGG', 'GLD', 'MINT', cache=True, mode='NTR', trim=True, source=\"AV\")\n",
    "#show_dd(j, 'SPY', 'EDV', 'GLD', 'FDN', 'KWEB', 'JNK', mode=\"NTR\")\n",
    "jnk = get('JNK', mode=mode)\n",
    "r = name(j / jnk, \"cefs / junk\")\n",
    "show(, j, jnk)"
   ]
  },
  {
   "cell_type": "markdown",
   "metadata": {},
   "source": [
    "# Research"
   ]
  },
  {
   "cell_type": "code",
   "execution_count": null,
   "metadata": {
    "ExecuteTime": {
     "end_time": "2019-07-08T18:43:40.035738Z",
     "start_time": "2019-07-08T18:42:50.643710Z"
    }
   },
   "outputs": [],
   "source": [
    "analyze_cef('TSI')"
   ]
  },
  {
   "cell_type": "code",
   "execution_count": null,
   "metadata": {
    "ExecuteTime": {
     "end_time": "2018-10-25T08:45:58.541902Z",
     "start_time": "2018-10-25T08:45:58.436783Z"
    }
   },
   "outputs": [],
   "source": [
    "#cefs = cef_highyield_taxable  # cef_all, cef_highyield_taxable\n",
    "#all_y = get(set(cefs)-set(cefs_bad_yahoo), source=\"Y\", mode=\"NTR\")\n",
    "#all_av = get(cefs, source=\"AV\", trim=2000, mode=\"NTR\")\n",
    "#all_ = all_y\n",
    "\n",
    "#all_ = get(etfs.all_bonds, mode=\"NTR\")\n",
    "\n",
    "#all_ = get(etfs.all_bonds + cef_highyield_taxable, mode=\"NTR\")\n",
    "#all_ = list(set(etfs.all_bonds + cef_highyield_taxable) - set(cefs_bad_yahoo))\n",
    "#all_ = list(set(cef_old_and_new) - set(cefs_bad_yahoo))\n",
    "all_ = cefs.fixed_income\n",
    "#all_ = list(set(cef_highyield_taxable + cef_municipal_tax_exempt) - set(cefs_bad_yahoo))"
   ]
  },
  {
   "cell_type": "markdown",
   "metadata": {},
   "source": [
    "## Metadata"
   ]
  },
  {
   "cell_type": "code",
   "execution_count": null,
   "metadata": {
    "ExecuteTime": {
     "end_time": "2018-10-25T08:46:19.140042Z",
     "start_time": "2018-10-25T08:46:15.844460Z"
    }
   },
   "outputs": [],
   "source": [
    "pimco_cef = 'PCI|PDI|PCM|PTY|PHK|PKO|PGP|PFN|PCN|RCS|PFL'\n",
    "pimco_cef = pimco_cef.split('|')\n",
    "pimco_etf = 'MINT|BOND|HYS|STPZ|CORP|MFEM|MUNI|LTPZ|LDUR|ZROZ|TUZ|MFUS|SMMU|TIPZ|MFDX'\n",
    "pimco_etf = pimco_etf.split('|')\n",
    "\n",
    "bench = ['SPY', 'BND', 'JNK', 'PCEF', 'YYY', 'XMPT', 'FCEF', 'CEFS', 'MCEF', 'GCE'] # lev: CEFL\n",
    "#bench = get(bench, mode=\"NTR\")\n",
    "#bench = [name(s, f\"[[{s.name}]]\") for s in bench]\n",
    "#all = get(all_av + bench, start=2015, source=\"AV\")\n",
    "\n",
    "#all = get(all_ + bench, start=2015, source=\"AV\", mode=\"NTR\")\n",
    "all = get(all_, start=2015, source=\"AV\", mode=\"NTR\")\n",
    "#all = get(all_, start=2015)\n",
    "all_trim = get(all, trim=True)"
   ]
  },
  {
   "cell_type": "code",
   "execution_count": null,
   "metadata": {
    "ExecuteTime": {
     "end_time": "2018-10-25T08:46:22.740576Z",
     "start_time": "2018-10-25T08:46:22.386708Z"
    }
   },
   "outputs": [],
   "source": [
    "#show_rr(*all, ret_func=get_curr_yield_normal_no_fees, risk_func=lambda x: cef_meta(x, 'market_yield'), same_ratio=True)\n",
    "#show_rr(*all, ret_func=get_cef_curr_premium, risk_func=partial(cef_meta, fld='premium'), same_ratio=True)\n",
    "#show_rr(*all, ret_func=cagr, risk_func=partial(cef_meta, fld='expense_ratio'), same_ratio=False) # expense_ratio, non_lev_exp_ratio\n",
    "#show_rr(*all, ret_func=get_curr_yield_min2, risk_func=get_meta_fee, same_ratio=False) # expense_ratio, non_lev_exp_ratio\n",
    "#show_rr(*all, ret_func=get_curr_yield_normal_no_fees, risk_func=lambda x: cef_meta(x, 'duration'))\n",
    "#show_rr(*all, ret_func=stdmret, risk_func=partial(cef_meta, fld='total_leverage'), same_ratio=False)\n",
    "#show_rr(*all, ret_func=get_cef_roc_3y, risk_func=get_cef_nav_loss_2010)\n",
    "#show_rr(*all, ret_func=get_meta_fee, risk_func=get_cef_nav_loss_2010)\n",
    "#show_rr(*all, ret_func=get_cef_curr_premium, risk_func=get_cef_curr_nav_yield_no_fees, same_ratio=False, lr_fit=True)\n",
    "#show_rr(*all, ret_func=get_cef_curr_premium, risk_func=get_curr_yield_true_no_fees, same_ratio=False, lr_fit=True)\n"
   ]
  },
  {
   "cell_type": "markdown",
   "metadata": {},
   "source": [
    "## Average Premium over time\n",
    "- most of the time the CEFs are at a discount, with a mean of ~5%\n",
    "- We are currently very close to the mean discount, that is overall, CEF are trading as usual"
   ]
  },
  {
   "cell_type": "code",
   "execution_count": null,
   "metadata": {
    "ExecuteTime": {
     "end_time": "2018-10-25T08:47:42.958835Z",
     "start_time": "2018-10-25T08:47:39.982794Z"
    }
   },
   "outputs": [],
   "source": [
    "prems = lmap(get_cef_premium, all_)\n",
    "prems = [s for s in prems if not s is None] # failed NAVs\n",
    "prems = [s for s in prems if np.max(s) < 1000] # noisy data\n",
    "median_premium = median_series(prems, align=False)\n",
    "mean_premium = mean_series(prems, align=False)\n",
    "show(median_premium, mean_premium, median_premium[-1], mean_premium[-1], (np.nanmedian(median_premium), \"median\"), ta=False)"
   ]
  },
  {
   "cell_type": "markdown",
   "metadata": {},
   "source": [
    "## Average z-score over time\n",
    "- Using a rolling 3-year window\n",
    "- We are currently at an average 0 z-score"
   ]
  },
  {
   "cell_type": "code",
   "execution_count": null,
   "metadata": {
    "ExecuteTime": {
     "end_time": "2018-10-25T08:48:49.794012Z",
     "start_time": "2018-10-25T08:48:47.450809Z"
    }
   },
   "outputs": [],
   "source": [
    "zscores = lmap(get_cef_zscore, all_)\n",
    "zscores = [s for s in zscores if not s is None]\n",
    "zscores_mean = mean_series(zscores, align=False)\n",
    "show(zscores_mean, zscores_mean[-1], ta=False)"
   ]
  },
  {
   "cell_type": "markdown",
   "metadata": {},
   "source": [
    "## Relation between premium and yield\n",
    "- looking at the **current** premium and **current** yield, there seems to be no relation for the discounted CEFs, while the ones at a premium tend to have higher yield with higher premium"
   ]
  },
  {
   "cell_type": "code",
   "execution_count": null,
   "metadata": {
    "ExecuteTime": {
     "end_time": "2018-10-25T08:51:34.434607Z",
     "start_time": "2018-10-25T08:50:55.922574Z"
    }
   },
   "outputs": [],
   "source": [
    "show_rr(*all_, ret_func=get_cef_cur_nav_yield, risk_func=get_cef_curr_premium)\n",
    "show_rr(*all_, ret_func=get_curr_yield_min2, risk_func=get_cef_curr_premium)"
   ]
  },
  {
   "cell_type": "code",
   "execution_count": null,
   "metadata": {
    "ExecuteTime": {
     "end_time": "2018-10-25T08:53:05.871463Z",
     "start_time": "2018-10-25T08:52:35.720940Z"
    }
   },
   "outputs": [],
   "source": [
    "show_rr(*all_, ret_func=get_curr_yield_min2, risk_func=get_cef_curr_zscore)"
   ]
  },
  {
   "cell_type": "code",
   "execution_count": null,
   "metadata": {
    "ExecuteTime": {
     "end_time": "2018-10-25T08:56:24.941862Z",
     "start_time": "2018-10-25T08:56:19.164715Z"
    }
   },
   "outputs": [],
   "source": [
    "all = get(all_, start=2015, trim=True, mode='NTR')\n",
    "show_rr(*all, ret_func=cagr, risk_func=get_start_yield_normal)"
   ]
  },
  {
   "cell_type": "code",
   "execution_count": null,
   "metadata": {
    "ExecuteTime": {
     "end_time": "2018-10-25T08:56:01.352326Z",
     "start_time": "2018-10-25T08:55:58.210413Z"
    }
   },
   "outputs": [],
   "source": [
    "all = get(all_, start=2003, trim=True, mode='NTR')\n",
    "show_rr(*all, ret_func=cagr, risk_func=get_cef_start_premium)"
   ]
  },
  {
   "cell_type": "markdown",
   "metadata": {},
   "source": [
    "## Bulding a CEF index all the way back to 1980\n",
    "We use the CEFs data to construct an \"index\" composed of all of the existing CEFs at any given time point, held in equal weight.  \n",
    "AlphaVantage price data goes back to 1995 while it's dividends data only goes back to 2000 (creating a distortion between 1995-2000), while Yahoo data goes fully back to 1980 but is somewhat corrupt, so we ignore a few corrupt CEFs."
   ]
  },
  {
   "cell_type": "code",
   "execution_count": null,
   "metadata": {
    "ExecuteTime": {
     "end_time": "2018-10-25T09:11:33.895865Z",
     "start_time": "2018-10-25T09:11:33.075510Z"
    }
   },
   "outputs": [],
   "source": [
    "all_y = get(all_)\n",
    "all_av = all_y"
   ]
  },
  {
   "cell_type": "code",
   "execution_count": null,
   "metadata": {
    "ExecuteTime": {
     "end_time": "2018-10-25T08:59:03.380151Z",
     "start_time": "2018-10-25T08:58:45.990399Z"
    }
   },
   "outputs": [],
   "source": [
    "# compare Yahoo vs AlphaVantage reconstruction for sanity\n",
    "cef_highyield_taxable_ntr_yahoo = join_rel_align_mean_series_incremental(all_y, mode=\"NTR\")\n",
    "cef_highyield_taxable_ntr_av = join_rel_align_mean_series_incremental(all_av, mode=\"NTR\")\n",
    "show(cef_highyield_taxable_ntr_yahoo, cef_highyield_taxable_ntr_av, ta='rel')"
   ]
  },
  {
   "cell_type": "code",
   "execution_count": null,
   "metadata": {
    "ExecuteTime": {
     "end_time": "2018-10-25T09:00:39.535048Z",
     "start_time": "2018-10-25T09:00:12.997715Z"
    }
   },
   "outputs": [],
   "source": [
    "# build the \"index\", with PR, NTR, and TR versions\n",
    "cef_pr  = join_rel_align_mean_series_incremental(all_y, mode=\"PR\")\n",
    "cef_ntr = join_rel_align_mean_series_incremental(all_y, mode=\"NTR\")\n",
    "cef_tr  = join_rel_align_mean_series_incremental(all_y, mode=\"TR\")"
   ]
  },
  {
   "cell_type": "code",
   "execution_count": null,
   "metadata": {
    "ExecuteTime": {
     "end_time": "2018-09-20T11:57:42.358551Z",
     "start_time": "2018-09-20T11:56:36.715546Z"
    }
   },
   "outputs": [],
   "source": [
    "# view how the various incremental construction differ. The final result always uses the maximum data available\n",
    "# interesting note: the older constructions (built with older CEFs) outperform the latest, \n",
    "# this might be a symptom over survivorship bias, which on aggregate has a X2 factor on performance\n",
    "show_mean_series_incremental(all_y)"
   ]
  },
  {
   "cell_type": "markdown",
   "metadata": {},
   "source": [
    "## Analyze price decline\n",
    "We look at the price trend of our CEFs index.  \n",
    "Ideally we would expect a steady state without a decline or incline trend, as the base holdings are mostly bonds with full payout of dividends, but we find an almost consistent **decline of 1%-1.5%**, which matches perfectly the the high average **management fees** these CEFs charge of **~1.5%**.  \n",
    "We will later use this figure to evaluate true net yield."
   ]
  },
  {
   "cell_type": "code",
   "execution_count": null,
   "metadata": {
    "ExecuteTime": {
     "end_time": "2018-10-25T09:00:39.738571Z",
     "start_time": "2018-10-25T09:00:39.537557Z"
    }
   },
   "outputs": [],
   "source": [
    "cagr(lr(cef_pr))\n",
    "cagr(lr(cef_pr[\"1985\":]))\n",
    "pcef = align(pr(PCEF))\n",
    "cagr(lr(pcef))\n",
    "yyy = align(pr(YYY))\n",
    "cagr(lr(yyy))\n",
    "cef_metadata_df[\"expense_ratio\"].median()\n",
    "cef_metadata_df[\"expense_ratio\"].mean()\n",
    "price_decline_cagr = 1.5 # we set the price decline cagr as an estimate"
   ]
  },
  {
   "cell_type": "code",
   "execution_count": null,
   "metadata": {
    "ExecuteTime": {
     "end_time": "2018-10-25T09:00:41.038459Z",
     "start_time": "2018-10-25T09:00:39.749364Z"
    }
   },
   "outputs": [],
   "source": [
    "show(1, lr(cef_pr[\"1985\":]), cef_pr, lr(pcef), pcef, lr(yyy), yyy, ta=False)"
   ]
  },
  {
   "cell_type": "code",
   "execution_count": null,
   "metadata": {
    "ExecuteTime": {
     "end_time": "2018-10-25T09:03:39.413407Z",
     "start_time": "2018-10-25T09:03:33.912078Z"
    }
   },
   "outputs": [],
   "source": [
    "er = 1.0\n",
    "items = [s for s in all_ if er-0.5 < get_cef_meta(s, \"non_lev_exp_ratio\") <= er]\n",
    "len(items)\n",
    "items = get(set(items)-set(cefs_bad_yahoo), source=\"Y\", mode=\"NTR\")\n",
    "items_pr  = join_rel_align_mean_series_incremental(items, mode=\"PR\")\n"
   ]
  },
  {
   "cell_type": "code",
   "execution_count": null,
   "metadata": {
    "ExecuteTime": {
     "end_time": "2018-10-25T09:03:41.351900Z",
     "start_time": "2018-10-25T09:03:40.216720Z"
    }
   },
   "outputs": [],
   "source": [
    "cagr(lr(items_pr[\"2004\":]))\n",
    "cagr(lr(items_pr[\"1985\":]))\n",
    "show(items_pr, lr(items_pr[\"2004\":]), lr(items_pr[\"1985\":]), ta=False)"
   ]
  },
  {
   "cell_type": "code",
   "execution_count": null,
   "metadata": {
    "ExecuteTime": {
     "end_time": "2018-10-25T09:04:39.003729Z",
     "start_time": "2018-10-25T09:04:38.318971Z"
    }
   },
   "outputs": [],
   "source": [
    "# also look at the long term rolling price cagr as an indication\n",
    "rets = mcagr(cef_pr, n=365*17)\n",
    "show(0, rets, np.median(rets), ta=False)"
   ]
  },
  {
   "cell_type": "markdown",
   "metadata": {},
   "source": [
    "## Yield vs future-returns\n",
    "We examine the relationship between the current yield, and the future 7-year return. We use NTR returns, and net yield with a reduction of fees.  \n",
    "We find that yield is a **very strong** indicator of actual future returns, except for lower returns due to unpredicted crashes.  \n",
    "The current level of net yield minus fees, is a **historically low** ___3.36%___, not boding well for future returns for the index."
   ]
  },
  {
   "cell_type": "code",
   "execution_count": null,
   "metadata": {
    "ExecuteTime": {
     "end_time": "2018-10-25T09:05:11.614249Z",
     "start_time": "2018-10-25T09:05:07.822792Z"
    }
   },
   "outputs": [],
   "source": [
    "yld_nav = lmap(get_cef_nav_yield, all_y)\n",
    "yld_nav = [s for s in yld_nav if not s is None]\n"
   ]
  },
  {
   "cell_type": "code",
   "execution_count": null,
   "metadata": {
    "ExecuteTime": {
     "end_time": "2018-10-25T09:05:14.291373Z",
     "start_time": "2018-10-25T09:05:14.222754Z"
    }
   },
   "outputs": [],
   "source": [
    "cef_yield_nav = mean_series(yld_nav, align=False).sname(\"mean net NAV yield net of fees\")\n",
    "cef_yield_nav = cef_yield_nav[\"2000\":]"
   ]
  },
  {
   "cell_type": "code",
   "execution_count": null,
   "metadata": {
    "ExecuteTime": {
     "end_time": "2018-10-25T09:11:33.067588Z",
     "start_time": "2018-10-25T09:08:13.680394Z"
    }
   },
   "outputs": [],
   "source": [
    "frets = lmap(partial(mcagr_future, years=7), get(all_y))\n",
    "med_frets = median_series(frets, align=False).sname(\"median future net cagr\")\n",
    "#cef_highyield_taxable_tr_fret = mcagr_future(cef_highyield_taxable_ntr, years=7)\n"
   ]
  },
  {
   "cell_type": "code",
   "execution_count": null,
   "metadata": {
    "ExecuteTime": {
     "end_time": "2018-10-25T09:21:17.972439Z",
     "start_time": "2018-10-25T09:21:14.534039Z"
    }
   },
   "outputs": [],
   "source": [
    "yld = lmap(partial(get_yield_live, type='normal'), all_y)"
   ]
  },
  {
   "cell_type": "code",
   "execution_count": null,
   "metadata": {
    "ExecuteTime": {
     "end_time": "2018-10-25T09:21:18.361401Z",
     "start_time": "2018-10-25T09:21:17.974513Z"
    }
   },
   "outputs": [],
   "source": [
    "#yld = lmap(get_yield_rolling, all_y)\n",
    "#start = min([x.index[0] for x in yld if len(x) > 0])\n",
    "#end = max([x.index[-1] for x in yld if len(x) > 0])\n",
    "#index = pd.date_range(start, end, freq=\"M\")\n",
    "#yld = [x.reindex(index).interpolate().dropna() for x in yld]\n",
    "cef_yield = mean_series(yld, align=False).sname(\"mean net yield net of fees\")"
   ]
  },
  {
   "cell_type": "code",
   "execution_count": null,
   "metadata": {
    "ExecuteTime": {
     "end_time": "2018-10-25T09:21:19.565640Z",
     "start_time": "2018-10-25T09:21:19.053900Z"
    }
   },
   "outputs": [],
   "source": [
    "show(0, med_frets, cef_yield, cef_yield_nav, cef_yield[-1], ta=False)"
   ]
  },
  {
   "cell_type": "markdown",
   "metadata": {},
   "source": [
    "## Compare to other yields\n",
    "- Even something as simple as JNK yields more net of fees, compared to PCEF / our mean index\n",
    "- We do get slightly more yield from YYY, as it's yield weighted, with added risk"
   ]
  },
  {
   "cell_type": "code",
   "execution_count": null,
   "metadata": {
    "ExecuteTime": {
     "end_time": "2018-10-25T09:22:41.482394Z",
     "start_time": "2018-10-25T09:22:40.226137Z"
    }
   },
   "outputs": [],
   "source": [
    "show(0, cef_yield, get_yield_rolling(ntr(YYY)), get_yield_rolling(ntr(PCEF)), get_yield_rolling(ntr(cjb))-0.23, get_yield_rolling(ntr(JNK)), ta=False)"
   ]
  },
  {
   "cell_type": "code",
   "execution_count": null,
   "metadata": {
    "ExecuteTime": {
     "end_time": "2018-10-25T09:23:03.318952Z",
     "start_time": "2018-10-25T09:23:02.437269Z"
    }
   },
   "outputs": [],
   "source": [
    "cagr(lr(pr(cjb)[\"2003\":])) # current expense ratio is 0.23%\n",
    "cagr(lr(pr(JNK))) # current expsense ratio is 0.4%\n",
    "show(pr(cjb), lr(pr(cjb)[\"2003\":]), pr(JNK), lr(pr(JNK)), ta=False)"
   ]
  },
  {
   "cell_type": "markdown",
   "metadata": {},
   "source": [
    "## Yield vs fed-rate and inflation"
   ]
  },
  {
   "cell_type": "code",
   "execution_count": null,
   "metadata": {
    "ExecuteTime": {
     "end_time": "2018-10-25T09:23:08.802147Z",
     "start_time": "2018-10-25T09:23:07.479445Z"
    }
   },
   "outputs": [],
   "source": [
    "show(0, fedRate, get_inflation(365), cef_yield, align=False, trim=1980, trim_end=False)"
   ]
  },
  {
   "cell_type": "markdown",
   "metadata": {},
   "source": [
    "## Compare vs Major indices"
   ]
  },
  {
   "cell_type": "code",
   "execution_count": null,
   "metadata": {
    "ExecuteTime": {
     "end_time": "2018-10-25T09:25:41.027205Z",
     "start_time": "2018-10-25T09:25:39.885614Z"
    }
   },
   "outputs": [],
   "source": [
    "# all = get(cef_highyield_taxable, start=2008, trim=False, mode='NTR')\n",
    "# ss1 = mean_series_perf(all)\n",
    "# ss2 = mean_series(all, align=True)\n",
    "show(cef_ntr, ntr(YYY), ntr(PCEF), ntr(SPY), ntr(i_ac), ta='rel')"
   ]
  },
  {
   "cell_type": "markdown",
   "metadata": {},
   "source": [
    "## PIMCO CEFs and ETFs"
   ]
  },
  {
   "cell_type": "code",
   "execution_count": null,
   "metadata": {
    "ExecuteTime": {
     "end_time": "2018-10-25T09:26:03.530684Z",
     "start_time": "2018-10-25T09:26:03.356273Z"
    }
   },
   "outputs": [],
   "source": [
    "all_ = get(pimco_cef, mode=\"NTR\", start=2015, trim=True)"
   ]
  },
  {
   "cell_type": "code",
   "execution_count": null,
   "metadata": {
    "ExecuteTime": {
     "end_time": "2018-10-25T09:26:08.003096Z",
     "start_time": "2018-10-25T09:26:05.955763Z"
    }
   },
   "outputs": [],
   "source": [
    "#show_cef_premium(*pimco_cef)\n",
    "show(lmap(partial(get_cef_premium, source=\"Y\"), pimco_cef), ta=False)"
   ]
  },
  {
   "cell_type": "code",
   "execution_count": null,
   "metadata": {
    "ExecuteTime": {
     "end_time": "2018-10-25T09:27:08.196650Z",
     "start_time": "2018-10-25T09:27:03.744485Z"
    }
   },
   "outputs": [],
   "source": [
    "#analyze_assets(*all_, start=2015)\n",
    "show_rr(*all_, ret_func=get_curr_yield_normal_no_fees, risk_func=get_cef_nav_loss_2010)\n",
    "\n",
    "show_rr(*all_, ret_func=get_cef_curr_premium, risk_func=get_cef_curr_nav_yield_no_fees)\n",
    "show_rr(*all_, ret_func=get_cef_curr_premium, risk_func=get_cef_cur_nav_yield)\n",
    "show_rr(*all_, ret_func=get_cef_curr_premium, risk_func=get_curr_yield_rolling)"
   ]
  },
  {
   "cell_type": "markdown",
   "metadata": {},
   "source": [
    "## Analyze all"
   ]
  },
  {
   "cell_type": "code",
   "execution_count": null,
   "metadata": {
    "ExecuteTime": {
     "end_time": "2018-09-23T11:34:32.327373Z",
     "start_time": "2018-09-23T11:28:57.249387Z"
    }
   },
   "outputs": [],
   "source": [
    "analyze_assets(*all, start=YYY)"
   ]
  },
  {
   "cell_type": "markdown",
   "metadata": {
    "ExecuteTime": {
     "end_time": "2018-09-23T09:17:54.859059Z",
     "start_time": "2018-09-23T09:17:54.785299Z"
    }
   },
   "source": [
    "## Specific CEF"
   ]
  },
  {
   "cell_type": "markdown",
   "metadata": {},
   "source": [
    "## Median NAV"
   ]
  },
  {
   "cell_type": "code",
   "execution_count": null,
   "metadata": {
    "ExecuteTime": {
     "end_time": "2018-10-25T09:29:27.582221Z",
     "start_time": "2018-10-25T09:29:23.387203Z"
    }
   },
   "outputs": [],
   "source": [
    "lst = [JPS, JPC, JPI, LDP, FFC, DFP, FLC, PDT, HPS, HPI, HPF, FPF, PSF]\n",
    "lst = [BBN, GBAB, NBB, NBD]\n",
    "lst = [PCI, PDI, PCM ,DBL, DMO]\n",
    "lst = [JPS, FPF,  BBN, GBAB,  DBL, DMO,  HYT, DSL, AWF, BTZ, PFN] # MCI, TSI\n",
    "lst = [JPS, GBAB, PAI, BHK]\n",
    "lst = lmap(get_cef_nav, lst)\n",
    "mean = join_rel_align_mean_series_incremental(lst, mode=None)\n",
    "median = join_rel_align_median_series_incremental(lst, mode=None)\n",
    "show(median, mean, ta=False)\n",
    "show(mcagr(mean, 365*2), ta=False)"
   ]
  },
  {
   "cell_type": "code",
   "execution_count": null,
   "metadata": {},
   "outputs": [],
   "source": []
  }
 ],
 "metadata": {
  "kernelspec": {
   "display_name": "Python 3",
   "language": "python",
   "name": "python3"
  },
  "language_info": {
   "codemirror_mode": {
    "name": "ipython",
    "version": 3
   },
   "file_extension": ".py",
   "mimetype": "text/x-python",
   "name": "python",
   "nbconvert_exporter": "python",
   "pygments_lexer": "ipython3",
   "version": "3.6.7"
  },
  "varInspector": {
   "cols": {
    "lenName": 16,
    "lenType": 16,
    "lenVar": 40
   },
   "kernels_config": {
    "python": {
     "delete_cmd_postfix": "",
     "delete_cmd_prefix": "del ",
     "library": "var_list.py",
     "varRefreshCmd": "print(var_dic_list())"
    },
    "r": {
     "delete_cmd_postfix": ") ",
     "delete_cmd_prefix": "rm(",
     "library": "var_list.r",
     "varRefreshCmd": "cat(var_dic_list()) "
    }
   },
   "types_to_exclude": [
    "module",
    "function",
    "builtin_function_or_method",
    "instance",
    "_Feature"
   ],
   "window_display": false
  }
 },
 "nbformat": 4,
 "nbformat_minor": 2
}
