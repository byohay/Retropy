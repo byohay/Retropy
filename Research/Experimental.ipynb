{
 "cells": [
  {
   "cell_type": "code",
   "execution_count": null,
   "metadata": {
    "ExecuteTime": {
     "end_time": "2018-09-17T09:21:43.223344Z",
     "start_time": "2018-09-17T09:21:43.029820Z"
    }
   },
   "outputs": [],
   "source": [
    "%run -i \"../Retropy_framework.py\""
   ]
  },
  {
   "cell_type": "markdown",
   "metadata": {},
   "source": [
    "## Mean/Median series\n",
    "- mean_series - this is what we usually want, but it's hard to calculate for a set of series with different scales and start/end dates\n",
    "- mean_series_perf - this is easy to calculate, and is fairly similar to mean_series\n",
    "- median_series - will work similar to mean_series for many series, but very differently for a few\n",
    "- median_series_perf - is reasonably similar to median_series, but might not be useful at all"
   ]
  },
  {
   "cell_type": "code",
   "execution_count": null,
   "metadata": {
    "ExecuteTime": {
     "end_time": "2018-09-17T09:21:47.464153Z",
     "start_time": "2018-09-17T09:21:44.073680Z"
    }
   },
   "outputs": [],
   "source": [
    "lst = get([GLD, SPY, i_ac], trim=True)\n",
    "show(*lst, median_series(lst, align=True), mean_series(lst, align=True), median_series_perf(lst), mean_series_perf(lst), ta=False)"
   ]
  },
  {
   "cell_type": "markdown",
   "metadata": {},
   "source": [
    "## despike risk-return"
   ]
  },
  {
   "cell_type": "code",
   "execution_count": null,
   "metadata": {
    "ExecuteTime": {
     "end_time": "2018-09-01T18:48:59.749658Z",
     "start_time": "2018-09-01T18:48:55.630468Z"
    }
   },
   "outputs": [],
   "source": [
    "# we should despike by default to avoid vast mistakes like ANGL\n",
    "# but there are no \"right\" answers since despike also removes some true data\n",
    "\n",
    "all = assets_core + [\"ANGL\"]\n",
    "#r = reduce_series([BND], y_func=[compose(cagr, price), cagr], x_func=ulcer)\n",
    "#r = reduce_series([BND], g_func=[price, get], y_func=cagr, x_func=ulcer)\n",
    "#r = reduce_series(all, g_func=[ft.partial(get, despike=False), get], y_func=cagr, x_func=ulcer)\n",
    "\n",
    "show_risk_return2(*all, g_func=[ft.partial(get, despike=False), ft.partial(get, despike=True)])"
   ]
  },
  {
   "cell_type": "markdown",
   "metadata": {},
   "source": [
    "## currency exposure"
   ]
  },
  {
   "cell_type": "code",
   "execution_count": null,
   "metadata": {},
   "outputs": [],
   "source": [
    "lst = lmap(partial(lrret_beta, X=usdBroad, pvalue=True), all)\n",
    "df = pd.DataFrame(list(zip(*lst))).T\n",
    "df.index = map(get_name, all)\n",
    "df.columns = [\"beta\", \"pvalue\"]\n",
    "df = df[df.pvalue<=0.05].sort_values(\"beta\")\n",
    "df"
   ]
  },
  {
   "cell_type": "code",
   "execution_count": null,
   "metadata": {},
   "outputs": [],
   "source": [
    "for x, y in df[\"beta\"].iteritems():\n",
    "    print(x, y)"
   ]
  },
  {
   "cell_type": "code",
   "execution_count": null,
   "metadata": {},
   "outputs": [],
   "source": [
    "lrret(VXUS, usdBroad, fit_values=False, pos_weights=False, sum1=False)\n",
    "lrret_beta(VXUS, usdBroad)"
   ]
  },
  {
   "cell_type": "markdown",
   "metadata": {},
   "source": [
    "## portfolio flow"
   ]
  },
  {
   "cell_type": "code",
   "execution_count": null,
   "metadata": {
    "ExecuteTime": {
     "end_time": "2018-09-02T08:46:29.852935Z",
     "start_time": "2018-09-02T08:46:26.174899Z"
    }
   },
   "outputs": [],
   "source": [
    "show_port_with_flow(gb, rate=0.05, inf=0, income_smooth=3)"
   ]
  },
  {
   "cell_type": "code",
   "execution_count": null,
   "metadata": {
    "ExecuteTime": {
     "end_time": "2018-09-02T08:46:31.774407Z",
     "start_time": "2018-09-02T08:46:29.855362Z"
    }
   },
   "outputs": [],
   "source": [
    "show_port_flow_comp(SPY, BDCL)"
   ]
  },
  {
   "cell_type": "markdown",
   "metadata": {},
   "source": [
    "## Rebalance"
   ]
  },
  {
   "cell_type": "code",
   "execution_count": null,
   "metadata": {
    "ExecuteTime": {
     "end_time": "2018-09-03T18:15:27.987367Z",
     "start_time": "2018-09-03T18:15:06.936026Z"
    }
   },
   "outputs": [],
   "source": [
    "show_risk_return(mix(gb, \"SPY\", do_get=True, mode=\"PR\"), mix(gb, \"SPY\", do_get=True, mode=\"NTR\"), mix(gb, \"SPY\", do_get=True, mode=\"TR\"), mix(gb, \"SPY\", do_get=True, mode=\"NTR\", rebal=\"day\"), mix(gb, \"SPY\", do_get=True, mode=\"TR\", rebal=\"day\"), mix(gb, \"SPY\", do_get=True, mode=\"PR\", rebal=\"day\"))"
   ]
  },
  {
   "cell_type": "code",
   "execution_count": null,
   "metadata": {
    "ExecuteTime": {
     "end_time": "2018-09-03T18:16:02.518217Z",
     "start_time": "2018-09-03T18:15:59.056409Z"
    }
   },
   "outputs": [],
   "source": [
    "show_rolling_beta(get(\"SPY:50|BND:50\", rebal=\"none\"), [\"SPY\", \"BND\"], window=10)\n",
    "show_rolling_beta(get(\"SPY:50|BND:50\", rebal=\"day\"), [\"SPY\", \"BND\"], window=10)"
   ]
  },
  {
   "cell_type": "markdown",
   "metadata": {},
   "source": [
    "## Generate"
   ]
  },
  {
   "cell_type": "code",
   "execution_count": null,
   "metadata": {},
   "outputs": [],
   "source": [
    "\n",
    "n = 500\n",
    "x = np.cumprod(np.random.normal(size=n)/100+1)\n",
    "dt = pd.date_range(start='1/1/2017', periods=n)\n",
    "s = pd.Series(x, dt)\n",
    "show(s)"
   ]
  }
 ],
 "metadata": {
  "kernelspec": {
   "display_name": "Python [conda env:retropy]",
   "language": "python",
   "name": "conda-env-retropy-py"
  },
  "language_info": {
   "codemirror_mode": {
    "name": "ipython",
    "version": 3
   },
   "file_extension": ".py",
   "mimetype": "text/x-python",
   "name": "python",
   "nbconvert_exporter": "python",
   "pygments_lexer": "ipython3",
   "version": "3.6.7"
  }
 },
 "nbformat": 4,
 "nbformat_minor": 2
}
