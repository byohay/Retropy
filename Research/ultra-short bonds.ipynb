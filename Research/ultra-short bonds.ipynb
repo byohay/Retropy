{
 "cells": [
  {
   "cell_type": "code",
   "execution_count": null,
   "metadata": {
    "ExecuteTime": {
     "end_time": "2019-07-07T13:12:17.940725Z",
     "start_time": "2019-07-07T13:12:16.190844Z"
    }
   },
   "outputs": [],
   "source": [
    "%run retropy.ipynb"
   ]
  },
  {
   "cell_type": "markdown",
   "metadata": {},
   "source": [
    "- MINT: is probalby the best overall, or very close\n",
    "- GSY, NEAR - are contenders\n",
    "- NEAR has for some reason great short lending rates, and is comprable to MINT in the past year"
   ]
  },
  {
   "cell_type": "code",
   "execution_count": null,
   "metadata": {
    "ExecuteTime": {
     "end_time": "2019-07-07T13:18:08.018688Z",
     "start_time": "2019-07-07T13:18:07.898287Z"
    }
   },
   "outputs": [],
   "source": [
    "cash_like = ['TFLO', 'SHV', 'BIL']\n",
    "ultra_short_bonds = ['MINT', 'NEAR', 'FLOT', 'GSY', 'ICSH', 'FLRN', 'VCSH'] # , 'FTSM'\n",
    "all  = ultra_short_bonds + cash_like\n",
    "_all = get(all, source=\"Y\", mode=\"NTR\")"
   ]
  },
  {
   "cell_type": "code",
   "execution_count": null,
   "metadata": {
    "ExecuteTime": {
     "end_time": "2019-07-07T13:18:08.621383Z",
     "start_time": "2019-07-07T13:18:08.128889Z"
    }
   },
   "outputs": [],
   "source": [
    "show_aum(*all, cache=True)"
   ]
  },
  {
   "cell_type": "code",
   "execution_count": null,
   "metadata": {
    "ExecuteTime": {
     "end_time": "2019-07-07T13:18:09.681004Z",
     "start_time": "2019-07-07T13:18:08.655902Z"
    }
   },
   "outputs": [],
   "source": [
    "show(_all)"
   ]
  },
  {
   "cell_type": "code",
   "execution_count": null,
   "metadata": {
    "ExecuteTime": {
     "end_time": "2019-07-07T13:18:09.756288Z",
     "start_time": "2019-07-07T13:18:09.682854Z"
    }
   },
   "outputs": [],
   "source": [
    "icsh = get('ICSH', mode=\"NTR\", source=\"Y\")\n",
    "near = get('NEAR', mode=\"NTR\", source=\"Y\")\n",
    "mint = get('MINT', mode=\"NTR\", source=\"Y\")\n"
   ]
  },
  {
   "cell_type": "code",
   "execution_count": null,
   "metadata": {
    "ExecuteTime": {
     "end_time": "2019-07-07T13:18:10.139122Z",
     "start_time": "2019-07-07T13:18:09.757918Z"
    }
   },
   "outputs": [],
   "source": [
    "show(near, mint, icsh)"
   ]
  },
  {
   "cell_type": "code",
   "execution_count": null,
   "metadata": {
    "ExecuteTime": {
     "end_time": "2019-07-07T13:18:10.413517Z",
     "start_time": "2019-07-07T13:18:10.141034Z"
    }
   },
   "outputs": [],
   "source": [
    "show(near/mint, icsh/mint)"
   ]
  },
  {
   "cell_type": "code",
   "execution_count": null,
   "metadata": {
    "ExecuteTime": {
     "end_time": "2019-07-07T13:18:10.669538Z",
     "start_time": "2019-07-07T13:18:10.415167Z"
    }
   },
   "outputs": [],
   "source": [
    "show_aum(mint, near, icsh)"
   ]
  },
  {
   "cell_type": "code",
   "execution_count": null,
   "metadata": {
    "ExecuteTime": {
     "end_time": "2019-07-07T13:18:11.672891Z",
     "start_time": "2019-07-07T13:18:10.672360Z"
    }
   },
   "outputs": [],
   "source": [
    "rel = [(x / mint) for x in _all]\n",
    "show(rel)"
   ]
  },
  {
   "cell_type": "code",
   "execution_count": null,
   "metadata": {
    "ExecuteTime": {
     "end_time": "2019-07-07T13:18:24.502805Z",
     "start_time": "2019-07-07T13:18:24.440877Z"
    }
   },
   "outputs": [],
   "source": [
    "# show_modes_comp(NEAR, MINT)"
   ]
  },
  {
   "cell_type": "code",
   "execution_count": null,
   "metadata": {
    "ExecuteTime": {
     "end_time": "2019-07-07T13:18:25.661082Z",
     "start_time": "2019-07-07T13:18:25.599046Z"
    }
   },
   "outputs": [],
   "source": [
    "# cash_like = [TFLO, SHV, BIL]\n",
    "# ultra_short_bonds = [MINT, NEAR, FLOT, GSY, ICSH, FLRN, FTSM]\n",
    "# all  = ultra_short_bonds + cash_like\n",
    "# analyze_assets(*all, few=True)"
   ]
  },
  {
   "cell_type": "code",
   "execution_count": null,
   "metadata": {
    "ExecuteTime": {
     "end_time": "2019-07-07T13:19:50.144051Z",
     "start_time": "2019-07-07T13:18:37.522651Z"
    }
   },
   "outputs": [],
   "source": [
    "publish()"
   ]
  },
  {
   "cell_type": "code",
   "execution_count": null,
   "metadata": {},
   "outputs": [],
   "source": []
  }
 ],
 "metadata": {
  "kernelspec": {
   "display_name": "Python 3",
   "language": "python",
   "name": "python3"
  },
  "language_info": {
   "codemirror_mode": {
    "name": "ipython",
    "version": 3
   },
   "file_extension": ".py",
   "mimetype": "text/x-python",
   "name": "python",
   "nbconvert_exporter": "python",
   "pygments_lexer": "ipython3",
   "version": "3.6.7"
  },
  "varInspector": {
   "cols": {
    "lenName": 16,
    "lenType": 16,
    "lenVar": 40
   },
   "kernels_config": {
    "python": {
     "delete_cmd_postfix": "",
     "delete_cmd_prefix": "del ",
     "library": "var_list.py",
     "varRefreshCmd": "print(var_dic_list())"
    },
    "r": {
     "delete_cmd_postfix": ") ",
     "delete_cmd_prefix": "rm(",
     "library": "var_list.r",
     "varRefreshCmd": "cat(var_dic_list()) "
    }
   },
   "types_to_exclude": [
    "module",
    "function",
    "builtin_function_or_method",
    "instance",
    "_Feature"
   ],
   "window_display": false
  }
 },
 "nbformat": 4,
 "nbformat_minor": 2
}
