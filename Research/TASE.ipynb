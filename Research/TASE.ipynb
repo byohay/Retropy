{
 "cells": [
  {
   "cell_type": "code",
   "execution_count": null,
   "metadata": {
    "ExecuteTime": {
     "end_time": "2019-05-01T19:07:51.044165Z",
     "start_time": "2019-05-01T19:07:48.264131Z"
    }
   },
   "outputs": [],
   "source": [
    "%run retropy.ipynb"
   ]
  },
  {
   "cell_type": "code",
   "execution_count": null,
   "metadata": {
    "ExecuteTime": {
     "end_time": "2019-05-01T19:07:52.873622Z",
     "start_time": "2019-05-01T19:07:51.548618Z"
    }
   },
   "outputs": [],
   "source": [
    "all = get(ta_bonds + ta_corpBonds + ['AGG', cb, gb, gcb], start=2008, trim=True, mode=\"TR\")\n",
    "_ta35, _taMakam, _taBonds = trimBy([ta35, taMakam, taBonds], all)\n",
    "\n",
    "showRiskReturn(*all)\n",
    "#showRiskReturn(mix(_ta35, _taMakam, do_get=False), mix(_ta35, _taBonds, do_get=False))"
   ]
  },
  {
   "cell_type": "code",
   "execution_count": null,
   "metadata": {
    "ExecuteTime": {
     "end_time": "2019-05-01T19:08:01.072905Z",
     "start_time": "2019-05-01T19:07:59.964379Z"
    }
   },
   "outputs": [],
   "source": [
    "all = get(ta_all, start=2007, trim=True)\n",
    "_ta35, _taMakam, _taBonds = trimBy([ta35, taMakam, taBonds], all)\n",
    "\n",
    "showRiskReturn(*all)\n",
    "showRiskReturn(mix(_ta35, _taMakam), mix(_ta35, _taBonds))"
   ]
  },
  {
   "cell_type": "code",
   "execution_count": null,
   "metadata": {
    "ExecuteTime": {
     "end_time": "2019-05-01T19:10:32.126725Z",
     "start_time": "2019-05-01T19:10:29.552233Z"
    }
   },
   "outputs": [],
   "source": [
    "show(all)"
   ]
  },
  {
   "cell_type": "code",
   "execution_count": null,
   "metadata": {
    "ExecuteTime": {
     "end_time": "2019-05-01T19:10:36.893281Z",
     "start_time": "2019-05-01T19:10:36.031752Z"
    }
   },
   "outputs": [],
   "source": [
    "# קרנות נאמנות, תעודות סל, ומדדים של בורסת תל אביב \n",
    "show(\"137@TASE\", \"01096593@TASE\", \"5109889@TASE\", trim=False)"
   ]
  },
  {
   "cell_type": "code",
   "execution_count": null,
   "metadata": {
    "ExecuteTime": {
     "end_time": "2019-05-01T19:10:47.001235Z",
     "start_time": "2019-05-01T19:10:46.227742Z"
    }
   },
   "outputs": [],
   "source": [
    "# same as above, with nick names\n",
    "ta125 = \"137@TASE = TA125\"\n",
    "mtf_ta125 = \"5109889@TASE = MTF תא 125 סד-1\"\n",
    "psg_ta125 = \"01096593@TASE = פסגות סל תא 125 סד-1\"\n",
    "show(ta125, psg_ta125, mtf_ta125, trim=False)"
   ]
  },
  {
   "cell_type": "code",
   "execution_count": null,
   "metadata": {
    "ExecuteTime": {
     "end_time": "2019-05-01T19:10:53.010382Z",
     "start_time": "2019-05-01T19:10:52.337400Z"
    }
   },
   "outputs": [],
   "source": [
    "# large cap vs small cap\n",
    "show(get(ta35) / get(ta90), 1, ta125)"
   ]
  },
  {
   "cell_type": "code",
   "execution_count": null,
   "metadata": {
    "ExecuteTime": {
     "end_time": "2019-05-01T19:11:00.115792Z",
     "start_time": "2019-05-01T19:10:59.469946Z"
    }
   },
   "outputs": [],
   "source": [
    "show(ta125, ta125_IC, trim=False)"
   ]
  },
  {
   "cell_type": "code",
   "execution_count": null,
   "metadata": {
    "ExecuteTime": {
     "end_time": "2018-08-12T09:40:38.816617Z",
     "start_time": "2018-08-12T09:39:20.972097Z"
    }
   },
   "outputs": [],
   "source": [
    "# be sure to save before you publish\n",
    "# when done, you will get a public link to an HTML file with the results\n",
    "publish()"
   ]
  }
 ],
 "metadata": {
  "kernelspec": {
   "display_name": "Python [conda env:retropy]",
   "language": "python",
   "name": "conda-env-retropy-py"
  },
  "language_info": {
   "codemirror_mode": {
    "name": "ipython",
    "version": 3
   },
   "file_extension": ".py",
   "mimetype": "text/x-python",
   "name": "python",
   "nbconvert_exporter": "python",
   "pygments_lexer": "ipython3",
   "version": "3.6.7"
  },
  "varInspector": {
   "cols": {
    "lenName": 16,
    "lenType": 16,
    "lenVar": 40
   },
   "kernels_config": {
    "python": {
     "delete_cmd_postfix": "",
     "delete_cmd_prefix": "del ",
     "library": "var_list.py",
     "varRefreshCmd": "print(var_dic_list())"
    },
    "r": {
     "delete_cmd_postfix": ") ",
     "delete_cmd_prefix": "rm(",
     "library": "var_list.r",
     "varRefreshCmd": "cat(var_dic_list()) "
    }
   },
   "types_to_exclude": [
    "module",
    "function",
    "builtin_function_or_method",
    "instance",
    "_Feature"
   ],
   "window_display": false
  }
 },
 "nbformat": 4,
 "nbformat_minor": 2
}
