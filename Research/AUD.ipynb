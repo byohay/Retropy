{
 "cells": [
  {
   "cell_type": "code",
   "execution_count": null,
   "metadata": {
    "ExecuteTime": {
     "end_time": "2019-05-19T08:52:26.669814Z",
     "start_time": "2019-05-19T08:52:23.936835Z"
    }
   },
   "outputs": [],
   "source": [
    "%run retropy.ipynb"
   ]
  },
  {
   "cell_type": "code",
   "execution_count": null,
   "metadata": {
    "ExecuteTime": {
     "end_time": "2019-05-19T09:13:37.888127Z",
     "start_time": "2019-05-19T09:13:36.808752Z"
    }
   },
   "outputs": [],
   "source": [
    "lst = ['IGB.AX', 'VGB.AX', 'BOND.AX', 'IAF.AX']\n",
    "#        , 'AUNZ', 'AUDUSD@CUR']\n",
    "show(lst, mode=\"PR\")\n",
    "\n",
    "lst = [get(x, mode=\"PR\") / get('VGB.AX', mode=\"PR\") for x in lst]\n",
    "show(lst)\n"
   ]
  },
  {
   "cell_type": "code",
   "execution_count": null,
   "metadata": {
    "ExecuteTime": {
     "end_time": "2019-05-19T09:02:50.839688Z",
     "start_time": "2019-05-19T09:02:50.246448Z"
    }
   },
   "outputs": [],
   "source": [
    "x = tr('VGB.AX')/pr('VGB.AX')\n",
    "x = x - shift(x, 1)\n",
    "show(x)\n",
    "show(pr('VGB.AX'), tr('VGB.AX'), tr('VGB.AX')/pr('VGB.AX'))"
   ]
  },
  {
   "cell_type": "code",
   "execution_count": null,
   "metadata": {
    "ExecuteTime": {
     "end_time": "2019-05-19T08:59:08.763459Z",
     "start_time": "2019-05-19T08:58:59.251159Z"
    }
   },
   "outputs": [],
   "source": [
    "show('AUDUSD@CUR', 'VGB.AX', mode=\"PR\", cache=True, trim=False)"
   ]
  },
  {
   "cell_type": "code",
   "execution_count": null,
   "metadata": {},
   "outputs": [],
   "source": []
  }
 ],
 "metadata": {
  "kernelspec": {
   "display_name": "Python 3",
   "language": "python",
   "name": "python3"
  },
  "language_info": {
   "codemirror_mode": {
    "name": "ipython",
    "version": 3
   },
   "file_extension": ".py",
   "mimetype": "text/x-python",
   "name": "python",
   "nbconvert_exporter": "python",
   "pygments_lexer": "ipython3",
   "version": "3.6.7"
  },
  "varInspector": {
   "cols": {
    "lenName": 16,
    "lenType": 16,
    "lenVar": 40
   },
   "kernels_config": {
    "python": {
     "delete_cmd_postfix": "",
     "delete_cmd_prefix": "del ",
     "library": "var_list.py",
     "varRefreshCmd": "print(var_dic_list())"
    },
    "r": {
     "delete_cmd_postfix": ") ",
     "delete_cmd_prefix": "rm(",
     "library": "var_list.r",
     "varRefreshCmd": "cat(var_dic_list()) "
    }
   },
   "types_to_exclude": [
    "module",
    "function",
    "builtin_function_or_method",
    "instance",
    "_Feature"
   ],
   "window_display": false
  }
 },
 "nbformat": 4,
 "nbformat_minor": 2
}
