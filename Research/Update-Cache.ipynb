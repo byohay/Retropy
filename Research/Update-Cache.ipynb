{
 "cells": [
  {
   "cell_type": "code",
   "execution_count": null,
   "metadata": {
    "ExecuteTime": {
     "end_time": "2019-07-08T14:23:14.922262Z",
     "start_time": "2019-07-08T14:23:12.638305Z"
    }
   },
   "outputs": [],
   "source": [
    "%run retropy.ipynb"
   ]
  },
  {
   "cell_type": "code",
   "execution_count": null,
   "metadata": {
    "ExecuteTime": {
     "end_time": "2019-07-08T14:23:14.990481Z",
     "start_time": "2019-07-08T14:23:14.924155Z"
    }
   },
   "outputs": [],
   "source": [
    "days_old = 1\n",
    "_etfs = etfs.all_bonds\n",
    "_cefs = cefs.fixed_income\n",
    "\n",
    "_cefs_nav = lmap(get_cef_nav_ticker, _cefs)"
   ]
  },
  {
   "cell_type": "code",
   "execution_count": null,
   "metadata": {
    "ExecuteTime": {
     "end_time": "2019-07-08T18:20:42.527465Z",
     "start_time": "2019-07-08T16:17:25.777490Z"
    }
   },
   "outputs": [],
   "source": [
    "nav_tickers = lmap(get_cef_nav_ticker, cefs.fixed_income)\n",
    "\n",
    "# reget_old_tickers(_etfs,     source=\"Y\", days_old=days_old)\n",
    "reget_old_tickers(_cefs,     source=\"Y\", days_old=days_old)\n",
    "reget_old_tickers(_cefs_nav, source=\"Y\", days_old=days_old)\n",
    "\n",
    "reget_old_tickers(_etfs,     source=\"AV\", days_old=days_old)\n",
    "reget_old_tickers(_cefs,     source=\"AV\", days_old=days_old)\n",
    "reget_old_tickers(_cefs_nav, source=\"AV\", days_old=days_old)"
   ]
  },
  {
   "cell_type": "code",
   "execution_count": null,
   "metadata": {},
   "outputs": [],
   "source": []
  }
 ],
 "metadata": {
  "kernelspec": {
   "display_name": "Python 3",
   "language": "python",
   "name": "python3"
  },
  "language_info": {
   "codemirror_mode": {
    "name": "ipython",
    "version": 3
   },
   "file_extension": ".py",
   "mimetype": "text/x-python",
   "name": "python",
   "nbconvert_exporter": "python",
   "pygments_lexer": "ipython3",
   "version": "3.6.7"
  },
  "varInspector": {
   "cols": {
    "lenName": 16,
    "lenType": 16,
    "lenVar": 40
   },
   "kernels_config": {
    "python": {
     "delete_cmd_postfix": "",
     "delete_cmd_prefix": "del ",
     "library": "var_list.py",
     "varRefreshCmd": "print(var_dic_list())"
    },
    "r": {
     "delete_cmd_postfix": ") ",
     "delete_cmd_prefix": "rm(",
     "library": "var_list.r",
     "varRefreshCmd": "cat(var_dic_list()) "
    }
   },
   "types_to_exclude": [
    "module",
    "function",
    "builtin_function_or_method",
    "instance",
    "_Feature"
   ],
   "window_display": false
  }
 },
 "nbformat": 4,
 "nbformat_minor": 2
}
