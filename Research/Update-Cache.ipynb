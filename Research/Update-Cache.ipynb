{
 "cells": [
  {
   "cell_type": "code",
   "execution_count": null,
   "metadata": {
    "ExecuteTime": {
     "end_time": "2019-05-04T18:07:53.529874Z",
     "start_time": "2019-05-04T18:07:50.828244Z"
    }
   },
   "outputs": [],
   "source": [
    "%run retropy.ipynb"
   ]
  },
  {
   "cell_type": "code",
   "execution_count": null,
   "metadata": {
    "ExecuteTime": {
     "end_time": "2019-05-05T06:16:40.016218Z",
     "start_time": "2019-05-05T06:16:39.901642Z"
    }
   },
   "outputs": [],
   "source": [
    "days_old = 1\n",
    "_etfs = etfs.all_bonds\n",
    "_cefs = cefs.fixed_income\n",
    "\n",
    "_cefs_nav = lmap(get_cef_nav_ticker, _cefs)"
   ]
  },
  {
   "cell_type": "code",
   "execution_count": null,
   "metadata": {
    "ExecuteTime": {
     "end_time": "2019-05-05T10:49:49.746953Z",
     "start_time": "2019-05-05T06:16:40.522147Z"
    }
   },
   "outputs": [],
   "source": [
    "nav_tickers = lmap(get_cef_nav_ticker, cefs.fixed_income)\n",
    "\n",
    "reget_old_tickers(_etfs,     source=\"Y\", days_old=days_old)\n",
    "reget_old_tickers(_cefs,     source=\"Y\", days_old=days_old)\n",
    "reget_old_tickers(_cefs_nav, source=\"Y\", days_old=days_old)\n",
    "\n",
    "reget_old_tickers(_etfs,     source=\"AV\", days_old=days_old)\n",
    "reget_old_tickers(_cefs,     source=\"AV\", days_old=days_old)\n",
    "reget_old_tickers(_cefs_nav, source=\"AV\", days_old=days_old)"
   ]
  },
  {
   "cell_type": "code",
   "execution_count": null,
   "metadata": {},
   "outputs": [],
   "source": []
  }
 ],
 "metadata": {
  "kernelspec": {
   "display_name": "Python [conda env:retropy]",
   "language": "python",
   "name": "conda-env-retropy-py"
  },
  "varInspector": {
   "cols": {
    "lenName": 16,
    "lenType": 16,
    "lenVar": 40
   },
   "kernels_config": {
    "python": {
     "delete_cmd_postfix": "",
     "delete_cmd_prefix": "del ",
     "library": "var_list.py",
     "varRefreshCmd": "print(var_dic_list())"
    },
    "r": {
     "delete_cmd_postfix": ") ",
     "delete_cmd_prefix": "rm(",
     "library": "var_list.r",
     "varRefreshCmd": "cat(var_dic_list()) "
    }
   },
   "types_to_exclude": [
    "module",
    "function",
    "builtin_function_or_method",
    "instance",
    "_Feature"
   ],
   "window_display": false
  }
 },
 "nbformat": 4,
 "nbformat_minor": 2
}
