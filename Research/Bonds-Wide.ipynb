{
 "cells": [
  {
   "cell_type": "code",
   "execution_count": null,
   "metadata": {
    "ExecuteTime": {
     "end_time": "2018-09-26T21:10:13.509559Z",
     "start_time": "2018-09-26T21:10:13.313386Z"
    }
   },
   "outputs": [],
   "source": [
    "%run retropy.ipynb"
   ]
  },
  {
   "cell_type": "code",
   "execution_count": null,
   "metadata": {
    "ExecuteTime": {
     "end_time": "2018-09-27T08:42:56.783648Z",
     "start_time": "2018-09-27T05:41:55.262153Z"
    }
   },
   "outputs": [],
   "source": [
    "#all_ = get(lmap(get_cef_nav_ticker, cef_highyield_taxable) + cef_highyield_taxable + etfs.all_bonds, source=\"AV\", cache=False, error='ignore')\n",
    "_all = lmap(get_cef_nav_ticker, cef_highyield_taxable) + cef_highyield_taxable + etfs.all_bonds\n",
    "reget_old_tickers(get(_all, source=\"AV\", error='ignore'), days_old=1)"
   ]
  },
  {
   "cell_type": "code",
   "execution_count": null,
   "metadata": {
    "ExecuteTime": {
     "end_time": "2018-09-24T18:28:01.241677Z",
     "start_time": "2018-09-24T18:28:01.180179Z"
    }
   },
   "outputs": [],
   "source": [
    "_all = set(etfs.all_bonds_alts + etfs_high_yield.all + [\"SPY\", \"GLD\"])\n",
    "_all -= set(etfs_high_yield.lev)\n",
    "_all = list(_all)\n",
    "\n",
    "#_all = etfs.all_bonds\n",
    "#_all = etfs_high_yield.all\n",
    "_all = cefs.all + etfs.all_bonds"
   ]
  },
  {
   "cell_type": "code",
   "execution_count": null,
   "metadata": {
    "ExecuteTime": {
     "end_time": "2018-09-24T18:28:20.060000Z",
     "start_time": "2018-09-24T18:28:01.251786Z"
    }
   },
   "outputs": [],
   "source": [
    "all = get(_all, trim=True, start=2015, end=dt(2018, 8, 1), mode=\"NTR\", error=\"ignore\")"
   ]
  },
  {
   "cell_type": "code",
   "execution_count": null,
   "metadata": {
    "ExecuteTime": {
     "end_time": "2018-09-24T18:30:41.134892Z",
     "start_time": "2018-09-24T18:28:20.063316Z"
    }
   },
   "outputs": [],
   "source": [
    "display_zscores(all, n=200, weights=[1, 0, 3, -1, -1, (0.5, 'log'), -0.5])#, _cache=[None])"
   ]
  },
  {
   "cell_type": "code",
   "execution_count": null,
   "metadata": {
    "ExecuteTime": {
     "end_time": "2018-09-24T16:14:00.006775Z",
     "start_time": "2018-09-24T16:13:55.233249Z"
    }
   },
   "outputs": [],
   "source": [
    "show_rr(*all, ret_func=cagr, risk_func=get_start_yield, lr_fit=True, same_ratio=False)"
   ]
  },
  {
   "cell_type": "code",
   "execution_count": null,
   "metadata": {},
   "outputs": [],
   "source": []
  },
  {
   "cell_type": "code",
   "execution_count": null,
   "metadata": {
    "ExecuteTime": {
     "end_time": "2018-09-24T04:54:56.578675Z",
     "start_time": "2018-09-24T04:37:18.509689Z"
    }
   },
   "outputs": [],
   "source": [
    "#analyze_assets(*_all, start=2015, end=dt(2018, 8, 1), mode=\"NTR\")\n",
    "analyze_assets(*all)"
   ]
  }
 ],
 "metadata": {
  "kernelspec": {
   "display_name": "Python [conda env:retropy]",
   "language": "python",
   "name": "conda-env-retropy-py"
  },
  "language_info": {
   "codemirror_mode": {
    "name": "ipython",
    "version": 3
   },
   "file_extension": ".py",
   "mimetype": "text/x-python",
   "name": "python",
   "nbconvert_exporter": "python",
   "pygments_lexer": "ipython3",
   "version": "3.6.6"
  },
  "varInspector": {
   "cols": {
    "lenName": 16,
    "lenType": 16,
    "lenVar": 40
   },
   "kernels_config": {
    "python": {
     "delete_cmd_postfix": "",
     "delete_cmd_prefix": "del ",
     "library": "var_list.py",
     "varRefreshCmd": "print(var_dic_list())"
    },
    "r": {
     "delete_cmd_postfix": ") ",
     "delete_cmd_prefix": "rm(",
     "library": "var_list.r",
     "varRefreshCmd": "cat(var_dic_list()) "
    }
   },
   "types_to_exclude": [
    "module",
    "function",
    "builtin_function_or_method",
    "instance",
    "_Feature"
   ],
   "window_display": false
  }
 },
 "nbformat": 4,
 "nbformat_minor": 2
}
