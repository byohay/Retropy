{
 "cells": [
  {
   "cell_type": "code",
   "execution_count": null,
   "metadata": {
    "ExecuteTime": {
     "end_time": "2019-06-09T18:38:48.139252Z",
     "start_time": "2019-06-09T18:38:45.549192Z"
    }
   },
   "outputs": [],
   "source": [
    "%run retropy.ipynb"
   ]
  },
  {
   "cell_type": "markdown",
   "metadata": {
    "ExecuteTime": {
     "end_time": "2018-10-12T12:28:21.546613Z",
     "start_time": "2018-10-12T12:28:21.222151Z"
    }
   },
   "source": [
    "## Yields will rise\n",
    "\n",
    "### End of the bonds bull market\n",
    "https://www.forbes.com/sites/investor/2018/02/11/the-end-of-the-36-year-bond-bull-market/#7a8175352b7a  "
   ]
  },
  {
   "cell_type": "markdown",
   "metadata": {
    "ExecuteTime": {
     "end_time": "2018-10-12T12:28:21.546613Z",
     "start_time": "2018-10-12T12:28:21.222151Z"
    }
   },
   "source": [
    "## yields 3.5-4.0%\n",
    "https://www.marketwatch.com/story/bond-king-jeff-gundlach-says-treasury-market-is-witnessing-a-game-changer-2018-10-04?mod=article_inline \n",
    "https://edition.cnn.com/2018/10/04/investing/us-treasury-bond-yields/index.html"
   ]
  },
  {
   "cell_type": "markdown",
   "metadata": {},
   "source": [
    "## Yields will fall"
   ]
  },
  {
   "cell_type": "markdown",
   "metadata": {},
   "source": [
    "### A Roadmap For The Upcoming US Treasury Bull Market\n",
    "https://www.advisorperspectives.com/articles/2018/10/08/a-roadmap-for-the-upcoming-u-s-treasury-bull-market-1  \n",
    "#### Comments:\n",
    "https://www.bogleheads.org/forum/viewtopic.php?f=10&t=260910  \n",
    "https://www.zerohedge.com/news/2018-10-08/roadmap-upcoming-us-treasury-bull-market#comment_stream  \n",
    "https://news.ycombinator.com/item?id=18172256  \n",
    "\n",
    "### Bond bull market still has legs\n",
    "https://dailyreckoning.com/bond-bull-market-still-legs/\n",
    "\n",
    "### Follow-ups\n",
    "https://www.advisorperspectives.com/articles/2018/10/29/the-housing-market-is-predicting-a-u-s-treasury-bull-market  \n",
    "https://www.advisorperspectives.com/articles/2019/01/28/it-is-time-to-move-down-the-yield-curve  "
   ]
  },
  {
   "cell_type": "markdown",
   "metadata": {},
   "source": [
    "## Market future prediction of yield curve\n",
    "https://www.cmegroup.com/trading/interest-rates/countdown-to-fomc.html  \n",
    "https://stockcharts.com/freecharts/yieldcurve.php  \n",
    "https://www.bogleheads.org/forum/viewtopic.php?t=165824  \n",
    "https://www.thefiscaltimes.com/Columns/2015/03/25/Bernanke-Was-Right-Interest-Rates-Arent-Going-Anywhere  \n",
    "http://aicd.companydirectors.com.au/membership/company-director-magazine/2018-back-editions/september/economist  "
   ]
  },
  {
   "cell_type": "markdown",
   "metadata": {},
   "source": [
    "### Fed rate prediction based on futures market\n",
    "https://www.barchart.com/futures/quotes/ZQ*0/all-futures?viewName=main  \n",
    "https://www.cmegroup.com/trading/interest-rates/stir/30-day-federal-fund.html  \n",
    "https://www.economics-finance.org/jefe/fin/KeaslerGoffpaper.pdf  "
   ]
  },
  {
   "cell_type": "markdown",
   "metadata": {},
   "source": [
    "## Copr Bonds - Credit Risk\n",
    "https://citywireusa.com/professional-buyer/news/gundlach-the-corporate-bond-market-is-going-to-get-much-worse/a1168355  "
   ]
  },
  {
   "cell_type": "code",
   "execution_count": null,
   "metadata": {
    "ExecuteTime": {
     "end_time": "2019-06-09T18:39:20.722514Z",
     "start_time": "2019-06-09T18:39:19.255730Z"
    }
   },
   "outputs": [],
   "source": [
    "import json\n",
    "# from: https://www.barchart.com/futures/quotes/ZQ*0/all-futures?viewName=main\n",
    "res = !curl 'https://www.barchart.com/proxies/core-api/v1/quotes/get?fields=symbol%2CcontractSymbol%2ClastPrice%2CpriceChange%2CopenPrice%2ChighPrice%2ClowPrice%2CpreviousPrice%2Cvolume%2CopenInterest%2CtradeTime%2CsymbolCode%2CsymbolType%2ChasOptions&list=futures.contractInRoot&root=ZQ&meta=field.shortName%2Cfield.type%2Cfield.description&hasOptions=true&page=1&limit=100&raw=1' -H 'pragma: no-cache' -H 'cookie: market=eyJpdiI6ImNJSHFaM0J6RGVwalp0SWw5RTc4WEE9PSIsInZhbHVlIjoib09TY2Q3SHNJR0FBSnJJOEJpRks1QT09IiwibWFjIjoiZTJjYmNkZGJmOGRiY2Y5NDQzODMzYjBkYmM5OGYxNDE0ODdiMWI3YzdmN2YyNzkyM2VjZDdiMzZkMzhiZGQ4MyJ9; XSRF-TOKEN=eyJpdiI6ImZ3ZHp1cEdyOTBsOHYzcVVWaGF4Snc9PSIsInZhbHVlIjoiMXVyMzE3M2FoZ2ViVVZ4UTlEWUJFMmtvWHBKdXRcL2hwZE8zUzg5SHJ4S0xSd0JBbDhUQmJzRVMxWEhFMXNoTjkiLCJtYWMiOiJiM2UxN2I4ZjllMTcxZWE1MmVlYjgxNWRhNmY0ODg5YWUxMGQ1NjNlZTgyOTk5Y2NmNmYyMjA1ZDEzMDQxN2M1In0%3D; laravel_session=eyJpdiI6IjB0am9ZbWdFb2wxQ0xGKzBJRWMxbnc9PSIsInZhbHVlIjoiZTh1eTkxZnhiUHg3K01CakNaRmRIWWQ0WDdkb1Vzbk0rUnM4bTFsRkYwbnF4Ylk5Nm8weFZ1bThQNjNBNlJoXC8iLCJtYWMiOiI4Y2NmMmYyMDUxNTc5OTkwOGQ0NjFiNDBmZjQ3MjBhNzMwYjhhODg3OTRmZGQ3ZDA2OWUyMGIzZjQ4MDk2MmI4In0%3D' -H 'x-xsrf-token: eyJpdiI6ImZ3ZHp1cEdyOTBsOHYzcVVWaGF4Snc9PSIsInZhbHVlIjoiMXVyMzE3M2FoZ2ViVVZ4UTlEWUJFMmtvWHBKdXRcL2hwZE8zUzg5SHJ4S0xSd0JBbDhUQmJzRVMxWEhFMXNoTjkiLCJtYWMiOiJiM2UxN2I4ZjllMTcxZWE1MmVlYjgxNWRhNmY0ODg5YWUxMGQ1NjNlZTgyOTk5Y2NmNmYyMjA1ZDEzMDQxN2M1In0=' -H 'accept-encoding: gzip, deflate, br' -H 'accept-language: en-US,en;q=0.9,he;q=0.8' -H 'user-agent: Mozilla/5.0 (Macintosh; Intel Mac OS X 10_13_6) AppleWebKit/537.36 (KHTML, like Gecko) Chrome/74.0.3729.169 Safari/537.36' -H 'accept: application/json' -H 'cache-control: no-cache' -H 'authority: www.barchart.com' -H 'referer: https://www.barchart.com/futures/quotes/ZQ*0/all-futures?viewName=main' --compressed\n",
    "def get_fed_rate_market_prediction():\n",
    "    data = json.loads(list(res)[0])['data']\n",
    "    dates = [r['contractSymbol'] for r in data]\n",
    "    dates = pd.to_datetime([d.split(' (')[1].strip(')\"').replace(\"'\", \"20\") for d in dates])\n",
    "    values = [d['lastPrice'].strip('s') for d in data]\n",
    "    pred = pd.Series(values, dates).astype(float)\n",
    "    pred = 100 - pred\n",
    "    return name(pred, 'fed-rate futures')\n",
    "\n",
    "#fed_rate_futures = get_fed_rate_market_prediction()\n",
    "fed_rate_futures = None"
   ]
  },
  {
   "cell_type": "code",
   "execution_count": null,
   "metadata": {
    "ExecuteTime": {
     "end_time": "2019-06-16T11:46:55.419041Z",
     "start_time": "2019-06-16T11:45:59.153038Z"
    }
   },
   "outputs": [],
   "source": [
    "conf.conf_cache_disk = False\n",
    "conf.conf_cache_memory = False\n",
    "\n",
    "# https://www.quandl.com/data/FED/SVENPY-US-Treasury-Par-Yield-Curve\n",
    "# https://www.quandl.com/data/FED/SVENF-US-Treasury-Instantaneous-Forward-Rate-Curve\n",
    "# https://www.quandl.com/data/FED/SVENY-US-Treasury-Zero-Coupon-Yield-Curve\n",
    "yld_30y_sveny = get('FED/SVENY^SVENY30@Q', interpolate=False)\n",
    "yld_20y_sveny = get('FED/SVENY^SVENY20@Q', interpolate=False)\n",
    "\n",
    "# constant maturity yield\n",
    "fedRate = get(fedRate, interpolate=False)\n",
    "yld_1m =  name(get('FRED/DGS1MO@Q', interpolate=False), \"1m\")\n",
    "yld_3m =  name(get('FRED/DGS3MO@Q', interpolate=False), \"3m\")\n",
    "yld_1y =  name(get('FRED/DGS1@Q', interpolate=False),   \"1y\")\n",
    "yld_2y =  name(get('FRED/DGS2@Q', interpolate=False),   \"2y\")\n",
    "yld_5y =  name(get('FRED/DGS5@Q', interpolate=False),   \"5y\")\n",
    "yld_10y = name(get('FRED/DGS10@Q', interpolate=False), \"10y\")\n",
    "yld_20y = name(get('FRED/DGS20@Q', interpolate=False), \"20y\")\n",
    "yld_30y = name(get('FRED/DGS30@Q', interpolate=False), \"30y\")\n",
    "\n",
    "# Yahoo finance - updates in real time (FRED has 3 day delay), and has full data for 30y yield\n",
    "# https://www.reuters.com/finance/futures/cboe\n",
    "# we purposly override the previous variables\n",
    "yld_13w = name(get('^IRX@Y', interpolate=False), \"13w\")\n",
    "yld_5y =  name(get('^FVX@Y', interpolate=False),  \"5y\")\n",
    "yld_10y = name(get('^TNX@Y', interpolate=False), \"10y\")\n",
    "yld_30y = name(get('^TYX@Y', interpolate=False), \"30y\")\n",
    "\n",
    "#all_yields = [fedRate, yld_1m, yld_1y, yld_1y, yld_2y, ]\n",
    "\n",
    "# projection by the FED for future years\n",
    "fed_projection_median = name(get('FRED/FEDTARMD@Q', interpolate=False), \"fed projection\").resample(\"Y\").sum() # projection are for year end, reindex to year end\n",
    "fed_projection_ct_high = name(get('FRED/FEDTARCTH@Q', interpolate=False), \"fed projection CT high\").resample(\"Y\").sum() # projection are for year end, reindex to year end\n",
    "fed_projection_ct_mid = name(get('FRED/FEDTARCTM@Q', interpolate=False), \"fed projection CT mid\").resample(\"Y\").sum() # projection are for year end, reindex to year end\n",
    "fed_projection_ct_low = name(get('FRED/FEDTARCTL@Q', interpolate=False), \"fed projection CT low\").resample(\"Y\").sum() # projection are for year end, reindex to year end\n",
    "fed_projection_range_low = name(get('FRED/FEDTARRH@Q', interpolate=False), \"fed projection range low\").resample(\"Y\").sum() # projection are for year end, reindex to year end\n",
    "fed_projection_range_mid = name(get('FRED/FEDTARRM@Q', interpolate=False), \"fed projection range mid\").resample(\"Y\").sum() # projection are for year end, reindex to year end\n",
    "fed_projection_range_high = name(get('FRED/FEDTARRL@Q', interpolate=False), \"fed projection range high\").resample(\"Y\").sum() # projection are for year end, reindex to year end\n",
    "\n",
    "#inf = get_inflation(interpolate=False)[\"1954\":]\n",
    "inf = get_inf()"
   ]
  },
  {
   "cell_type": "code",
   "execution_count": null,
   "metadata": {
    "ExecuteTime": {
     "end_time": "2019-06-09T18:41:29.718912Z",
     "start_time": "2019-06-09T18:41:29.655598Z"
    }
   },
   "outputs": [],
   "source": [
    "conf.conf_cache_disk = True\n",
    "conf.conf_cache_memory = True"
   ]
  },
  {
   "cell_type": "code",
   "execution_count": null,
   "metadata": {
    "ExecuteTime": {
     "end_time": "2019-06-16T11:45:24.269042Z",
     "start_time": "2019-06-16T11:45:22.258557Z"
    }
   },
   "outputs": [],
   "source": [
    "show(fedRate, fed_rate_futures, fed_projection_median, fed_projection_ct_high, fed_projection_ct_low, log=False, ta=False, title=\"Fed rate and projections\", sort=False)"
   ]
  },
  {
   "cell_type": "code",
   "execution_count": null,
   "metadata": {
    "ExecuteTime": {
     "end_time": "2019-06-16T11:45:30.386046Z",
     "start_time": "2019-06-16T11:45:25.939837Z"
    }
   },
   "outputs": [],
   "source": [
    "show(1, 2, 3, 4, fed_rate_futures, fed_projection_median, inf, fedRate, yld_13w, yld_1y, yld_2y, yld_5y, yld_10y, yld_20y, yld_30y, log=False, ta=False, title=\"Treasury constant maturity\", sort=False)"
   ]
  },
  {
   "cell_type": "code",
   "execution_count": null,
   "metadata": {
    "ExecuteTime": {
     "end_time": "2019-06-16T11:46:57.191191Z",
     "start_time": "2019-06-16T11:46:55.421928Z"
    }
   },
   "outputs": [],
   "source": [
    "show(1, 2, 3, 4, inf, fedRate, yld_10y, yld_10y - inf, yld_30y - inf, log=False, ta=False, title=\"Treasury constant maturity\", sort=False)"
   ]
  },
  {
   "cell_type": "code",
   "execution_count": null,
   "metadata": {
    "ExecuteTime": {
     "end_time": "2019-06-19T17:40:08.157966Z",
     "start_time": "2019-06-19T17:40:07.059946Z"
    }
   },
   "outputs": [],
   "source": [
    "get(yld_30y, cache=False)"
   ]
  },
  {
   "cell_type": "code",
   "execution_count": null,
   "metadata": {
    "ExecuteTime": {
     "end_time": "2019-06-19T17:40:12.072561Z",
     "start_time": "2019-06-19T17:40:10.730974Z"
    }
   },
   "outputs": [],
   "source": [
    "show(snp_dd, yld_30y, 2, 3, 4, ta=False)"
   ]
  },
  {
   "cell_type": "code",
   "execution_count": null,
   "metadata": {
    "ExecuteTime": {
     "end_time": "2019-06-09T18:43:14.820580Z",
     "start_time": "2019-06-09T18:43:13.428123Z"
    }
   },
   "outputs": [],
   "source": [
    "snp = join_rel_align_series([do_interpolate(shiller_snp500(tax_rate=1, taxes=True)), get('VFINX@Y', mode=\"PR\"), pr('SPY')])\n",
    "snp_dd = dd(snp)[\"1976\":]/10\n",
    "show(1, snp_dd/10+1,  yld_30y_sveny / yld_30y, yld_20y_sveny / yld_20y, ta=False, log=False)"
   ]
  },
  {
   "cell_type": "code",
   "execution_count": null,
   "metadata": {
    "ExecuteTime": {
     "end_time": "2019-06-09T18:43:17.882533Z",
     "start_time": "2019-06-09T18:43:15.848747Z"
    }
   },
   "outputs": [],
   "source": [
    "curve_10_2 = name(yld_10y-yld_2y, \"10y - 2y\")\n",
    "curve_20_10 = name(yld_20y-yld_10y, \"20y - 10y\")\n",
    "curve_30_20 = name(yld_30y-yld_20y, \"30y - 20y\")\n",
    "curve_30_10 = name(yld_30y-yld_10y, \"30y - 10y\")\n",
    "curve_30_2 = name(yld_30y-yld_2y, \"30y - 2y\")\n",
    "\n",
    "show(snp_dd, curve_10_2, curve_20_10, curve_30_20, curve_30_2, ta=False, log=False, title=\"Yield Curvature\")"
   ]
  },
  {
   "cell_type": "markdown",
   "metadata": {},
   "source": [
    "https://www.advisorperspectives.com/articles/2019/01/28/it-is-time-to-move-down-the-yield-curve\n",
    "\n",
    "- Does preferring leveraged shorted term duration over long term, better during contraction of the yield curve?\n",
    "- Can we achieve it with ETFs?\n",
    "- How does PR vs NTR compare?"
   ]
  },
  {
   "cell_type": "code",
   "execution_count": null,
   "metadata": {
    "ExecuteTime": {
     "end_time": "2019-06-09T18:45:05.616533Z",
     "start_time": "2019-06-09T18:44:49.627397Z"
    }
   },
   "outputs": [],
   "source": [
    "mode = \"PR\"\n",
    "EDV, TMF, UBT, UST = get(['EDV', 'TMF', 'UBT', 'UST'], mode=mode, cache=True)\n",
    "r1 = (TMF / EDV - 0.14) * 15 + 1\n",
    "r2 = UBT / EDV\n",
    "r3 = (UST / EDV - 1 ) * 10 + 6\n",
    "show(r1, r3, snp_dd, curve_10_2, curve_30_10, curve_30_2, ta=False, log=False, title=\"Yield Curvature\")"
   ]
  },
  {
   "cell_type": "code",
   "execution_count": null,
   "metadata": {
    "ExecuteTime": {
     "end_time": "2019-04-30T07:51:57.230639Z",
     "start_time": "2019-04-30T07:51:56.849668Z"
    }
   },
   "outputs": [],
   "source": [
    "long_bonds = ['EDV', 'ZROZ', elgb, 'TLT', lgb] + ['TMF', 'UST', 'UBT', 'TYD']\n",
    "x = get(long_bonds, cache=True, source=\"Y\", mode=\"PR\", trim=date(\"2018-08\"))\n",
    "show(x, trim=False)"
   ]
  },
  {
   "cell_type": "markdown",
   "metadata": {},
   "source": [
    "## Corp yields"
   ]
  },
  {
   "cell_type": "code",
   "execution_count": null,
   "metadata": {
    "ExecuteTime": {
     "end_time": "2019-06-09T18:48:04.382458Z",
     "start_time": "2019-06-09T18:46:58.308740Z"
    }
   },
   "outputs": [],
   "source": [
    "ml_cb_aaa = 'ML/AAAEY@Q=cb_aaa'\n",
    "ml_cb_aa = 'ML/AAY@Q=cb_aa'\n",
    "ml_cb_a = 'ML/AEY@Q=cb_a'\n",
    "ml_cb_ALL = 'ML/USEY@Q=cb_ALL'\n",
    "ml_cb_bbb = 'ML/BBBEY@Q=cb_bbb'\n",
    "ml_cb_bb = 'ML/BBY@Q=cb_bb'\n",
    "ml_cb_hy = 'ML/USTRI@Q=cb_hy'\n",
    "ml_cb_ccc = 'ML/CCCY@Q=cb_ccc'\n",
    "\n",
    "ml_em_hg = 'ML/EMHGY@Q=em_hg'\n",
    "ml_em_hy = 'ML/EMHYY@Q=em_hy'\n",
    "\n",
    "show(0, ml_cb_aaa, ml_cb_ALL, ml_cb_hy, ml_cb_ccc, ml_em_hg, ml_em_hy, get_yield_rolling_no_fees('JNK'), ta=False, cache=False)"
   ]
  },
  {
   "cell_type": "code",
   "execution_count": null,
   "metadata": {
    "ExecuteTime": {
     "end_time": "2019-06-09T18:48:05.447875Z",
     "start_time": "2019-06-09T18:48:04.384806Z"
    }
   },
   "outputs": [],
   "source": [
    "ml_cb_ALL = get(ml_cb_ALL, interpolate=False)\n",
    "ml_cb_hy = get(ml_cb_hy, interpolate=False)\n",
    "\n",
    "curve_cb_10 = name(ml_cb_ALL-yld_10y, \"cb - 10y\")\n",
    "curve_cbhy_10 = name(ml_cb_hy-yld_10y, \"cbhy - 10y\")\n",
    "\n",
    "show(snp_dd, curve_cb_10, curve_cbhy_10, ta=False, log=False, title=\"Credit spread\")"
   ]
  },
  {
   "cell_type": "markdown",
   "metadata": {},
   "source": [
    "## EDV vs ZROZ\n",
    "- EDV seems to have a higher yield than ZROZ, but it has no difference in TR. \n",
    "- perhaps ZROZ manages to be somehome more tax efficient?\n",
    "- perhaps it is related to the fact that ZROZ has a longer duration by 2 years on average, meaning they hold the bonds for a shorter time, creating less(?) capital gains distributions?\n",
    "- In the funds sites, it does seem that ZROZ has not capital gains dist', while EDV does have, but we see the yield difference even when looking at 'true', 'normal' yields\n",
    "- This *perhaps* indicates that ZROZ is more tax efficient. "
   ]
  },
  {
   "cell_type": "markdown",
   "metadata": {},
   "source": [
    "### The Yield discrepency\n",
    "- EDV and ZROZ both have a drop in the diff between their yields and the 30y/20y constant maturity yields\n",
    "- Not sure what this means\n",
    "- Can we expect their yields to spike, to catch up with the 30y yields?"
   ]
  },
  {
   "cell_type": "code",
   "execution_count": null,
   "metadata": {
    "ExecuteTime": {
     "end_time": "2019-04-30T07:54:36.894549Z",
     "start_time": "2019-04-30T07:54:30.056106Z"
    }
   },
   "outputs": [],
   "source": [
    "get(['ZROZ', 'EDV'], cache=False)"
   ]
  },
  {
   "cell_type": "code",
   "execution_count": null,
   "metadata": {
    "ExecuteTime": {
     "end_time": "2019-04-30T07:54:38.617110Z",
     "start_time": "2019-04-30T07:54:36.897124Z"
    }
   },
   "outputs": [],
   "source": [
    "sym = get_yield_live('ZROZ', type=\"rolling\")\n",
    "sym2 = get_yield_live('EDV', type=\"normal\")\n",
    "show(1, 2, 3, 4, sym - yld_30y, sym2 - yld_30y, sym, sym2, yld_20y, yld_30y, yld_30y_sveny, log=False, ta=False)"
   ]
  },
  {
   "cell_type": "code",
   "execution_count": null,
   "metadata": {
    "ExecuteTime": {
     "end_time": "2019-04-30T07:54:40.111689Z",
     "start_time": "2019-04-30T07:54:38.618860Z"
    }
   },
   "outputs": [],
   "source": [
    "show_yield('EDV', 'ZROZ')"
   ]
  },
  {
   "cell_type": "code",
   "execution_count": null,
   "metadata": {
    "ExecuteTime": {
     "end_time": "2019-04-30T07:54:41.000809Z",
     "start_time": "2019-04-30T07:54:40.114409Z"
    }
   },
   "outputs": [],
   "source": [
    "show(0, 1, get_yield_live('ZROZ', type='normal') / get_yield_live('EDV', type='normal'))\n",
    "show_modes_comp('ZROZ', 'EDV')"
   ]
  },
  {
   "cell_type": "markdown",
   "metadata": {},
   "source": [
    "High yield spread  \n",
    "https://fred.stlouisfed.org/graph/?g=1Z7K"
   ]
  }
 ],
 "metadata": {
  "kernelspec": {
   "display_name": "Python 3",
   "language": "python",
   "name": "python3"
  },
  "language_info": {
   "codemirror_mode": {
    "name": "ipython",
    "version": 3
   },
   "file_extension": ".py",
   "mimetype": "text/x-python",
   "name": "python",
   "nbconvert_exporter": "python",
   "pygments_lexer": "ipython3",
   "version": "3.6.7"
  },
  "varInspector": {
   "cols": {
    "lenName": 16,
    "lenType": 16,
    "lenVar": 40
   },
   "kernels_config": {
    "python": {
     "delete_cmd_postfix": "",
     "delete_cmd_prefix": "del ",
     "library": "var_list.py",
     "varRefreshCmd": "print(var_dic_list())"
    },
    "r": {
     "delete_cmd_postfix": ") ",
     "delete_cmd_prefix": "rm(",
     "library": "var_list.r",
     "varRefreshCmd": "cat(var_dic_list()) "
    }
   },
   "types_to_exclude": [
    "module",
    "function",
    "builtin_function_or_method",
    "instance",
    "_Feature"
   ],
   "window_display": false
  }
 },
 "nbformat": 4,
 "nbformat_minor": 2
}
