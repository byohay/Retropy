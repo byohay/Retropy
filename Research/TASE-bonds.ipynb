{
 "cells": [
  {
   "cell_type": "code",
   "execution_count": null,
   "metadata": {
    "ExecuteTime": {
     "end_time": "2019-05-01T18:50:44.198119Z",
     "start_time": "2019-05-01T18:50:41.573923Z"
    }
   },
   "outputs": [],
   "source": [
    "%run retropy.ipynb"
   ]
  },
  {
   "cell_type": "code",
   "execution_count": null,
   "metadata": {
    "ExecuteTime": {
     "end_time": "2019-05-01T19:09:44.962037Z",
     "start_time": "2019-05-01T19:09:44.402192Z"
    }
   },
   "outputs": [],
   "source": [
    "show(taMakam, 'MINT', 'BIL')"
   ]
  },
  {
   "cell_type": "code",
   "execution_count": null,
   "metadata": {
    "ExecuteTime": {
     "end_time": "2019-05-01T19:02:22.116698Z",
     "start_time": "2019-05-01T19:02:21.018636Z"
    }
   },
   "outputs": [],
   "source": [
    "show(taGovtBonds, gb, sdiv(taGovtBonds, gb))"
   ]
  },
  {
   "cell_type": "code",
   "execution_count": null,
   "metadata": {
    "ExecuteTime": {
     "end_time": "2019-05-01T19:01:22.464544Z",
     "start_time": "2019-05-01T19:01:21.566283Z"
    }
   },
   "outputs": [],
   "source": [
    "show(taBonds, 'AGG', sdiv(taBonds, 'AGG'))"
   ]
  },
  {
   "cell_type": "code",
   "execution_count": null,
   "metadata": {
    "ExecuteTime": {
     "end_time": "2019-05-01T18:57:56.885240Z",
     "start_time": "2019-05-01T18:57:55.139092Z"
    }
   },
   "outputs": [],
   "source": [
    "all = [get(x) / get(taBonds) for x in ta_bonds]\n",
    "show(all)"
   ]
  },
  {
   "cell_type": "code",
   "execution_count": null,
   "metadata": {
    "ExecuteTime": {
     "end_time": "2019-05-01T18:53:41.666980Z",
     "start_time": "2019-05-01T18:50:47.100284Z"
    }
   },
   "outputs": [],
   "source": [
    "all = get(ta_bonds + ta_corpBonds + ['AGG', cb, gb, gcb], start=2008, trim=True, mode=\"TR\", cache=False)\n",
    "_ta35, _taMakam, _taBonds = trimBy([ta35, taMakam, taBonds], all)\n",
    "\n",
    "showRiskReturn(*all)"
   ]
  },
  {
   "cell_type": "code",
   "execution_count": null,
   "metadata": {
    "ExecuteTime": {
     "end_time": "2018-08-12T09:40:38.816617Z",
     "start_time": "2018-08-12T09:39:20.972097Z"
    }
   },
   "outputs": [],
   "source": [
    "# be sure to save before you publish\n",
    "# when done, you will get a public link to an HTML file with the results\n",
    "publish()"
   ]
  },
  {
   "cell_type": "code",
   "execution_count": null,
   "metadata": {},
   "outputs": [],
   "source": []
  }
 ],
 "metadata": {
  "kernelspec": {
   "display_name": "Python [conda env:retropy]",
   "language": "python",
   "name": "conda-env-retropy-py"
  },
  "language_info": {
   "codemirror_mode": {
    "name": "ipython",
    "version": 3
   },
   "file_extension": ".py",
   "mimetype": "text/x-python",
   "name": "python",
   "nbconvert_exporter": "python",
   "pygments_lexer": "ipython3",
   "version": "3.6.7"
  },
  "varInspector": {
   "cols": {
    "lenName": 16,
    "lenType": 16,
    "lenVar": 40
   },
   "kernels_config": {
    "python": {
     "delete_cmd_postfix": "",
     "delete_cmd_prefix": "del ",
     "library": "var_list.py",
     "varRefreshCmd": "print(var_dic_list())"
    },
    "r": {
     "delete_cmd_postfix": ") ",
     "delete_cmd_prefix": "rm(",
     "library": "var_list.r",
     "varRefreshCmd": "cat(var_dic_list()) "
    }
   },
   "types_to_exclude": [
    "module",
    "function",
    "builtin_function_or_method",
    "instance",
    "_Feature"
   ],
   "window_display": false
  }
 },
 "nbformat": 4,
 "nbformat_minor": 2
}
