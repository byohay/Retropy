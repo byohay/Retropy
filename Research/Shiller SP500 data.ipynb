{
 "cells": [
  {
   "cell_type": "code",
   "execution_count": null,
   "metadata": {
    "ExecuteTime": {
     "end_time": "2019-04-01T18:25:29.585366Z",
     "start_time": "2019-04-01T18:25:27.062336Z"
    }
   },
   "outputs": [],
   "source": [
    "%run retropy.ipynb"
   ]
  },
  {
   "cell_type": "code",
   "execution_count": null,
   "metadata": {
    "ExecuteTime": {
     "end_time": "2019-04-01T18:25:31.387353Z",
     "start_time": "2019-04-01T18:25:31.253270Z"
    }
   },
   "outputs": [],
   "source": [
    "dv = get('MULTPL/SP500_DIV_MONTH@Q', interpolate=False)\n",
    "pr = get('MULTPL/SP500_INFLADJ_MONTH@Q', interpolate=False)\n",
    "\n",
    "dv = dv.resample(\"MS\").sum() / 12 * 0.75 # sync dates to start of month, and normalize divs to monthly not yearly, and reduce div taxes\n",
    "dv = dv.reindex(pr.index).fillna(method=\"ffill\") # fill few last missing months\n",
    "tr = get_TR_from_PR_and_divs(pr, dv).dropna()\n",
    "#tr = pr"
   ]
  },
  {
   "cell_type": "code",
   "execution_count": null,
   "metadata": {
    "ExecuteTime": {
     "end_time": "2019-04-01T18:27:36.747838Z",
     "start_time": "2019-04-01T18:27:36.505589Z"
    }
   },
   "outputs": [],
   "source": [
    "x = shiller_snp500(taxes=True, inf_adj=True, tax_rate=1)\n",
    "show_dd(x)"
   ]
  },
  {
   "cell_type": "code",
   "execution_count": null,
   "metadata": {
    "ExecuteTime": {
     "end_time": "2019-04-01T18:25:39.422838Z",
     "start_time": "2019-04-01T18:25:37.736666Z"
    }
   },
   "outputs": [],
   "source": [
    "def _mcagr(s, years):\n",
    "    return (np.power(s / s.shift(12*years), 1/years)-1)*100\n",
    "\n",
    "def show_rolling(years):\n",
    "    rol = _mcagr(tr, years).dropna()\n",
    "    med = np.median(rol)\n",
    "    show(0, rol, (med, f\"{med:.2f}%\"), ta=False, log=False,  title=f\"{years}-year rolling real NTR S&P500 return\")\n",
    "\n",
    "show_rolling(5)\n",
    "show_rolling(10)\n",
    "show_rolling(15)\n",
    "show_rolling(20)\n",
    "show_rolling(25)\n",
    "show_rolling(30)\n"
   ]
  },
  {
   "cell_type": "code",
   "execution_count": null,
   "metadata": {
    "ExecuteTime": {
     "end_time": "2018-10-04T20:09:52.112039Z",
     "start_time": "2018-10-04T20:09:51.874036Z"
    }
   },
   "outputs": [],
   "source": [
    "show(tr, title=\"real NTR S&P500 return\")"
   ]
  },
  {
   "cell_type": "code",
   "execution_count": null,
   "metadata": {
    "ExecuteTime": {
     "end_time": "2018-10-11T11:41:55.818887Z",
     "start_time": "2018-10-11T11:41:52.073494Z"
    }
   },
   "outputs": [],
   "source": [
    "# Merge series\n",
    "show(join_rel_align_series([do_interpolate(shiller_snp500()), get('VFINX@Y'), SPY]))"
   ]
  },
  {
   "cell_type": "code",
   "execution_count": null,
   "metadata": {},
   "outputs": [],
   "source": []
  }
 ],
 "metadata": {
  "kernelspec": {
   "display_name": "Python 3",
   "language": "python",
   "name": "python3"
  },
  "language_info": {
   "codemirror_mode": {
    "name": "ipython",
    "version": 3
   },
   "file_extension": ".py",
   "mimetype": "text/x-python",
   "name": "python",
   "nbconvert_exporter": "python",
   "pygments_lexer": "ipython3",
   "version": "3.6.7"
  },
  "varInspector": {
   "cols": {
    "lenName": 16,
    "lenType": 16,
    "lenVar": 40
   },
   "kernels_config": {
    "python": {
     "delete_cmd_postfix": "",
     "delete_cmd_prefix": "del ",
     "library": "var_list.py",
     "varRefreshCmd": "print(var_dic_list())"
    },
    "r": {
     "delete_cmd_postfix": ") ",
     "delete_cmd_prefix": "rm(",
     "library": "var_list.r",
     "varRefreshCmd": "cat(var_dic_list()) "
    }
   },
   "types_to_exclude": [
    "module",
    "function",
    "builtin_function_or_method",
    "instance",
    "_Feature"
   ],
   "window_display": false
  }
 },
 "nbformat": 4,
 "nbformat_minor": 2
}
