{
 "cells": [
  {
   "cell_type": "code",
   "execution_count": null,
   "metadata": {
    "ExecuteTime": {
     "end_time": "2019-07-06T11:14:39.566873Z",
     "start_time": "2019-07-06T11:14:37.166130Z"
    }
   },
   "outputs": [],
   "source": [
    "%run retropy.ipynb"
   ]
  },
  {
   "cell_type": "code",
   "execution_count": null,
   "metadata": {
    "ExecuteTime": {
     "end_time": "2019-07-06T11:14:46.901397Z",
     "start_time": "2019-07-06T11:14:39.568546Z"
    }
   },
   "outputs": [],
   "source": [
    "_ = get([\"NB.TO\", 'NIOBF'], cache=False)"
   ]
  },
  {
   "cell_type": "code",
   "execution_count": null,
   "metadata": {
    "ExecuteTime": {
     "end_time": "2019-07-06T11:14:53.436132Z",
     "start_time": "2019-07-06T11:14:46.904655Z"
    }
   },
   "outputs": [],
   "source": [
    "t = get('NB.TO')\n",
    "show_min_max_bands(t, 365*1.5)\n",
    "SPY = get('SPY')\n",
    "r = t / SPY\n",
    "show_min_max_bands(r, 365*1.5)"
   ]
  },
  {
   "cell_type": "code",
   "execution_count": null,
   "metadata": {
    "ExecuteTime": {
     "end_time": "2019-07-06T11:14:55.851973Z",
     "start_time": "2019-07-06T11:14:53.438659Z"
    }
   },
   "outputs": [],
   "source": [
    "t = get('NIOBF')\n",
    "show_min_max_bands(t, 365*1.5)\n",
    "r = t / SPY\n",
    "show_min_max_bands(r, 365*1.5)"
   ]
  },
  {
   "cell_type": "code",
   "execution_count": null,
   "metadata": {},
   "outputs": [],
   "source": [
    "def get_rolling_std()"
   ]
  },
  {
   "cell_type": "code",
   "execution_count": null,
   "metadata": {
    "ExecuteTime": {
     "end_time": "2019-07-06T11:21:56.550193Z",
     "start_time": "2019-07-06T11:21:56.302955Z"
    }
   },
   "outputs": [],
   "source": [
    "nb = get('NIOBF')\n",
    "nb_std = nb.rolling(180).std().dropna()\n",
    "nb_std = nb_std[nb_std > 0.001]\n",
    "# nb_std = drop_outliers(nb_std)\n",
    "show(nb_std)"
   ]
  },
  {
   "cell_type": "code",
   "execution_count": null,
   "metadata": {
    "ExecuteTime": {
     "end_time": "2019-07-06T11:16:37.927179Z",
     "start_time": "2019-07-06T11:16:37.678764Z"
    }
   },
   "outputs": [],
   "source": [
    "show('NIOBF', ta=False)"
   ]
  },
  {
   "cell_type": "code",
   "execution_count": null,
   "metadata": {
    "ExecuteTime": {
     "end_time": "2019-07-06T11:16:39.197253Z",
     "start_time": "2019-07-06T11:16:38.791525Z"
    }
   },
   "outputs": [],
   "source": [
    "show('NB.TO', ta=False)"
   ]
  },
  {
   "cell_type": "code",
   "execution_count": null,
   "metadata": {},
   "outputs": [],
   "source": []
  }
 ],
 "metadata": {
  "kernelspec": {
   "display_name": "Python 3",
   "language": "python",
   "name": "python3"
  },
  "language_info": {
   "codemirror_mode": {
    "name": "ipython",
    "version": 3
   },
   "file_extension": ".py",
   "mimetype": "text/x-python",
   "name": "python",
   "nbconvert_exporter": "python",
   "pygments_lexer": "ipython3",
   "version": "3.6.7"
  },
  "varInspector": {
   "cols": {
    "lenName": 16,
    "lenType": 16,
    "lenVar": 40
   },
   "kernels_config": {
    "python": {
     "delete_cmd_postfix": "",
     "delete_cmd_prefix": "del ",
     "library": "var_list.py",
     "varRefreshCmd": "print(var_dic_list())"
    },
    "r": {
     "delete_cmd_postfix": ") ",
     "delete_cmd_prefix": "rm(",
     "library": "var_list.r",
     "varRefreshCmd": "cat(var_dic_list()) "
    }
   },
   "types_to_exclude": [
    "module",
    "function",
    "builtin_function_or_method",
    "instance",
    "_Feature"
   ],
   "window_display": false
  }
 },
 "nbformat": 4,
 "nbformat_minor": 2
}
