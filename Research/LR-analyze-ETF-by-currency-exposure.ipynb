{
 "cells": [
  {
   "cell_type": "code",
   "execution_count": null,
   "metadata": {
    "ExecuteTime": {
     "end_time": "2019-04-30T07:24:43.835631Z",
     "start_time": "2019-04-30T07:24:42.229830Z"
    }
   },
   "outputs": [],
   "source": [
    "%run retropy.ipynb"
   ]
  },
  {
   "cell_type": "code",
   "execution_count": null,
   "metadata": {
    "ExecuteTime": {
     "end_time": "2018-08-20T15:30:52.490741Z",
     "start_time": "2018-08-20T15:30:51.433112Z"
    }
   },
   "outputs": [],
   "source": [
    "currencies = get(usdBroadCurrencies, \"CUR\", start=2000)\n",
    "#currencies = get(usdMajorCurrencies, \"CUR\", start=2000)\n",
    "currencies = currencies + [get(\"USDILS@CUR\")]\n",
    "#currencies = [\"USDCAD@CUR\"]\n",
    "sources = currencies\n",
    "sources = [1 / x for x in sources]"
   ]
  },
  {
   "cell_type": "code",
   "execution_count": null,
   "metadata": {
    "ExecuteTime": {
     "end_time": "2018-08-20T15:33:35.585528Z",
     "start_time": "2018-08-20T15:33:26.197714Z"
    }
   },
   "outputs": [],
   "source": [
    "# check how the ETF looks neutralized vs the currency\n",
    "target = get(\"VWO\")\n",
    "bench = ac.ac\n",
    "#_ = get(target, cache=False)"
   ]
  },
  {
   "cell_type": "code",
   "execution_count": null,
   "metadata": {
    "ExecuteTime": {
     "end_time": "2019-04-30T07:25:51.938466Z",
     "start_time": "2019-04-30T07:24:44.497863Z"
    }
   },
   "outputs": [],
   "source": [
    "# x = get(['XBI', 'IBB'], cache=False)\n",
    "# show_comp('XBI', 'IBB')\n",
    "show('FDN', 'SPY', 'XBI', 'KWEB', 'ARKK', cache=False)"
   ]
  },
  {
   "cell_type": "code",
   "execution_count": null,
   "metadata": {},
   "outputs": [],
   "source": [
    "t = get('SPY', mode=\"NTR\", cache=True)\n",
    "s = [1/get(usdBroad), 1/get(usdMajor), 1/get(usdOther)]\n",
    "#args = dict(sum1=True, pos_weights=False, fit_values=False, freq=\"W\")\n",
    "args = dict(sum1=False, pos_weights=True, fit_values=False, freq=\"W\")\n",
    "\n",
    "#s = usdMajorCurrencies\n",
    "#args = dict(sum1=True, sum_max1=False, pos_weights=True, fit_values=False, freq=\"W\")\n",
    "\n",
    "lrret(t, s, **args)\n",
    "fit = lrret(t, s, return_pred_fit=True, show_res=False, **args)\n",
    "show(t / fit, t, fit, 1/get(usdMajor))"
   ]
  },
  {
   "cell_type": "code",
   "execution_count": null,
   "metadata": {
    "ExecuteTime": {
     "end_time": "2018-08-20T15:35:16.022328Z",
     "start_time": "2018-08-20T15:35:07.016283Z"
    }
   },
   "outputs": [],
   "source": [
    "#target = get(target)[\"2015\":]\n",
    "args = tup(sum_max1=True, sum1=True, pos_weights=True, fit_values=False)\n",
    "lrret(target, sources, sum_max1=True, sum1=True, pos_weights=True, fit_values=False, freq=\"D\")\n",
    "#lrret(bench, sources, sum_max1=False, pos_weights=False, fit_values=False, freq=\"D\")\n",
    "#show(lrret(target, sources, sum_max1=False, sum1=False, pos_weights=True, fit_values=False, freq=\"D\", return_pred_fit=True, show_res=False))"
   ]
  },
  {
   "cell_type": "code",
   "execution_count": null,
   "metadata": {
    "ExecuteTime": {
     "end_time": "2018-08-20T15:33:35.585528Z",
     "start_time": "2018-08-20T15:33:26.197714Z"
    }
   },
   "outputs": [],
   "source": [
    "pred = lrret(target, sources, sum_max1=False, pos_weights=False, fit_values=False, freq=\"D\", show_res=False, return_pred_fit=True)\n",
    "target_cur = name(get(target) / pred, target + \" local-cur\").dropna()\n",
    "\n",
    "pred = lrret(bench,  sources, sum_max1=False, pos_weights=False, fit_values=False, freq=\"D\", show_res=False, return_pred_fit=True)\n",
    "bench_cur = name(get(bench) / pred, bench + \" local-cur\").dropna()\n",
    "\n",
    "#show(target, target_cur, bench, bench_cur)\n",
    "show(target, target_cur)"
   ]
  },
  {
   "cell_type": "code",
   "execution_count": null,
   "metadata": {},
   "outputs": [],
   "source": [
    "show(get(target, mode=\"TR\") / get(ta125), 1/get(\"USDILS@CUR\"))"
   ]
  },
  {
   "cell_type": "code",
   "execution_count": null,
   "metadata": {
    "ExecuteTime": {
     "end_time": "2018-08-20T15:33:35.966673Z",
     "start_time": "2018-08-20T15:33:35.587962Z"
    }
   },
   "outputs": [],
   "source": [
    "all = [target, target_cur, bench, bench_cur]\n",
    "showRiskReturn(*all)"
   ]
  },
  {
   "cell_type": "code",
   "execution_count": null,
   "metadata": {},
   "outputs": [],
   "source": []
  }
 ],
 "metadata": {
  "kernelspec": {
   "display_name": "Python [conda env:retropy]",
   "language": "python",
   "name": "conda-env-retropy-py"
  },
  "language_info": {
   "codemirror_mode": {
    "name": "ipython",
    "version": 3
   },
   "file_extension": ".py",
   "mimetype": "text/x-python",
   "name": "python",
   "nbconvert_exporter": "python",
   "pygments_lexer": "ipython3",
   "version": "3.6.7"
  },
  "varInspector": {
   "cols": {
    "lenName": 16,
    "lenType": 16,
    "lenVar": 40
   },
   "kernels_config": {
    "python": {
     "delete_cmd_postfix": "",
     "delete_cmd_prefix": "del ",
     "library": "var_list.py",
     "varRefreshCmd": "print(var_dic_list())"
    },
    "r": {
     "delete_cmd_postfix": ") ",
     "delete_cmd_prefix": "rm(",
     "library": "var_list.r",
     "varRefreshCmd": "cat(var_dic_list()) "
    }
   },
   "types_to_exclude": [
    "module",
    "function",
    "builtin_function_or_method",
    "instance",
    "_Feature"
   ],
   "window_display": false
  }
 },
 "nbformat": 4,
 "nbformat_minor": 2
}
