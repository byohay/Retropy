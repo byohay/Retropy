{
 "cells": [
  {
   "cell_type": "code",
   "execution_count": null,
   "metadata": {
    "ExecuteTime": {
     "end_time": "2018-10-11T07:05:57.281438Z",
     "start_time": "2018-10-11T07:05:53.710359Z"
    }
   },
   "outputs": [],
   "source": [
    "%run retropy.ipynb"
   ]
  },
  {
   "cell_type": "code",
   "execution_count": null,
   "metadata": {
    "ExecuteTime": {
     "end_time": "2018-10-11T07:08:26.694272Z",
     "start_time": "2018-10-11T07:08:25.615762Z"
    }
   },
   "outputs": [],
   "source": [
    "#all = [PGX, PGF, FPE]\n",
    "# all = [SPY, AGG]\n",
    "# all = [TLT, EDV, ZROZ, UBT, TMF]\n",
    "# all = [FDN, QQQ]\n",
    "# all = [VNQ]\n",
    "# all = [VCSH]\n",
    "# all = [MINT, NEAR, FLOT]\n",
    "# all = [IBB, XBI]\n",
    "# all = [EMB, VWOB, EBND, LEMB, EMLC]\n",
    "all = ['PGX', 'PGF', 'FPE', 'PFF', 'PSK', 'VRP']\n",
    "show_aum(*all, cache=False)"
   ]
  },
  {
   "cell_type": "code",
   "execution_count": null,
   "metadata": {
    "ExecuteTime": {
     "end_time": "2018-10-11T07:08:26.694272Z",
     "start_time": "2018-10-11T07:08:25.615762Z"
    }
   },
   "outputs": [],
   "source": [
    "show_aum_vs_return(FPE)"
   ]
  },
  {
   "cell_type": "code",
   "execution_count": null,
   "metadata": {
    "ExecuteTime": {
     "end_time": "2018-10-11T06:46:19.324997Z",
     "start_time": "2018-10-11T06:46:18.472778Z"
    }
   },
   "outputs": [],
   "source": [
    "show_dd(SPY, aum_flow(VXX), do_get=False)"
   ]
  },
  {
   "cell_type": "code",
   "execution_count": null,
   "metadata": {
    "ExecuteTime": {
     "end_time": "2018-10-10T19:15:41.025172Z",
     "start_time": "2018-10-10T19:15:40.966113Z"
    }
   },
   "outputs": [],
   "source": [
    "long_bonds = ['EDV', 'ZROZ', elgb, 'TLT', lgb] + ['TMF', 'UST', 'UBT', 'PPTB', 'TYD']"
   ]
  },
  {
   "cell_type": "code",
   "execution_count": null,
   "metadata": {
    "ExecuteTime": {
     "end_time": "2018-10-10T08:39:13.862063Z",
     "start_time": "2018-10-10T08:37:48.358798Z"
    }
   },
   "outputs": [],
   "source": [
    "analyze_assets(*long_bonds, start=2015)"
   ]
  },
  {
   "cell_type": "code",
   "execution_count": null,
   "metadata": {
    "ExecuteTime": {
     "end_time": "2018-08-27T20:59:09.157699Z",
     "start_time": "2018-08-27T20:59:08.878077Z"
    }
   },
   "outputs": [],
   "source": [
    "show_yields(EDV)"
   ]
  },
  {
   "cell_type": "code",
   "execution_count": null,
   "metadata": {
    "ExecuteTime": {
     "end_time": "2018-10-10T19:14:42.194874Z",
     "start_time": "2018-10-10T19:14:40.097466Z"
    }
   },
   "outputs": [],
   "source": [
    "show_dd(*get(long_bonds, trim=True, start=UBT), mode=\"PR\")"
   ]
  },
  {
   "cell_type": "code",
   "execution_count": null,
   "metadata": {
    "ExecuteTime": {
     "end_time": "2018-09-08T08:04:45.656551Z",
     "start_time": "2018-09-08T08:04:45.651881Z"
    }
   },
   "outputs": [],
   "source": [
    "mixs = [mix(lc, lgb), mix(lc, 'TLT'), mix(lc, elgb), mix(lc, 'EDV')]"
   ]
  },
  {
   "cell_type": "code",
   "execution_count": null,
   "metadata": {
    "ExecuteTime": {
     "end_time": "2018-08-27T20:59:39.948104Z",
     "start_time": "2018-08-27T20:59:09.166133Z"
    }
   },
   "outputs": [],
   "source": [
    "show_risk_return(*get(mixs, trim=True, mode=\"TR\"))\n",
    "show_risk_return(*get(mixs, trim=True, mode=\"NTR\"))\n",
    "show_risk_return(*get(mixs, trim=True, mode=\"PR\"))"
   ]
  },
  {
   "cell_type": "code",
   "execution_count": null,
   "metadata": {
    "ExecuteTime": {
     "end_time": "2018-08-27T21:01:20.154154Z",
     "start_time": "2018-08-27T21:01:18.829696Z"
    }
   },
   "outputs": [],
   "source": [
    "show(doAlign(modes(EDV)), get_yield_true(EDV)/10, log=False, ta=False)"
   ]
  },
  {
   "cell_type": "code",
   "execution_count": null,
   "metadata": {
    "ExecuteTime": {
     "end_time": "2018-10-10T19:12:19.982571Z",
     "start_time": "2018-10-10T19:12:19.112353Z"
    }
   },
   "outputs": [],
   "source": [
    "show_modes_comp(ZROZ, EDV)"
   ]
  },
  {
   "cell_type": "code",
   "execution_count": null,
   "metadata": {
    "ExecuteTime": {
     "end_time": "2018-10-10T19:11:22.674841Z",
     "start_time": "2018-10-10T19:11:20.478643Z"
    }
   },
   "outputs": [],
   "source": [
    "# note that ZROZ acts like slightly leveraged version of EDV (~1.05)\n",
    "# so historicaly higher returns could stem only from this\n",
    "t = get(\"ZROZ\", mode=\"TR\")\n",
    "s = get(\"EDV\", mode=\"TR\")\n",
    "lrret(t, [s], sum1=False, fit_values=False)\n",
    "show_rolling_beta(t, [s])"
   ]
  },
  {
   "cell_type": "code",
   "execution_count": null,
   "metadata": {},
   "outputs": [],
   "source": [
    "# elgb price draw-down is much worse than EDV, and they don't have a leverage ratio, it's just worse\n",
    "show_dd(EDV, elgb)\n",
    "show_rolling_beta(elgb, EDV)\n",
    "show_rolling_beta(elgb, EDV, freq=\"M\")"
   ]
  },
  {
   "cell_type": "markdown",
   "metadata": {},
   "source": [
    "# Regression for UBT and TMF - x2 and x3 leveraged TLT\n",
    "\n",
    "notes:\n",
    "- the smoothest regression is x2 daily returns of TLT, as that the the definition of UBT (x3 for TMF)\n",
    "- we can add some bias to the daily return for a better fit, but it seems that the efficency of TLT/UBT changed over times, which makes the fixed bias unable to provide an exact fit in performance across all time periods\n",
    "- there are slight changes in how a leveraged series looks when using i_ret(ret(x)) vs i_logret(logret(x)). It'n unclear yet which is the correct one to use. It seems that i_ret(ret(x)) provides a smoother relative regression, indicating that (upto efficiency of leveraged ETFs) it is the correct one to use"
   ]
  },
  {
   "cell_type": "code",
   "execution_count": null,
   "metadata": {
    "ExecuteTime": {
     "end_time": "2018-09-06T09:20:43.373350Z",
     "start_time": "2018-09-06T09:20:39.348471Z"
    }
   },
   "outputs": [],
   "source": [
    "pred = lrret(UBT, [TLT, lgb], mode='PR', sum1=False, fit_values=True, return_pred=True)\n",
    "pred2 = lrret(UBT, [lgb], mode='PR', sum1=False, fit_values=True, return_pred=True)\n",
    "#show(get(pred, rebal=\"day\"), UBT)\n"
   ]
  },
  {
   "cell_type": "code",
   "execution_count": null,
   "metadata": {
    "ExecuteTime": {
     "end_time": "2018-09-06T09:21:00.582628Z",
     "start_time": "2018-09-06T09:20:43.376543Z"
    }
   },
   "outputs": [],
   "source": [
    "ubt_tlt = get(pred, rebal=\"day\")\n",
    "ubt_lgb = get(pred2, rebal=\"day\")\n",
    "show(pr(ubt_lgb), pr(ubt_tlt), pr(UBT), trim=False, align='rel')\n",
    "show_modes_comp(ubt_tlt, UBT)\n",
    "show_modes_comp(ubt_lgb, UBT)\n",
    "show_dd_price_actions(ubt_tlt, SPY)\n",
    "show_dd_price_actions(ubt_lgb, SPY)\n",
    "show_dd(ubt_lgb, ubt_tlt, UBT)\n",
    "show(SPY[\"1996\":], ubt_lgb, ubt_tlt, UBT, trim=False, align='rel')"
   ]
  },
  {
   "cell_type": "code",
   "execution_count": null,
   "metadata": {
    "ExecuteTime": {
     "end_time": "2018-09-06T11:02:48.186532Z",
     "start_time": "2018-09-06T11:02:43.611596Z"
    }
   },
   "outputs": [],
   "source": [
    "# note: trying to regress on 'PR' provides much worse fits than 'TR'\n",
    "# this makes sense, as the price is affected by dividends\n",
    "mode = \"TR\"\n",
    "\n",
    "base = get(TLT, mode=mode)\n",
    "target = get(UBT, mode=mode)\n",
    "factor = 2\n",
    "\n",
    "target_ret = name(i_ret(ret(base)*factor), 'ret')\n",
    "target_logret = name(i_logret(logret(base)*factor), 'logret')\n",
    "args = dict(sum1=False, return_pred=True, show_res=False)\n",
    "target_lrret_vals_none = name(get(lrret(UBT, [TLT], **args), rebal='none'), 'lrret-vals-none')\n",
    "target_lrret_vals_day  = name(get(lrret(UBT, [TLT], **args), rebal='day'), 'lrrret-vals-day')\n",
    "target_lrret_rets_none = name(get(lrret(UBT, [TLT], **args, fit_values=False), rebal='none'), 'lrrret-rets-none')\n",
    "target_lrret_rets_day  = name(get(lrret(UBT, [TLT], **args, fit_values=False), rebal='day'), 'lrrret-rets-day')\n",
    "\n",
    "all = [target, target_ret, target_logret, target_lrret_vals_none, target_lrret_vals_day, target_lrret_rets_none, target_lrret_rets_day]\n",
    "show([sdiv(x, target) for x in all])\n",
    "\n",
    "#z = -0.00002\n",
    "#show([name(i_ret(ret(x)*2+d)/b, str(d)) for d in np.linspace(-1, 2, 20)*0.0001], 1)\n",
    "#show(1, i_ret(ret(x)*2+z)/b, i_logret(logret(x)*2+z-0.000047)/b)\n",
    "#ubt_tlt = i_ret(ret(x)*2+z)"
   ]
  },
  {
   "cell_type": "code",
   "execution_count": null,
   "metadata": {
    "ExecuteTime": {
     "end_time": "2018-09-06T10:23:53.131028Z",
     "start_time": "2018-09-06T10:23:46.120102Z"
    }
   },
   "outputs": [],
   "source": [
    "ubt, tlt = get([UBT, TLT], mode=\"PR\", trim=False)\n",
    "show_dd(ubt, i_ret(ret(tlt)*2), i_logret(logret(tlt)*2))\n",
    "tmf, tlt = get([TMF, TLT], mode=\"PR\", trim=False)\n",
    "show_dd(tmf, i_ret(ret(tlt)*3), i_logret(logret(tlt)*3))\n",
    "\n",
    "ubt, tlt = get([UBT, TLT], mode=\"PR\", trim=False)\n",
    "show(ubt, i_ret(ret(tlt)*2), i_logret(logret(tlt)*2), trim=False)\n",
    "tmf, tlt = get([TMF, TLT], mode=\"PR\", trim=False)\n",
    "show(tmf, i_ret(ret(tlt)*3), i_logret(logret(tlt)*3), trim=False)"
   ]
  },
  {
   "cell_type": "code",
   "execution_count": null,
   "metadata": {
    "ExecuteTime": {
     "end_time": "2018-09-06T09:29:33.867457Z",
     "start_time": "2018-09-06T09:29:28.232464Z"
    }
   },
   "outputs": [],
   "source": [
    "show([sdiv(name(get({lgb: x}, rebal=\"day\"), str(x)), pr(UBT)) for x in range(150, 250, 10)], 1)"
   ]
  },
  {
   "cell_type": "code",
   "execution_count": null,
   "metadata": {
    "ExecuteTime": {
     "end_time": "2018-09-06T09:50:05.284341Z",
     "start_time": "2018-09-06T09:50:01.009718Z"
    }
   },
   "outputs": [],
   "source": [
    "x = pr(TLT)\n",
    "show(get({'TLT':200}, mode='PR', rebal='day'), i_ret(ret(x)*2), i_logret(logret(x)*2))\n",
    "show(get('TLT', mode='PR', rebal='day'), i_ret(ret(x)), i_logret(logret(x)))"
   ]
  }
 ],
 "metadata": {
  "kernelspec": {
   "display_name": "Python 3",
   "language": "python",
   "name": "python3"
  },
  "language_info": {
   "codemirror_mode": {
    "name": "ipython",
    "version": 3
   },
   "file_extension": ".py",
   "mimetype": "text/x-python",
   "name": "python",
   "nbconvert_exporter": "python",
   "pygments_lexer": "ipython3",
   "version": "3.6.7"
  },
  "varInspector": {
   "cols": {
    "lenName": 16,
    "lenType": 16,
    "lenVar": 40
   },
   "kernels_config": {
    "python": {
     "delete_cmd_postfix": "",
     "delete_cmd_prefix": "del ",
     "library": "var_list.py",
     "varRefreshCmd": "print(var_dic_list())"
    },
    "r": {
     "delete_cmd_postfix": ") ",
     "delete_cmd_prefix": "rm(",
     "library": "var_list.r",
     "varRefreshCmd": "cat(var_dic_list()) "
    }
   },
   "types_to_exclude": [
    "module",
    "function",
    "builtin_function_or_method",
    "instance",
    "_Feature"
   ],
   "window_display": false
  }
 },
 "nbformat": 4,
 "nbformat_minor": 2
}
