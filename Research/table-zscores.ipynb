{
 "cells": [
  {
   "cell_type": "code",
   "execution_count": null,
   "metadata": {
    "ExecuteTime": {
     "end_time": "2019-07-08T18:19:34.325826Z",
     "start_time": "2019-07-08T18:19:32.132589Z"
    }
   },
   "outputs": [],
   "source": [
    "%run retropy.ipynb"
   ]
  },
  {
   "cell_type": "code",
   "execution_count": null,
   "metadata": {
    "ExecuteTime": {
     "end_time": "2019-07-08T18:19:34.362060Z",
     "start_time": "2019-07-08T18:19:34.327660Z"
    }
   },
   "outputs": [],
   "source": [
    "#import framework.etfs_high_yield as hy\n",
    "#all_ = hy.select\n",
    "\n",
    "#all_ = etfs.all_bonds\n",
    "all_ = cefs.fixed_income\n"
   ]
  },
  {
   "cell_type": "code",
   "execution_count": null,
   "metadata": {
    "ExecuteTime": {
     "end_time": "2019-07-08T18:35:27.256896Z",
     "start_time": "2019-07-08T18:35:25.835758Z"
    }
   },
   "outputs": [],
   "source": [
    "bench = ['SPY', 'BND', 'JNK', 'LQD', 'PCEF', 'YYY', 'IEF'] # lev: CEFL\n",
    "bench = ['SPY', 'AGG', 'JNK', 'LQD', 'PCEF', 'YYY', 'IEF', 'ANGL', 'FPE', 'EMB', 'EBND', 'BAB'] # lev: CEFL\n",
    "#bench = ['TLT']\n",
    "bench = []\n",
    "\n",
    "conf_cache_fails = True\n",
    "all = get(all_ + bench, start=2015, source=\"Y\", mode=\"NTR\", error='ignore')\n",
    "all_trim = get(all, trim=True)"
   ]
  },
  {
   "cell_type": "code",
   "execution_count": null,
   "metadata": {
    "ExecuteTime": {
     "end_time": "2019-07-08T18:35:27.439220Z",
     "start_time": "2019-07-08T18:35:27.375554Z"
    }
   },
   "outputs": [],
   "source": [
    "_cache = [None]"
   ]
  },
  {
   "cell_type": "code",
   "execution_count": null,
   "metadata": {
    "ExecuteTime": {
     "end_time": "2019-07-08T18:35:27.949544Z",
     "start_time": "2019-07-08T18:35:27.882789Z"
    }
   },
   "outputs": [],
   "source": [
    "\n",
    "marks = [\n",
    "        # HOLDING\n",
    "        [['JPS', 'BHK', 'GBAB', 'MPV', 'PAI'], 'background-color: #00ff00'],\n",
    "        # interesting\n",
    "        [set(['MPV', 'DBL', 'DMO', 'GBAB',  'DSL', 'BBN', 'HYT', 'AWF', 'BTZ', 'BHK', 'MCI', 'NBB', 'PDT', 'HPF', 'TSI', 'BIT', 'PAI', 'GOF']), 'background-color: green'],\n",
    "        # pimco\n",
    "        [set(cefs.pimco), 'background-color: yellow'],\n",
    "        # preferred\n",
    "        [set(['JPS', 'JPC', 'LDP', 'FFC', 'DFP', 'HPS', 'HPI', 'FPF', 'JPI', 'PSF', 'FLC', 'PGX', 'PGF', 'FPE', 'PFF', 'PSK', 'VRP']), 'background-color: #CD6155'],\n",
    "        # municipal\n",
    "        [set(['FMB', 'MLN', 'ITM'] + etfs.all_tax_preferred), 'background-color: #C6D155'],\n",
    "        # long-govt\n",
    "        [set(etfs.all_govt_long), 'background-color: #C83185'],\n",
    "        # long-govt\n",
    "        [set(etfs.all_ultra_short), 'background-color: #F0F105'],\n",
    "]"
   ]
  },
  {
   "cell_type": "code",
   "execution_count": null,
   "metadata": {
    "ExecuteTime": {
     "end_time": "2019-07-08T18:38:53.008616Z",
     "start_time": "2019-07-08T18:38:51.198783Z"
    }
   },
   "outputs": [],
   "source": [
    "idx=None\n",
    "#lst = [JPS, FPF,  BBN, GBAB,  DBL, DMO,  HYT, DSL, AWF, BTZ, PFN, MCI, TSI, GOF, TSLF] # MCI, TSI\n",
    "#idx=_cache[0].reset_index()[\"name\"].apply(get_ticker_name).isin(lmap(get_ticker_name, lst)).values\n",
    "#idx=_cache[0][\"get_cef_section\"] == \"Investment Grade\"\n",
    "#idx=_cache[0][\"get_sponsor\"] == \"Doubleline\"\n",
    "display_zscores(all_trim, marks=marks, idx=idx, _cache=_cache, fillna=False)"
   ]
  },
  {
   "cell_type": "code",
   "execution_count": null,
   "metadata": {},
   "outputs": [],
   "source": [
    "analyze_assets(TSI, INSI, PAI, VBF, AGG, gb, cb, lgb, LQD, few=True)\n",
    "analyze_assets(GBAB, BAB, few=True)"
   ]
  },
  {
   "cell_type": "code",
   "execution_count": null,
   "metadata": {
    "ExecuteTime": {
     "end_time": "2018-10-11T11:58:16.065638Z",
     "start_time": "2018-10-11T11:58:15.994203Z"
    }
   },
   "outputs": [],
   "source": [
    "df = meta_dfs.cef_metadata_df\n",
    "df[\"sec_main\"].value_counts()\n",
    "df[\"sec_sub\"].value_counts()\n",
    "df.query('sec_main == \"Specialty Equity Funds\"')[\"sec_sub\"].value_counts()\n",
    "df[\"sponsor\"].value_counts()"
   ]
  }
 ],
 "metadata": {
  "kernelspec": {
   "display_name": "Python 3",
   "language": "python",
   "name": "python3"
  },
  "language_info": {
   "codemirror_mode": {
    "name": "ipython",
    "version": 3
   },
   "file_extension": ".py",
   "mimetype": "text/x-python",
   "name": "python",
   "nbconvert_exporter": "python",
   "pygments_lexer": "ipython3",
   "version": "3.6.7"
  },
  "varInspector": {
   "cols": {
    "lenName": 16,
    "lenType": 16,
    "lenVar": 40
   },
   "kernels_config": {
    "python": {
     "delete_cmd_postfix": "",
     "delete_cmd_prefix": "del ",
     "library": "var_list.py",
     "varRefreshCmd": "print(var_dic_list())"
    },
    "r": {
     "delete_cmd_postfix": ") ",
     "delete_cmd_prefix": "rm(",
     "library": "var_list.r",
     "varRefreshCmd": "cat(var_dic_list()) "
    }
   },
   "types_to_exclude": [
    "module",
    "function",
    "builtin_function_or_method",
    "instance",
    "_Feature"
   ],
   "window_display": false
  }
 },
 "nbformat": 4,
 "nbformat_minor": 2
}
