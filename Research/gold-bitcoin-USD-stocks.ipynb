{
 "cells": [
  {
   "cell_type": "code",
   "execution_count": null,
   "metadata": {
    "ExecuteTime": {
     "end_time": "2019-05-05T07:45:36.882583Z",
     "start_time": "2019-05-05T07:45:34.333445Z"
    }
   },
   "outputs": [],
   "source": [
    "%run retropy.ipynb"
   ]
  },
  {
   "cell_type": "code",
   "execution_count": null,
   "metadata": {
    "ExecuteTime": {
     "end_time": "2019-05-05T07:51:49.825352Z",
     "start_time": "2019-05-05T07:51:47.153220Z"
    }
   },
   "outputs": [],
   "source": [
    "spy = shiller_snp500(taxes=True, tax_rate=1)\n",
    "gold = get(gold)\n",
    "bitcoin = get(\"BTC@CC\")\n",
    "usd = 1/get(cpiUS)\n",
    "all = [spy, gold, bitcoin, usd]\n",
    "show_dd(*all, do_get=False)"
   ]
  },
  {
   "cell_type": "code",
   "execution_count": null,
   "metadata": {},
   "outputs": [],
   "source": []
  }
 ],
 "metadata": {
  "kernelspec": {
   "display_name": "Python [conda env:retropy]",
   "language": "python",
   "name": "conda-env-retropy-py"
  },
  "language_info": {
   "codemirror_mode": {
    "name": "ipython",
    "version": 3
   },
   "file_extension": ".py",
   "mimetype": "text/x-python",
   "name": "python",
   "nbconvert_exporter": "python",
   "pygments_lexer": "ipython3",
   "version": "3.6.7"
  }
 },
 "nbformat": 4,
 "nbformat_minor": 2
}
