{
 "cells": [
  {
   "cell_type": "code",
   "execution_count": null,
   "metadata": {
    "ExecuteTime": {
     "end_time": "2019-05-05T06:46:56.265387Z",
     "start_time": "2019-05-05T06:46:53.522441Z"
    }
   },
   "outputs": [],
   "source": [
    "%run retropy.ipynb"
   ]
  },
  {
   "cell_type": "code",
   "execution_count": null,
   "metadata": {
    "ExecuteTime": {
     "end_time": "2019-05-05T06:56:15.373724Z",
     "start_time": "2019-05-05T06:56:12.557026Z"
    }
   },
   "outputs": [],
   "source": [
    "cherry1 = name(get(\"EDV:20|GLD:20|VBR:20|VWO:20|VNQ:20\"), \"cherry1\")\n",
    "\n",
    "cherry2 = name(get(\"VBR:16.7|SCZ:16.7|VWO:16.7|VNQ:10|TLT:10|GLD:10|IEI:10|EMB:10\"), \"cherry2\")\n",
    "\n",
    "#cherry3 = name(get(\"VOO:3.8|VO:3.8|VB:3.8|FDN:3.8|IBB:3.8|SSO:3.8|SVXY:3.8|VEA:3.8|VSS:3.8|VWO:3.8|FM:3.8|VNQ:4|VNQI:4|EMB:8|VGSH:5|TIP:5|IAU:10.2\"), \"cherry3\")\n",
    "cherry3 = name(get(\"VOO:3.8|VO:3.8|VB:3.8|FDN:3.8|IBB:3.8|SSO:7.6|VEA:3.8|VSS:3.8|VWO:3.8|FM:3.8|VNQ:4|VNQI:4|EMB:8|VGSH:5|TIP:5|IAU:10.2\"), \"cherry3\")\n",
    "\n",
    "cherry4 = name(get(\"VOO:10|VBR:10|VB:3.8|FDN:3.33|IBB:3.33|FDN:3.33|VNQ:5|VNQI:5|VEA:5|SCZ:5|VWO:10|BOND:8|TOTL:8|EDV:18|IAU:8\"), \"cherry4\")\n",
    "\n",
    "# cherry5 =  name(get(\"VTI:4.9|VXUS:4.9|VWO:4|SPY:4|XT:0.8|KWEB:1.6|QQQ:0.4|FDN:0.4|IBB:0.4|ARKW:0.4|IJR:0.5|VLUE:0.5|USMV:0.5|MTUM:0.2|VSS:2|VNQ:2|VNQI:2|HTUS:3|EMB:2|EBND:2|BOND:2|TOTL:2|EDV:8|MINT:4|IAU:4\"), \"cherry5\")\n",
    "cherry5 = name(get(\"VTI:4.9|VXUS:4.9|VWO:4|SPY:4|XT:0.8|KWEB:1.6|QQQ:0.4|FDN:0.4|IBB:0.4|ARKW:0.4|IJR:0.5|VLUE:0.5|USMV:0.5|MTUM:0.2|VSS:2|VNQ:2|VNQI:2|VOO:3|EMB:2|EBND:2|BOND:2|TOTL:2|EDV:8|MINT:4|IAU:4\"), \"cherry5\")\n",
    "\n",
    "all = [\"SPY\", \"SPY:60|AGG:40\", \"SPY:30|VXUS:30|AGG:40\",  cherry1, cherry2, cherry3, cherry4, cherry5]\n",
    "show(all, mode=\"NTR\", trim=False, align=\"rel\", source=\"Y\")\n"
   ]
  },
  {
   "cell_type": "code",
   "execution_count": null,
   "metadata": {
    "ExecuteTime": {
     "end_time": "2019-05-05T06:56:16.897931Z",
     "start_time": "2019-05-05T06:56:15.375712Z"
    }
   },
   "outputs": [],
   "source": [
    "bench = get(\"SPY:30|VXUS:30|AGG:40\", cache=True, source=\"Y\")\n",
    "all_ = [get(x, source=\"Y\") / bench for x in all]\n",
    "show(all_)"
   ]
  },
  {
   "cell_type": "code",
   "execution_count": null,
   "metadata": {
    "ExecuteTime": {
     "end_time": "2019-05-05T06:57:06.975474Z",
     "start_time": "2019-05-05T06:57:06.599703Z"
    }
   },
   "outputs": [],
   "source": [
    "show_rr(*all)"
   ]
  },
  {
   "cell_type": "code",
   "execution_count": null,
   "metadata": {
    "ExecuteTime": {
     "end_time": "2018-09-03T10:54:15.722153Z",
     "start_time": "2018-09-03T10:54:12.197640Z"
    }
   },
   "outputs": [],
   "source": [
    "show_modes_comp(port, \"VT:150\")\n",
    "#show(price(\"VT\"), price(\"VT:150\"), ta=False, log=False)"
   ]
  },
  {
   "cell_type": "code",
   "execution_count": null,
   "metadata": {
    "ExecuteTime": {
     "end_time": "2019-04-30T07:22:54.853494Z",
     "start_time": "2019-04-30T07:22:52.416069Z"
    }
   },
   "outputs": [],
   "source": [
    "lrret(lgb, gb, sum1=False)\n",
    "lrret(elgb, lgb, sum1=False)"
   ]
  },
  {
   "cell_type": "code",
   "execution_count": null,
   "metadata": {
    "ExecuteTime": {
     "end_time": "2018-08-23T03:49:03.159767Z",
     "start_time": "2018-08-23T03:49:01.496330Z"
    }
   },
   "outputs": [],
   "source": [
    "show(elgb, get({lgb:143.15}), trim=False)"
   ]
  },
  {
   "cell_type": "code",
   "execution_count": null,
   "metadata": {
    "ExecuteTime": {
     "start_time": "2019-04-30T07:23:13.700Z"
    }
   },
   "outputs": [],
   "source": [
    "showRiskReturn(mix(g_ac, lgb), mix(g_ac, gb))"
   ]
  },
  {
   "cell_type": "code",
   "execution_count": null,
   "metadata": {
    "ExecuteTime": {
     "end_time": "2018-08-23T03:47:40.221780Z",
     "start_time": "2018-08-23T03:47:37.526793Z"
    }
   },
   "outputs": [],
   "source": [
    "show(lgb, gb, g_ac)"
   ]
  },
  {
   "cell_type": "code",
   "execution_count": null,
   "metadata": {
    "ExecuteTime": {
     "end_time": "2018-09-03T10:27:19.674511Z",
     "start_time": "2018-09-03T10:27:17.541460Z"
    }
   },
   "outputs": [],
   "source": [
    "#lrret('VT', [QQQ, FDN, IBB, VWO])\n",
    "port = 'QQQ:16.6|FDN:16.6|IBB:16.6|VWO:50'\n",
    "src = get('VTI:45|VXUS:55', trim=FDN)\n",
    "#src.name = \"~VT\"\n",
    "lrret(port, VT, pos_weights=False, sum1=False)"
   ]
  },
  {
   "cell_type": "code",
   "execution_count": null,
   "metadata": {
    "ExecuteTime": {
     "end_time": "2018-09-03T11:23:38.943524Z",
     "start_time": "2018-09-03T11:23:34.245531Z"
    }
   },
   "outputs": [],
   "source": [
    "show_modes_comp(port, \"VT:150\")"
   ]
  },
  {
   "cell_type": "code",
   "execution_count": null,
   "metadata": {
    "ExecuteTime": {
     "end_time": "2018-09-03T11:21:24.180236Z",
     "start_time": "2018-09-03T11:21:17.003681Z"
    }
   },
   "outputs": [],
   "source": [
    "show_risk_return([price(BND), ntr(BND),BND], mix(\"SPY\", \"BND\", mode=\"PR\", do_get=True), mix(\"SPY\", \"BND\", mode=\"NTR\", do_get=True), mix(\"SPY\", \"BND\", mode=\"TR\", do_get=True))"
   ]
  },
  {
   "cell_type": "code",
   "execution_count": null,
   "metadata": {
    "ExecuteTime": {
     "end_time": "2018-09-03T10:55:09.355935Z",
     "start_time": "2018-09-03T10:55:06.797977Z"
    }
   },
   "outputs": [],
   "source": [
    "show(\"VT\", \"VT:150\", price(\"VT\"), price(\"VT:150\"), ntr(\"VT\"), ntr(\"VT:150\"), ta=False)"
   ]
  },
  {
   "cell_type": "code",
   "execution_count": null,
   "metadata": {
    "ExecuteTime": {
     "end_time": "2018-09-03T10:36:27.180454Z",
     "start_time": "2018-09-03T10:36:23.100054Z"
    }
   },
   "outputs": [],
   "source": [
    "show_modes_comp(port, \"VT:150\")\n",
    "#show(modes(\"VT\"), modes(\"VT:50|AGG:50\"))\n",
    "#get_port(\"VT:200\", \"\", {\"mode\":\"TR\", \"rebal\":\"none\"})\n",
    "#show(get(\"VT\"), get(\"VT:200\"))"
   ]
  },
  {
   "cell_type": "code",
   "execution_count": null,
   "metadata": {
    "ExecuteTime": {
     "end_time": "2018-09-03T07:42:01.342482Z",
     "start_time": "2018-09-03T07:42:00.882667Z"
    }
   },
   "outputs": [],
   "source": [
    "\n",
    "show_rolling_beta(port, 'VT', freq=\"M\")"
   ]
  },
  {
   "cell_type": "code",
   "execution_count": null,
   "metadata": {},
   "outputs": [],
   "source": []
  }
 ],
 "metadata": {
  "kernelspec": {
   "display_name": "Python [conda env:retropy]",
   "language": "python",
   "name": "conda-env-retropy-py"
  },
  "language_info": {
   "codemirror_mode": {
    "name": "ipython",
    "version": 3
   },
   "file_extension": ".py",
   "mimetype": "text/x-python",
   "name": "python",
   "nbconvert_exporter": "python",
   "pygments_lexer": "ipython3",
   "version": "3.6.7"
  },
  "varInspector": {
   "cols": {
    "lenName": 16,
    "lenType": 16,
    "lenVar": 40
   },
   "kernels_config": {
    "python": {
     "delete_cmd_postfix": "",
     "delete_cmd_prefix": "del ",
     "library": "var_list.py",
     "varRefreshCmd": "print(var_dic_list())"
    },
    "r": {
     "delete_cmd_postfix": ") ",
     "delete_cmd_prefix": "rm(",
     "library": "var_list.r",
     "varRefreshCmd": "cat(var_dic_list()) "
    }
   },
   "types_to_exclude": [
    "module",
    "function",
    "builtin_function_or_method",
    "instance",
    "_Feature"
   ],
   "window_display": false
  }
 },
 "nbformat": 4,
 "nbformat_minor": 2
}
