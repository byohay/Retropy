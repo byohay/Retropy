{
 "cells": [
  {
   "cell_type": "code",
   "execution_count": null,
   "metadata": {
    "ExecuteTime": {
     "end_time": "2018-10-11T10:30:33.642017Z",
     "start_time": "2018-10-11T10:30:33.509087Z"
    }
   },
   "outputs": [],
   "source": [
    "%run retropy.ipynb"
   ]
  },
  {
   "cell_type": "code",
   "execution_count": null,
   "metadata": {
    "ExecuteTime": {
     "end_time": "2018-10-11T10:38:53.932664Z",
     "start_time": "2018-10-11T10:38:53.868122Z"
    }
   },
   "outputs": [],
   "source": [
    "# # Volatility\n",
    "\n",
    "# # TIIB data is rebuilt from 2004 to feb-2017\n",
    "# # fuse with latest data to keep up to date\n",
    "# # we use funcs since we have to eval the XIV as a portfolio (it has splits) and not as a price(XIV)\n",
    "# # which will cause it to set start dates for the entire BQL query\n",
    "\n",
    "# xivT = XIV@TIIB\n",
    "# xivG = 'GOOG/NYSEARCA_XIV^Close@Q'\n",
    "# xivY = XIV\n",
    "# xiv = fuse(price(xivT), price(XIV))\n",
    "\n",
    "# zivY = ZIV\n",
    "# zivT = ZIV@TIIB\n",
    "# zivG = 'GOOG/NYSEARCA_ZIV^Close@Q'\n",
    "# ziv = fuse(price(zivT), price(ZIV))\n",
    "\n",
    "# vxxY = VXX\n",
    "# vxxT = VXX@TIIB\n",
    "# vxxG = 'GOOG/NYSEARCA_VXX^Close@Q'\n",
    "# vxx = fuse(price(vxxT), price(VXX))\n",
    "\n",
    "# vxzY = VXZ\n",
    "# vxzT = VXZ@TIIB\n",
    "# vxzG = 'GOOG/NYSEARCA_VXZ^Close@Q'\n",
    "# vxz = fuse(price(vxzT), price(VXZ))\n",
    "\n",
    "\n",
    "# vixQ = 'CBOE/VIX^VIX Close@Q' // Quandle/CBOE\n",
    "# vixY = '^VIX' // yahoo has more data than quandl, but has spikes vs Quandle/CBOE\n",
    "# vixVH = VIX@VH // VanceHarwood data, has data from 2002 and no spikes vs Quandle/CBOE\n",
    "# // 1990-2002 vixY; 2002-2004 vixVH; 2004-today vixQ\n",
    "# vix = fuse(price(vixY), price(vixVH), price(vixQ))\n",
    "# vix = fillGaps(vix, price(vixY)) // we fill gaps with vixY since Yahoo data has live ticker data\n",
    "\n",
    "# vxvQ = 'CBOE/VXV^Close@Q' // Quandle/CBOE\n",
    "# vxvY = '^VXV' // has spikes since inception 12/2007\n",
    "# vxvVH = VXV@VH // VanceHarwood data - matches CBOE perfectly since inception 12/2007, is rebuilt (how?) all the way to 2002, but ends on mid 2016\n",
    "# // 2002-2004 vxvVH; 2004-today vxvQ\n",
    "# vxv = fuse(price(vxvVH), price(vxvQ))\n",
    "\n",
    "# vxstQ = 'CBOE/VXST^Close@Q' // Quandle/CBOE\n",
    "# //vxstY = '^VXST' // Yahoo data is NA\n",
    "# vxstVH = VXST@VH // VanceHarwood data, same 1:1 to Quandl/CBOE but end sin 2014\n",
    "# vxst = vxstQ\n",
    "\n",
    "# vxmt = 'CBOE/VXMT^Close@Q'\n",
    "\n",
    "# // front months\n",
    "# m1T = '1st@TIIB'\n",
    "# m2T = '2nd@TIIB'\n",
    "# // legacy\n",
    "# vf1 = m1T\n",
    "# vf2 = m2T\n",
    "# // new processed\n",
    "# m1P = 'M1@CBOEP'\n",
    "# m2P = 'M2@CBOEP'\n",
    "# m3P = 'M3@CBOEP'\n",
    "# m4P = 'M4@CBOEP'\n",
    "# m5P = 'M5@CBOEP'\n",
    "# m6P = 'M6@CBOEP'\n",
    "# m7P = 'M7@CBOEP'\n",
    "# // combo\n",
    "# m1 = fillGaps(price(m1P), price(m1T))\n",
    "# m2 = fillGaps(price(m2P), price(m2T))\n",
    "\n",
    "# // constant maturity futures\n",
    "# cm1T = '1M@TIIB'\n",
    "# cm1P = 'CM1@CBOEP'\n",
    "# cm1 = fillGaps(price(cm1P), price(cm1T))\n",
    "\n",
    "# // europe vstoxx\n",
    "# vstoxx = 'V2TX@STOXX'\n",
    "# exivIdx = 'VST1MISE@STOXX'\n",
    "# exiv = exivIdx\n",
    "\n",
    "\n",
    "# func ignoreGfc(x) => ignore(x, '2008/09/03', '2008/12/15')\n",
    "\n",
    "# func xivSsoQldZroz(xivW, ssoW, qldW, zrozW) => fetch([\"vol.portfolio\", xivW, ssoW, qldW, zrozW], _ => (xiv:xivW|sso:ssoW|qld:qldW|zroz:zrozW)*1)\n",
    "# func xivZroz(xivW, zrozW) => fetch([\"vol.portfolio\", xivW, zrozW], _ => (xiv:xivW|zroz:zrozW)*1)\n"
   ]
  },
  {
   "cell_type": "code",
   "execution_count": null,
   "metadata": {
    "ExecuteTime": {
     "end_time": "2018-10-11T10:38:59.774187Z",
     "start_time": "2018-10-11T10:38:59.176267Z"
    }
   },
   "outputs": [],
   "source": [
    "vix = get(\"^VIX\")\n",
    "#vstoxx = 'V2TX@STOXX'\n",
    "#vstoxx_FVS1 = get('CHRIS/EUREX_FVS1@Q') # front month continous future contract\n",
    "\n",
    "show(vix, ta=False, log=False)"
   ]
  }
 ],
 "metadata": {
  "kernelspec": {
   "display_name": "Python [default]",
   "language": "python",
   "name": "python3"
  },
  "language_info": {
   "codemirror_mode": {
    "name": "ipython",
    "version": 3
   },
   "file_extension": ".py",
   "mimetype": "text/x-python",
   "name": "python",
   "nbconvert_exporter": "python",
   "pygments_lexer": "ipython3",
   "version": "3.6.6"
  },
  "varInspector": {
   "cols": {
    "lenName": 16,
    "lenType": 16,
    "lenVar": 40
   },
   "kernels_config": {
    "python": {
     "delete_cmd_postfix": "",
     "delete_cmd_prefix": "del ",
     "library": "var_list.py",
     "varRefreshCmd": "print(var_dic_list())"
    },
    "r": {
     "delete_cmd_postfix": ") ",
     "delete_cmd_prefix": "rm(",
     "library": "var_list.r",
     "varRefreshCmd": "cat(var_dic_list()) "
    }
   },
   "types_to_exclude": [
    "module",
    "function",
    "builtin_function_or_method",
    "instance",
    "_Feature"
   ],
   "window_display": false
  }
 },
 "nbformat": 4,
 "nbformat_minor": 2
}
