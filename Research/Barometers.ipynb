{
 "cells": [
  {
   "cell_type": "code",
   "execution_count": null,
   "metadata": {
    "ExecuteTime": {
     "end_time": "2019-03-24T18:21:24.143261Z",
     "start_time": "2019-03-24T18:21:20.891632Z"
    }
   },
   "outputs": [],
   "source": [
    "%run retropy.ipynb"
   ]
  },
  {
   "cell_type": "markdown",
   "metadata": {},
   "source": [
    "https://www.hussmanfunds.com/content/comment/  \n",
    "https://seekingalpha.com/author/avi-gilburt  \n",
    "\n",
    "\n",
    "https://www.advisorperspectives.com/articles/2018/10/23/guggenheim-prepare-for-recession-in-2020  \n",
    "\n",
    "### GMO 7-year forcase\n",
    "https://www.gurufocus.com/news/757979/gmos-7year-asset-class-forecasts-still-favor-emerging-markets-over-us-stocks  \n",
    "https://seekingalpha.com/article/4186559-next-7-years"
   ]
  },
  {
   "cell_type": "markdown",
   "metadata": {},
   "source": [
    "## Shiller S&P500 data"
   ]
  },
  {
   "cell_type": "code",
   "execution_count": null,
   "metadata": {
    "ExecuteTime": {
     "end_time": "2019-03-24T18:21:57.333840Z",
     "start_time": "2019-03-24T18:21:57.268413Z"
    }
   },
   "outputs": [],
   "source": [
    "conf.conf_cache_memory = True\n",
    "conf.conf_cache_disk = True\n"
   ]
  },
  {
   "cell_type": "code",
   "execution_count": null,
   "metadata": {
    "ExecuteTime": {
     "end_time": "2019-03-24T18:23:31.921311Z",
     "start_time": "2019-03-24T18:23:31.852258Z"
    }
   },
   "outputs": [],
   "source": [
    "conf.conf_cache_memory = False\n",
    "conf.conf_cache_disk = False\n",
    "\n",
    "#shiller_snp500(cache=False)"
   ]
  },
  {
   "cell_type": "code",
   "execution_count": null,
   "metadata": {
    "ExecuteTime": {
     "end_time": "2019-03-24T18:21:47.243404Z",
     "start_time": "2019-03-24T18:21:35.978029Z"
    }
   },
   "outputs": [],
   "source": [
    "show(shiller_snp500(), shiller_snp500(taxes=True), shiller_snp500(inf_adj=True), shiller_snp500(inf_adj=True, taxes=True), trim=False)"
   ]
  },
  {
   "cell_type": "code",
   "execution_count": null,
   "metadata": {
    "ExecuteTime": {
     "end_time": "2019-03-24T18:22:00.837069Z",
     "start_time": "2019-03-24T18:22:00.273388Z"
    }
   },
   "outputs": [],
   "source": [
    "t = shiller_snp500()\n",
    "show_min_max_bands(t, 12*7, elr_fit=False)"
   ]
  },
  {
   "cell_type": "code",
   "execution_count": null,
   "metadata": {
    "ExecuteTime": {
     "end_time": "2019-03-24T18:22:25.448285Z",
     "start_time": "2019-03-24T18:22:25.055754Z"
    }
   },
   "outputs": [],
   "source": [
    "# get rolling 10-year S&P500 TR return, and future return (shifted 10 years back)\n",
    "spy = shiller_snp500(taxes=False, inf_adj=False)\n",
    "years = 10\n",
    "rol_10 = mcagr_monthly(spy, years).dropna()\n",
    "fret_10 = rol_10.shift(-12*years)\n",
    "show(rol_10, ta=False)\n",
    "\n",
    "years = 8\n",
    "rol_8 = mcagr_monthly(spy, years).dropna()\n",
    "fret_8 = rol_8.shift(-12*years)\n",
    "show(fret_8, ta=False)"
   ]
  },
  {
   "cell_type": "markdown",
   "metadata": {
    "ExecuteTime": {
     "end_time": "2018-10-07T06:55:17.049212Z",
     "start_time": "2018-10-07T06:55:16.987458Z"
    }
   },
   "source": [
    "## average investor portfolio allocation to equities \n",
    "http://www.philosophicaleconomics.com/2013/12/the-single-greatest-predictor-of-future-stock-market-returns/  \n",
    "http://alephblog.com/2016/06/10/estimating-future-stock-returns-march-2016-update/  \n",
    "https://fred.stlouisfed.org/graph/?g=qis"
   ]
  },
  {
   "cell_type": "code",
   "execution_count": null,
   "metadata": {
    "ExecuteTime": {
     "end_time": "2019-03-24T18:22:56.921785Z",
     "start_time": "2019-03-24T18:22:48.611988Z"
    }
   },
   "outputs": [],
   "source": [
    "# PREDICTOR of future 10-year TR return of S&P500\n",
    "# based on: http://www.philosophicaleconomics.com/2013/12/the-single-greatest-predictor-of-future-stock-market-returns/\n",
    "stocksAlloc = ((price('FRED/NCBEILQ027S@Q') + price('FRED/FBCELLQ027S@Q'))/1000)/(((price('FRED/NCBEILQ027S@Q') + price('FRED/FBCELLQ027S@Q'))/1000)+price('FRED/BCNSDODNS@Q')+price('FRED/CMDEBT@Q')+price('FRED/FGSDODNS@Q')+price('FRED/SLGSDODNS@Q')+price('FRED/DODFFSWCMI@Q'))\n",
    "stocksAllocPredictor = (1-stocksAlloc)*80-43\n",
    "stocksAllocPredictor = name(stocksAllocPredictor.asfreq(\"MS\"), \"predicted\")\n",
    "alloc_predict = name(lr_predict(fret_10, stocksAlloc), \"allocation predictor\")\n",
    "\n",
    "print(f\"Current predicted 10-year TR annual return: {alloc_predict[-1]:.2f}%\")\n",
    "show(fret_8, alloc_predict, stocksAllocPredictor, ta=False)\n",
    "\n",
    "# conf.conf_cache_memory = True\n",
    "# conf.conf_cache_disk = True\n",
    "\n"
   ]
  },
  {
   "cell_type": "markdown",
   "metadata": {},
   "source": [
    "## Market Cap to GDP\n",
    "https://www.gurufocus.com/stock-market-valuations.php  \n",
    "https://www.gurufocus.com/global-market-valuation.php  "
   ]
  },
  {
   "cell_type": "code",
   "execution_count": null,
   "metadata": {
    "ExecuteTime": {
     "end_time": "2019-03-24T18:23:39.424699Z",
     "start_time": "2019-03-24T18:23:35.105634Z"
    }
   },
   "outputs": [],
   "source": [
    "gdp = get('FRED/GDP@Q', interpolate=False)\n",
    "gnp = get('FRED/GNP@Q', interpolate=False)\n",
    "market = shiller_snp500(taxes=True, tax_rate=1)\n",
    "ind_gdp = market / gdp\n",
    "ind_gnp = market / gnp\n",
    "\n",
    "gdp_predict = name(lr_predict(fret_10, ind_gdp).dropna(), \"market/GDP predictor\")\n",
    "gnp_predict = name(lr_predict(fret_10, ind_gnp).dropna(), \"market/GNP predictor\")\n",
    "print(f\"Current predicted 10-year TR annual return: {gnp_predict[-1]:.2f}..{gdp_predict[-1]:.2f}%\")\n",
    "show(gdp_predict, gnp_predict, fret_10, ta=False)"
   ]
  },
  {
   "cell_type": "markdown",
   "metadata": {},
   "source": [
    "## GDP and Allocation return predictors"
   ]
  },
  {
   "cell_type": "code",
   "execution_count": null,
   "metadata": {
    "ExecuteTime": {
     "end_time": "2019-03-24T18:23:58.439460Z",
     "start_time": "2019-03-24T18:23:57.345424Z"
    }
   },
   "outputs": [],
   "source": [
    "show(gdp_predict, alloc_predict, fret_10, ta=False)"
   ]
  },
  {
   "cell_type": "markdown",
   "metadata": {},
   "source": [
    "## US Unemployment rate\n",
    "http://www.philosophicaleconomics.com/2016/02/uetrend/"
   ]
  },
  {
   "cell_type": "code",
   "execution_count": null,
   "metadata": {
    "ExecuteTime": {
     "end_time": "2019-03-24T18:24:11.461532Z",
     "start_time": "2019-03-24T18:24:08.609351Z"
    }
   },
   "outputs": [],
   "source": [
    "us_unemp = get('FRED/UNRATE@Q', interpolate=False)\n",
    "show(*us_recession_dates(), us_unemp, ma(us_unemp, 12), us_unemp[-1], ta=False, log=False)"
   ]
  },
  {
   "cell_type": "markdown",
   "metadata": {},
   "source": [
    "## Value vs Growth"
   ]
  },
  {
   "cell_type": "code",
   "execution_count": null,
   "metadata": {
    "ExecuteTime": {
     "end_time": "2019-03-24T18:24:42.331777Z",
     "start_time": "2019-03-24T18:24:35.966023Z"
    }
   },
   "outputs": [],
   "source": [
    "lcv = get(\"VIVAX@Y\")\n",
    "lcg = get(\"VIGRX@Y\")\n",
    "\n",
    "lcv = lcv/lcv[0]\n",
    "lcg = lcg/lcg[0]\n",
    "\n",
    "f = 5\n",
    "r = f*lcg/lcv\n",
    "p95 = r.quantile(0.95)\n",
    "p5 = r.quantile(0.05)\n",
    "last = r[-1]\n",
    "\n",
    "score = 100 * (last - p5) / (p95 - p5)\n",
    "print(score)\n",
    "\n",
    "show(lcv, lcg, r, p95, p5, last, ta=False)"
   ]
  },
  {
   "cell_type": "markdown",
   "metadata": {},
   "source": [
    "\n",
    "## TMP"
   ]
  },
  {
   "cell_type": "code",
   "execution_count": null,
   "metadata": {
    "ExecuteTime": {
     "end_time": "2018-10-05T12:28:02.940099Z",
     "start_time": "2018-10-05T12:28:02.877405Z"
    }
   },
   "outputs": [],
   "source": [
    "# sc = get(sc, source=\"Y\")\n",
    "# lc = get(lc, source=\"Y\")\n",
    "\n",
    "# show_rolling_beta(sc, [lc], freq=\"D\", extra=dd(lc)/100)"
   ]
  }
 ],
 "metadata": {
  "kernelspec": {
   "display_name": "Python 3",
   "language": "python",
   "name": "python3"
  },
  "language_info": {
   "codemirror_mode": {
    "name": "ipython",
    "version": 3
   },
   "file_extension": ".py",
   "mimetype": "text/x-python",
   "name": "python",
   "nbconvert_exporter": "python",
   "pygments_lexer": "ipython3",
   "version": "3.6.7"
  },
  "varInspector": {
   "cols": {
    "lenName": 16,
    "lenType": 16,
    "lenVar": 40
   },
   "kernels_config": {
    "python": {
     "delete_cmd_postfix": "",
     "delete_cmd_prefix": "del ",
     "library": "var_list.py",
     "varRefreshCmd": "print(var_dic_list())"
    },
    "r": {
     "delete_cmd_postfix": ") ",
     "delete_cmd_prefix": "rm(",
     "library": "var_list.r",
     "varRefreshCmd": "cat(var_dic_list()) "
    }
   },
   "types_to_exclude": [
    "module",
    "function",
    "builtin_function_or_method",
    "instance",
    "_Feature"
   ],
   "window_display": false
  }
 },
 "nbformat": 4,
 "nbformat_minor": 2
}
