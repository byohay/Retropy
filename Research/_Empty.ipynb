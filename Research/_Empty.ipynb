{
 "cells": [
  {
   "cell_type": "code",
   "execution_count": null,
   "metadata": {
    "ExecuteTime": {
     "end_time": "2019-06-26T09:57:16.439889Z",
     "start_time": "2019-06-26T09:57:13.362516Z"
    }
   },
   "outputs": [],
   "source": [
    "%run retropy.ipynb"
   ]
  },
  {
   "cell_type": "code",
   "execution_count": null,
   "metadata": {
    "ExecuteTime": {
     "end_time": "2019-07-01T13:10:17.338416Z",
     "start_time": "2019-07-01T13:10:16.901591Z"
    }
   },
   "outputs": [],
   "source": [
    "# x = convertSeries('1146505@TASE', 'ILS', 'USD')\n",
    "# x = get('1146505@TASE', cache=False)\n",
    "# qqq = get('QQQ', mode=\"NTR\", cache=False)\n",
    "show(x, qqq, x / qqq, \"USDILS@CUR\")"
   ]
  },
  {
   "cell_type": "code",
   "execution_count": null,
   "metadata": {
    "ExecuteTime": {
     "end_time": "2019-06-30T11:39:16.242277Z",
     "start_time": "2019-06-30T11:39:13.703655Z"
    }
   },
   "outputs": [],
   "source": [
    "IUAA = get('IUAA.L')\n",
    "BND = get('BND')\n",
    "show(IUAA, BND)"
   ]
  },
  {
   "cell_type": "code",
   "execution_count": null,
   "metadata": {
    "ExecuteTime": {
     "end_time": "2019-06-26T19:14:42.017005Z",
     "start_time": "2019-06-26T19:14:34.928418Z"
    }
   },
   "outputs": [],
   "source": [
    "_ac = get(ac.ac, cache=False, source=\"Y\")\n",
    "i_ac = get(ac.i_ac, cache=False, source=\"Y\")\n",
    "show(_ac / i_ac)"
   ]
  },
  {
   "cell_type": "code",
   "execution_count": null,
   "metadata": {
    "ExecuteTime": {
     "end_time": "2019-06-26T10:12:23.358611Z",
     "start_time": "2019-06-26T10:12:22.946849Z"
    }
   },
   "outputs": [],
   "source": [
    "morl = tr('MORL')\n",
    "# get('SPY', cache=False)\n",
    "# spy = trimBy(ntr('SPY'), morl)\n",
    "# cagr(lr(morl))\n",
    "cagr(morl)\n",
    "# cagr(spy)\n",
    "show(morl, lr(morl), ta=False, log=False)"
   ]
  },
  {
   "cell_type": "code",
   "execution_count": null,
   "metadata": {},
   "outputs": [],
   "source": [
    "cagr(lr(cef_pr))\n",
    "cagr(lr(cef_pr[\"1985\":]))\n",
    "pcef = align(pr(PCEF))\n",
    "cagr(lr(pcef))\n",
    "yyy = align(pr(YYY))\n",
    "cagr(lr(yyy))\n",
    "cef_metadata_df[\"expense_ratio\"].median()\n",
    "cef_metadata_df[\"expense_ratio\"].mean()\n",
    "price_decline_cagr = 1.5 # we set the price decline cagr as an estimate"
   ]
  },
  {
   "cell_type": "code",
   "execution_count": null,
   "metadata": {
    "ExecuteTime": {
     "end_time": "2019-06-26T09:58:47.300290Z",
     "start_time": "2019-06-26T09:58:47.204687Z"
    }
   },
   "outputs": [],
   "source": [
    "\n",
    "# get(['MORL', 'MRRL'], cache=False)\n",
    "# show('MORL', 'MRRL', ta=False, mode=\"PR\")\n",
    "morl = pr('MORL')\n",
    "lr(morl)\n",
    "lrret(lr, morl)"
   ]
  },
  {
   "cell_type": "code",
   "execution_count": null,
   "metadata": {
    "ExecuteTime": {
     "end_time": "2019-05-26T12:37:01.873349Z",
     "start_time": "2019-05-26T12:37:01.250246Z"
    }
   },
   "outputs": [],
   "source": [
    "show('5110382@TASE', \"BIL\", \"MINT\", \"SHY\")"
   ]
  },
  {
   "cell_type": "code",
   "execution_count": null,
   "metadata": {},
   "outputs": [],
   "source": [
    "show_dd(shiller_snp500(tax_rate=0, taxes=True))"
   ]
  },
  {
   "cell_type": "code",
   "execution_count": null,
   "metadata": {},
   "outputs": [],
   "source": [
    "show_comp('IBB', 'SPY', mode=\"NTR\")"
   ]
  },
  {
   "cell_type": "code",
   "execution_count": null,
   "metadata": {},
   "outputs": [],
   "source": [
    "EUM, VWO = get(['VWO', 'EUM'], cache=True, mode=\"NTR\")\n",
    "r = VWO * EUM\n",
    "show(mcagr(r))\n",
    "#show('SPY', 'SH', mode=\"NTR\")"
   ]
  },
  {
   "cell_type": "code",
   "execution_count": null,
   "metadata": {},
   "outputs": [],
   "source": [
    "get(['KWEB', 'BABA'], cache=False)\n",
    "#show_yield(ntr(\"VT\"))\n",
    "#show(\"KWEB\", mode=\"NTR\")\n",
    "show_comp('BABA', 'KWEB')\n"
   ]
  },
  {
   "cell_type": "code",
   "execution_count": null,
   "metadata": {},
   "outputs": [],
   "source": [
    "get('VT', cache=False)\n",
    "show_comp('VWO', 'SPY')\n",
    "#show('^VIX', cache=True, mode=\"PR\", align=False)"
   ]
  },
  {
   "cell_type": "code",
   "execution_count": null,
   "metadata": {},
   "outputs": [],
   "source": [
    "n = 500\n",
    "x = np.cumprod(np.random.normal(size=n)/100+1)\n",
    "dt = pd.date_range(start='1/1/2017', periods=n)\n",
    "s = pd.Series(x, dt)\n",
    "show(s)"
   ]
  },
  {
   "cell_type": "code",
   "execution_count": null,
   "metadata": {},
   "outputs": [],
   "source": [
    "show('FIXD', 'BOND', 'TOTL', 'TSI', mode=\"TR\")"
   ]
  },
  {
   "cell_type": "code",
   "execution_count": null,
   "metadata": {},
   "outputs": [],
   "source": [
    "analyze_cef('TSI')"
   ]
  },
  {
   "cell_type": "code",
   "execution_count": null,
   "metadata": {},
   "outputs": [],
   "source": [
    "#get('GLD', cache=False, source=\"Y\")\n",
    "\n",
    "show('KWEB', 'FDN', cache=False)"
   ]
  },
  {
   "cell_type": "code",
   "execution_count": null,
   "metadata": {},
   "outputs": [],
   "source": [
    "mode = \"NTR\"\n",
    "SPY = get('SPY', mode=mode)\n",
    "all = ['BHK', 'JPS', 'GBAB', 'PAI', 'MPV']\n",
    "all = get(all, mode=mode)\n",
    "all = [x / SPY for x in all]\n",
    "#show(all)\n",
    "show_dd_price_actions('BHK', 'EDV')"
   ]
  },
  {
   "cell_type": "code",
   "execution_count": null,
   "metadata": {},
   "outputs": [],
   "source": [
    "p = 'BHK|JPS|GBAB|PAI|MPV'\n",
    "all = ['BHK', 'JPS', 'GBAB', 'PAI', 'MPV']\n",
    "\n",
    "mode = \"NTR\"\n",
    "j = join_rel_align_mean_series_incremental(all, mode=mode)\n",
    "#show(p, 'EDV', 'SPY', 'VXUS', 'FDN', 'IBB', 'AGG', 'GLD', 'MINT', cache=True, mode='NTR', trim=True, source=\"AV\")\n",
    "#show_dd(j, 'SPY', 'EDV', 'GLD', 'FDN', 'KWEB', 'JNK', mode=\"NTR\")\n",
    "jnk = get('JNK', mode=mode)\n",
    "show(j / jnk, j, jnk)"
   ]
  },
  {
   "cell_type": "code",
   "execution_count": null,
   "metadata": {},
   "outputs": [],
   "source": []
  }
 ],
 "metadata": {
  "kernelspec": {
   "display_name": "Python 3",
   "language": "python",
   "name": "python3"
  },
  "language_info": {
   "codemirror_mode": {
    "name": "ipython",
    "version": 3
   },
   "file_extension": ".py",
   "mimetype": "text/x-python",
   "name": "python",
   "nbconvert_exporter": "python",
   "pygments_lexer": "ipython3",
   "version": "3.6.7"
  },
  "varInspector": {
   "cols": {
    "lenName": 16,
    "lenType": 16,
    "lenVar": 40
   },
   "kernels_config": {
    "python": {
     "delete_cmd_postfix": "",
     "delete_cmd_prefix": "del ",
     "library": "var_list.py",
     "varRefreshCmd": "print(var_dic_list())"
    },
    "r": {
     "delete_cmd_postfix": ") ",
     "delete_cmd_prefix": "rm(",
     "library": "var_list.r",
     "varRefreshCmd": "cat(var_dic_list()) "
    }
   },
   "types_to_exclude": [
    "module",
    "function",
    "builtin_function_or_method",
    "instance",
    "_Feature"
   ],
   "window_display": false
  }
 },
 "nbformat": 4,
 "nbformat_minor": 2
}
