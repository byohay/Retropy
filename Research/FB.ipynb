{
 "cells": [
  {
   "cell_type": "code",
   "execution_count": null,
   "metadata": {
    "ExecuteTime": {
     "end_time": "2018-10-24T19:10:08.795186Z",
     "start_time": "2018-10-24T19:10:05.267785Z"
    }
   },
   "outputs": [],
   "source": [
    "%run retropy.ipynb"
   ]
  },
  {
   "cell_type": "code",
   "execution_count": null,
   "metadata": {
    "ExecuteTime": {
     "end_time": "2018-10-26T19:37:50.948675Z",
     "start_time": "2018-10-26T19:37:41.393716Z"
    }
   },
   "outputs": [],
   "source": [
    "FB, FDN = get(['FB', 'FDN'], cache=False)"
   ]
  },
  {
   "cell_type": "code",
   "execution_count": null,
   "metadata": {
    "ExecuteTime": {
     "end_time": "2018-10-26T19:38:18.618775Z",
     "start_time": "2018-10-26T19:37:50.952605Z"
    }
   },
   "outputs": [],
   "source": [
    "show_comp(FB, FDN)"
   ]
  },
  {
   "cell_type": "code",
   "execution_count": null,
   "metadata": {
    "ExecuteTime": {
     "end_time": "2018-10-26T19:38:29.468004Z",
     "start_time": "2018-10-26T19:38:18.621994Z"
    }
   },
   "outputs": [],
   "source": [
    "#FDN, FB = get(['FDN', 'FB'], cache=False)\n",
    "show(FB/FDN, 1.098)\n",
    "n = 365\n",
    "show(FB, FDN, ma(FB, n), ma(FDN, n), ta=False)"
   ]
  },
  {
   "cell_type": "code",
   "execution_count": null,
   "metadata": {
    "ExecuteTime": {
     "end_time": "2018-10-26T19:38:30.887430Z",
     "start_time": "2018-10-26T19:38:29.470444Z"
    }
   },
   "outputs": [],
   "source": [
    "s = FDN\n",
    "x = ma(s, n)\n",
    "shifts = [name(x / past(x, z), str(z)) for z in [30, 60, 90, 120, 150, 180]]\n",
    "show(s/100, shifts, ta=False, log=False) #  [s.median() for s in shifts]"
   ]
  },
  {
   "cell_type": "code",
   "execution_count": null,
   "metadata": {},
   "outputs": [],
   "source": []
  }
 ],
 "metadata": {
  "kernelspec": {
   "display_name": "Python 3",
   "language": "python",
   "name": "python3"
  },
  "language_info": {
   "codemirror_mode": {
    "name": "ipython",
    "version": 3
   },
   "file_extension": ".py",
   "mimetype": "text/x-python",
   "name": "python",
   "nbconvert_exporter": "python",
   "pygments_lexer": "ipython3",
   "version": "3.6.7"
  },
  "varInspector": {
   "cols": {
    "lenName": 16,
    "lenType": 16,
    "lenVar": 40
   },
   "kernels_config": {
    "python": {
     "delete_cmd_postfix": "",
     "delete_cmd_prefix": "del ",
     "library": "var_list.py",
     "varRefreshCmd": "print(var_dic_list())"
    },
    "r": {
     "delete_cmd_postfix": ") ",
     "delete_cmd_prefix": "rm(",
     "library": "var_list.r",
     "varRefreshCmd": "cat(var_dic_list()) "
    }
   },
   "types_to_exclude": [
    "module",
    "function",
    "builtin_function_or_method",
    "instance",
    "_Feature"
   ],
   "window_display": false
  }
 },
 "nbformat": 4,
 "nbformat_minor": 2
}
