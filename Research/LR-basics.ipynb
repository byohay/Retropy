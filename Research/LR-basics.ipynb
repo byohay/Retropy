{
 "cells": [
  {
   "cell_type": "code",
   "execution_count": null,
   "metadata": {
    "ExecuteTime": {
     "end_time": "2018-08-21T05:23:28.422994Z",
     "start_time": "2018-08-21T05:23:27.944562Z"
    }
   },
   "outputs": [],
   "source": [
    "%run retropy.ipynb"
   ]
  },
  {
   "cell_type": "markdown",
   "metadata": {},
   "source": [
    "## Linear Regression of returns"
   ]
  },
  {
   "cell_type": "code",
   "execution_count": null,
   "metadata": {
    "ExecuteTime": {
     "end_time": "2018-08-21T04:55:01.105295Z",
     "start_time": "2018-08-21T04:54:51.584579Z"
    }
   },
   "outputs": [],
   "source": [
    "# compare fitting the series distances vs fitting the returns\n",
    "lrret(SSO, VOO, fit_values=True, sum1=False)  # this is the proper fit, with beta=1.74 (indicateing the inefficiency of SSO)\n",
    "lrret(SSO, VOO, fit_values=False, sum1=False) # this is a good daily return fit, but a bad overall fit, with beta=1.99"
   ]
  },
  {
   "cell_type": "code",
   "execution_count": null,
   "metadata": {
    "ExecuteTime": {
     "end_time": "2018-08-21T04:55:02.843788Z",
     "start_time": "2018-08-21T04:55:01.107590Z"
    }
   },
   "outputs": [],
   "source": [
    "# compare fitting the series distances vs fitting the returns\n",
    "lrret(VT, [VTI, VXUS], fit_values=True)  # this is the proper fit, with VTI beta as is was at the start of the period\n",
    "lrret(VT, [VTI, VXUS], fit_values=False) # this is a good daily return fit, but a bad overall fit, with average VTI beta over the entire period"
   ]
  },
  {
   "cell_type": "code",
   "execution_count": null,
   "metadata": {
    "ExecuteTime": {
     "end_time": "2018-08-21T04:55:05.079361Z",
     "start_time": "2018-08-21T04:55:02.846466Z"
    }
   },
   "outputs": [],
   "source": [
    "lrret(VT, [VBR, VWO], sum1=False)  # this won't give a perfect fit\n",
    "lrret(VT, [VBR, VWO], sum1=True, sum_max1=False)   # but we can force sum of weights to be 1, to fully allocate assets as best as possible"
   ]
  },
  {
   "cell_type": "code",
   "execution_count": null,
   "metadata": {
    "ExecuteTime": {
     "end_time": "2018-08-21T04:55:10.563419Z",
     "start_time": "2018-08-21T04:55:05.081216Z"
    }
   },
   "outputs": [],
   "source": [
    "lrret(BND, [SPY, QQQ, VNQ]) # by default we don't allow negative weights (short position)\n",
    "lrret(BND, [SPY, QQQ, VNQ], pos_weights=False, sum1=False) # but we can allow them to get a better fit"
   ]
  },
  {
   "cell_type": "code",
   "execution_count": null,
   "metadata": {
    "ExecuteTime": {
     "end_time": "2018-08-21T04:55:13.311185Z",
     "start_time": "2018-08-21T04:55:10.565721Z"
    }
   },
   "outputs": [],
   "source": [
    "# one fits the other better, as it can under-leverage, while the other is not allowed to over-leverage\n",
    "lrret(MINT, NEAR)\n",
    "lrret(NEAR, MINT)"
   ]
  },
  {
   "cell_type": "markdown",
   "metadata": {},
   "source": [
    "## Incremental linear regression"
   ]
  },
  {
   "cell_type": "code",
   "execution_count": null,
   "metadata": {
    "ExecuteTime": {
     "end_time": "2018-08-21T05:51:57.235646Z",
     "start_time": "2018-08-21T05:51:31.559347Z"
    }
   },
   "outputs": [],
   "source": [
    "sources = [FB, AMZN, GOOG, AAPL, MSFT, NFLX, CRM, EBAY, EXPE, VRSN, TWTR, TSLA, BABA, VZ, EBAY]\n",
    "lrret_incremental(FDN, sources)"
   ]
  },
  {
   "cell_type": "code",
   "execution_count": null,
   "metadata": {
    "ExecuteTime": {
     "end_time": "2018-08-21T05:51:58.528422Z",
     "start_time": "2018-08-21T05:51:57.238391Z"
    }
   },
   "outputs": [],
   "source": [
    "lrret(FDN, sources)"
   ]
  },
  {
   "cell_type": "code",
   "execution_count": null,
   "metadata": {
    "ExecuteTime": {
     "end_time": "2018-08-21T05:27:32.625813Z",
     "start_time": "2018-08-21T05:27:32.176403Z"
    }
   },
   "outputs": [],
   "source": [
    "#rret(FDN, [FB, AMZN, GOOG, AAPL, MSFT, NFLX, CRM, EBAY, EXPE, VRSN, TWTR], return_ser=True)\n",
    "sources = get([MSFT], trim=GOOG)\n",
    "lrret(FDN, sources)"
   ]
  },
  {
   "cell_type": "code",
   "execution_count": null,
   "metadata": {
    "ExecuteTime": {
     "end_time": "2018-08-21T05:53:15.324618Z",
     "start_time": "2018-08-21T05:53:13.927785Z"
    }
   },
   "outputs": [],
   "source": [
    "lrret_incremental(VT, [VTI, VXUS])\n",
    "lrret(VT, [VTI])"
   ]
  },
  {
   "cell_type": "markdown",
   "metadata": {},
   "source": [
    "## Rolling beta (linear regression coefficients)"
   ]
  },
  {
   "cell_type": "code",
   "execution_count": null,
   "metadata": {
    "ExecuteTime": {
     "end_time": "2018-08-21T05:53:36.524553Z",
     "start_time": "2018-08-21T05:53:35.023617Z"
    }
   },
   "outputs": [],
   "source": [
    "# sanity check\n",
    "show_rolling_beta(get(\"SPY:60|BND:40\"), [SPY, BND])"
   ]
  },
  {
   "cell_type": "code",
   "execution_count": null,
   "metadata": {
    "ExecuteTime": {
     "end_time": "2018-08-21T04:57:24.183176Z",
     "start_time": "2018-08-21T04:57:22.923597Z"
    }
   },
   "outputs": [],
   "source": [
    "# we expect the Permanent Portfolio ETF to be roughly 25% stocks, gold, long-bonds, cash\n",
    "show_rolling_beta(PERM, [lc, gold, elgb], rsq=False, extra=[0.25])"
   ]
  },
  {
   "cell_type": "code",
   "execution_count": null,
   "metadata": {
    "ExecuteTime": {
     "end_time": "2018-08-21T05:53:50.376513Z",
     "start_time": "2018-08-21T05:53:49.341768Z"
    }
   },
   "outputs": [],
   "source": [
    "# this reflects the US / ex-US weights of VT. We expect the sum of beta to be very close to 1.0\n",
    "show_rolling_beta(VT, [VTI, VXUS], betaSum=True)"
   ]
  },
  {
   "cell_type": "code",
   "execution_count": null,
   "metadata": {
    "ExecuteTime": {
     "end_time": "2018-08-21T04:57:33.661600Z",
     "start_time": "2018-08-21T04:57:25.268251Z"
    }
   },
   "outputs": [],
   "source": [
    "# we can see that SVXY has a beta of ~4-5 over SPY for it's history, until the volatility implosion\n",
    "# after which the beta turned ~2 (due to the ETF objecive update)\n",
    "# we can also see the p-value of the beta indicating non-significance in the window that contains the event\n",
    "show_rolling_beta(SVXY, SPY, pvalue=True, window=120)"
   ]
  },
  {
   "cell_type": "code",
   "execution_count": null,
   "metadata": {
    "ExecuteTime": {
     "end_time": "2018-08-21T04:57:37.669327Z",
     "start_time": "2018-08-21T04:57:33.664256Z"
    }
   },
   "outputs": [],
   "source": [
    "# here we see thet the SVXY-ZIV beta become 1.0 after the volatiltiy implosion\n",
    "show_rolling_beta(SVXY, ZIV, window=120)"
   ]
  },
  {
   "cell_type": "code",
   "execution_count": null,
   "metadata": {
    "ExecuteTime": {
     "end_time": "2018-08-21T04:57:38.046048Z",
     "start_time": "2018-08-21T04:57:37.671537Z"
    }
   },
   "outputs": [],
   "source": [
    "# we can play with the frequency to get different results\n",
    "# by default, the window adjust to the given frequency to maintain a 1-year window\n",
    "show_rolling_beta(NEAR, MINT)\n",
    "show_rolling_beta(NEAR, MINT, freq=\"M\")"
   ]
  },
  {
   "cell_type": "code",
   "execution_count": null,
   "metadata": {
    "ExecuteTime": {
     "end_time": "2018-08-21T05:34:56.454857Z",
     "start_time": "2018-08-21T05:34:56.073620Z"
    }
   },
   "outputs": [],
   "source": [
    "show_scatter_returns(SPY, VNQ)\n",
    "show_scatter_returns(SPY, VNQ, freq=\"Y\")"
   ]
  },
  {
   "cell_type": "markdown",
   "metadata": {},
   "source": [
    "## Mutual dependence"
   ]
  },
  {
   "cell_type": "code",
   "execution_count": null,
   "metadata": {
    "ExecuteTime": {
     "end_time": "2018-08-21T04:57:42.499883Z",
     "start_time": "2018-08-21T04:57:38.340692Z"
    }
   },
   "outputs": [],
   "source": [
    "# Mutual dependence between various tech ETFs\n",
    "all = [XT, KWEB, QQQ, FDN, IBB, ARKW, XBI, VGT]\n",
    "\n",
    "lrret_mutual(all)"
   ]
  },
  {
   "cell_type": "code",
   "execution_count": null,
   "metadata": {
    "ExecuteTime": {
     "end_time": "2018-08-21T05:34:42.949938Z",
     "start_time": "2018-08-21T05:34:42.396983Z"
    }
   },
   "outputs": [],
   "source": [
    "lrret(QQQ, [XT, KWEB, FDN, IBB, ARKW, XBI, VGT])"
   ]
  },
  {
   "cell_type": "markdown",
   "metadata": {},
   "source": [
    "## Edge Cases"
   ]
  },
  {
   "cell_type": "code",
   "execution_count": null,
   "metadata": {
    "ExecuteTime": {
     "end_time": "2018-08-21T05:34:24.927548Z",
     "start_time": "2018-08-21T05:34:22.711911Z"
    }
   },
   "outputs": [],
   "source": [
    "# self regression\n",
    "lrret(lc, lc)"
   ]
  },
  {
   "cell_type": "code",
   "execution_count": null,
   "metadata": {
    "ExecuteTime": {
     "end_time": "2018-08-21T05:34:36.474009Z",
     "start_time": "2018-08-21T05:34:34.502296Z"
    }
   },
   "outputs": [],
   "source": [
    "# this wasn't working well until we switched to log() objective function (expected R^2: 0.4662)\n",
    "lrret(sc, lc)"
   ]
  },
  {
   "cell_type": "code",
   "execution_count": null,
   "metadata": {
    "ExecuteTime": {
     "end_time": "2018-08-21T05:26:26.774283Z",
     "start_time": "2018-08-21T05:26:23.532617Z"
    }
   },
   "outputs": [],
   "source": [
    "lrret(FDN, MSFT, obj=\"sum_sq\")\n",
    "lrret(FDN, MSFT, obj=\"log_sum_sq\")\n",
    "lrret(FDN, MSFT, obj=\"sum_sq_log\") # this provides a better overall fit, avoiding excess weights to later (larger) values"
   ]
  },
  {
   "cell_type": "code",
   "execution_count": null,
   "metadata": {
    "ExecuteTime": {
     "end_time": "2018-08-21T04:58:02.801796Z",
     "start_time": "2018-08-21T04:57:47.451446Z"
    }
   },
   "outputs": [],
   "source": [
    "# be sure to save before you publish\n",
    "# when done, you will get a public link to an HTML file with the results\n",
    "publish()"
   ]
  }
 ],
 "metadata": {
  "kernelspec": {
   "display_name": "Python 3",
   "language": "python",
   "name": "python3"
  },
  "language_info": {
   "codemirror_mode": {
    "name": "ipython",
    "version": 3
   },
   "file_extension": ".py",
   "mimetype": "text/x-python",
   "name": "python",
   "nbconvert_exporter": "python",
   "pygments_lexer": "ipython3",
   "version": "3.6.7"
  },
  "varInspector": {
   "cols": {
    "lenName": 16,
    "lenType": 16,
    "lenVar": 40
   },
   "kernels_config": {
    "python": {
     "delete_cmd_postfix": "",
     "delete_cmd_prefix": "del ",
     "library": "var_list.py",
     "varRefreshCmd": "print(var_dic_list())"
    },
    "r": {
     "delete_cmd_postfix": ") ",
     "delete_cmd_prefix": "rm(",
     "library": "var_list.r",
     "varRefreshCmd": "cat(var_dic_list()) "
    }
   },
   "types_to_exclude": [
    "module",
    "function",
    "builtin_function_or_method",
    "instance",
    "_Feature"
   ],
   "window_display": false
  }
 },
 "nbformat": 4,
 "nbformat_minor": 2
}
