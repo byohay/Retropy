{
 "cells": [
  {
   "cell_type": "code",
   "execution_count": null,
   "metadata": {
    "ExecuteTime": {
     "end_time": "2019-07-05T06:27:59.496666Z",
     "start_time": "2019-07-05T06:27:56.771537Z"
    }
   },
   "outputs": [],
   "source": [
    "%run retropy.ipynb"
   ]
  },
  {
   "cell_type": "markdown",
   "metadata": {},
   "source": [
    "#### 26.10.2018\n",
    "The trade war caused the USD to spike, 10% vs EM currencies, and 6% vs Major currencies.  \n",
    "We might to be reaching an end to this rise.\n",
    "Over the past 10-20 years, the USDILS highs are getting lower and lower, indicating that the ILS has a macro economic strengthening.  \n",
    "As the USDILS rate is now 3.7, trending up to the higher end of it's 10 year band (3.4 .. 4), and with the macro trend, it seems slightly better to prefer ILS over USD at this time. The caveat being that with a recession, the USD is expected to rise.\n",
    "\n",
    "#### 3.5.2019\n",
    "The USD is at it's peak. ILS is also at a peak vs other currencies, following suite with USD.\n",
    "It is possible that USD will stay at the current level or even decline in the next years, thus making it prudent to diversify away from USD to other currencies. ILS is currently a good option, but it shouldn't be relied unpon too much, it's good to have a broad diversificaion in currencies, but the main issue being the low yield in govt bonds of other currencies and the high credit risk in using corp bonds and expecially high yield ones, given the risks in the markets in the next years. So this makes \"sense\" why the USD is high, and switching to other currencies makes us lose the safe yield. \n",
    "\n",
    "#### 5.7.2019\n",
    "Converting some USD to ILS might be predunt. The macro trend in USD-ILS is a slow decline, while currently it's in a neutral zone (not too high not too low), a risk of USD devaluation might favor ILS, due to impending fed rate decrease and Trump's wish to devalue the dollar.\n",
    "Looking at usdMajor up/down/sideways periods, we seem to be nearing an end of the current up period, which is usually followed by a multi-year down period."
   ]
  },
  {
   "cell_type": "code",
   "execution_count": null,
   "metadata": {
    "ExecuteTime": {
     "end_time": "2019-07-05T08:52:07.162424Z",
     "start_time": "2019-07-05T08:52:07.096069Z"
    }
   },
   "outputs": [],
   "source": [
    "# type(datetime.date.today())\n",
    "type(dt(2000, 1, 1))"
   ]
  },
  {
   "cell_type": "code",
   "execution_count": null,
   "metadata": {
    "ExecuteTime": {
     "end_time": "2019-07-05T08:52:34.781927Z",
     "start_time": "2019-07-05T08:52:33.408472Z"
    }
   },
   "outputs": [],
   "source": [
    "\n",
    "#trade_war = (dt.date(2018, 4, 1), \"trade-war\")\n",
    "trade_war = datetime.datetime(2018, 4, 18)\n",
    "pred_26_10_2018 = datetime.datetime(2018, 10, 26)\n",
    "usd_dates = [dt(1985, 2, 1), dt(1980, 10, 1), dt(1973, 3, 1), dt(1995, 8, 1), dt(1987, 11, 1), dt(2002, 1, 1), dt(2007, 10, 1), dt(2012, 4, 1), datetime.datetime.now()]\n",
    "\n",
    "show(usdMajor, usdOther, usdBroad, trade_war, pred_26_10_2018, *usd_dates, ta=False, cache=True)"
   ]
  },
  {
   "cell_type": "code",
   "execution_count": null,
   "metadata": {
    "ExecuteTime": {
     "end_time": "2019-07-05T06:33:06.979681Z",
     "start_time": "2019-07-05T06:33:05.305972Z"
    }
   },
   "outputs": [],
   "source": [
    "show(\"USDILS@CUR\", cache=False, ta=False)"
   ]
  },
  {
   "cell_type": "code",
   "execution_count": null,
   "metadata": {
    "ExecuteTime": {
     "end_time": "2019-07-05T06:35:35.873727Z",
     "start_time": "2019-07-05T06:35:35.055366Z"
    }
   },
   "outputs": [],
   "source": [
    "#get([usdBroad], cache=False);\n",
    "usd = get(usdBroad, cache=True)/45\n",
    "# usdils = getForex(\"USD\", \"ILS\", cache=False, inv=False)\n",
    "usdils = get(\"USDILS@CUR\")\n",
    "ils = name(usd/usdils, \"ils\").dropna()*3\n",
    "show(ils, usd, usdils, usd[-1], usdils[-1], 4/usdils[-1]*usd[-1], 3.4*usd[-1]/usdils[-1], 3.4, 4, ils[-1], pred_26_10_2018, cache=True, ta=False)"
   ]
  },
  {
   "cell_type": "code",
   "execution_count": null,
   "metadata": {
    "ExecuteTime": {
     "end_time": "2019-05-04T17:50:02.450993Z",
     "start_time": "2019-05-04T17:49:49.227274Z"
    }
   },
   "outputs": [],
   "source": [
    "show(\"USDILS@CUR\", \"USDGBP@CUR\", \"USDEUR@CUR\", \"USDJPY@CUR\", get(usdBroad), cache=False)"
   ]
  },
  {
   "cell_type": "code",
   "execution_count": null,
   "metadata": {
    "ExecuteTime": {
     "end_time": "2019-05-04T17:49:43.968616Z",
     "start_time": "2019-05-04T17:49:41.053960Z"
    }
   },
   "outputs": [],
   "source": [
    "chf_usd = get('CHFUSD@CUR')\n",
    "usd = get(usdMajor)\n",
    "chf_exusd = (chf_usd*usd).sname(\"chf_exusd\")\n",
    "chf = {chf_usd:50, chf_exusd:50}\n",
    "show(chf, chf_usd, get(lc, source=\"Y\"))"
   ]
  },
  {
   "cell_type": "code",
   "execution_count": null,
   "metadata": {},
   "outputs": [],
   "source": []
  }
 ],
 "metadata": {
  "kernelspec": {
   "display_name": "Python 3",
   "language": "python",
   "name": "python3"
  },
  "language_info": {
   "codemirror_mode": {
    "name": "ipython",
    "version": 3
   },
   "file_extension": ".py",
   "mimetype": "text/x-python",
   "name": "python",
   "nbconvert_exporter": "python",
   "pygments_lexer": "ipython3",
   "version": "3.6.7"
  },
  "varInspector": {
   "cols": {
    "lenName": 16,
    "lenType": 16,
    "lenVar": 40
   },
   "kernels_config": {
    "python": {
     "delete_cmd_postfix": "",
     "delete_cmd_prefix": "del ",
     "library": "var_list.py",
     "varRefreshCmd": "print(var_dic_list())"
    },
    "r": {
     "delete_cmd_postfix": ") ",
     "delete_cmd_prefix": "rm(",
     "library": "var_list.r",
     "varRefreshCmd": "cat(var_dic_list()) "
    }
   },
   "types_to_exclude": [
    "module",
    "function",
    "builtin_function_or_method",
    "instance",
    "_Feature"
   ],
   "window_display": false
  }
 },
 "nbformat": 4,
 "nbformat_minor": 2
}
