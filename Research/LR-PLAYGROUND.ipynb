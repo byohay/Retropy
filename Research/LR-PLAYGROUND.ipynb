{
 "cells": [
  {
   "cell_type": "code",
   "execution_count": null,
   "metadata": {
    "ExecuteTime": {
     "end_time": "2018-09-06T11:22:53.165857Z",
     "start_time": "2018-09-06T11:22:52.974498Z"
    }
   },
   "outputs": [],
   "source": [
    "%run -i \"../Retropy_framework.py\""
   ]
  },
  {
   "cell_type": "markdown",
   "metadata": {},
   "source": [
    "# Regression for UBT and TMF - x2 and x3 daily leveraged TLT\n",
    "\n",
    "findings:\n",
    "- lrret with rebal=none on pred is the worst, as is expected regressing a daily leveraged ETF\n",
    "- lrret with fit_values=True has a better fit (R^2) overall, vs fit_values=False (returns), but on the other hand, the fit on returns is very smooth (indicating consistent regression) while on values is not.\n",
    "- from this we gather that a returns regression with rebal=day is the best way to regress, and we should add a bias to compensate for any systemic differences in TLT/UBT\n",
    "- another key note is that i_ret(ret(x)) does a much better fit than i_logret(logret(x)) in \"TR\" but worse in \"PR\", it seems to in general produce smaller returns than i_logret(logret). What does this mean about lrret in general?\n",
    "- as expected the daily regression factor is not exactly 2.00 but rather 1.9529, indicating inefficiency in UBT\n",
    "- regressing TR overshoots the base, PR undershoots, and NTR comes closest. Note sure why they don't all regress in a similar way.\n",
    "\n",
    "\n",
    "notes:\n",
    "- the smoothest regression is x2 daily returns of TLT, as that the the definition of UBT (x3 for TMF)\n",
    "- we can add some bias to the daily return for a better fit, but it seems that the efficency of TLT/UBT changed over times, which makes the fixed bias unable to provide an exact fit in performance across all time periods\n",
    "- there are slight changes in how a leveraged series looks when using i_ret(ret(x)) vs i_logret(logret(x)). It'n unclear yet which is the correct one to use. It seems that i_ret(ret(x)) provides a smoother relative regression, indicating that (upto efficiency of leveraged ETFs) it is the correct one to use"
   ]
  },
  {
   "cell_type": "code",
   "execution_count": null,
   "metadata": {
    "ExecuteTime": {
     "end_time": "2018-09-06T12:41:28.317631Z",
     "start_time": "2018-09-06T12:41:21.677154Z"
    }
   },
   "outputs": [],
   "source": [
    "mode = \"PR\" # try TR NTR PR\n",
    "\n",
    "base = get(TLT, mode=mode)\n",
    "target = get(UBT, mode=mode)\n",
    "factor = 2\n",
    "lr_factor = 1.9529\n",
    "plus = 0 # 0.00011\n",
    "\n",
    "target_ret = name(i_ret(ret(base)*factor), 'ret')\n",
    "target_ret_as_lrret = name(i_ret(ret(base)*lr_factor+plus), 'ret_1.9529')\n",
    "target_ret_as_lrret_get = get({base.name: lr_factor*100}, rebal=\"day\", mode=mode)\n",
    "target_logret = name(i_logret(logret(base)*factor), 'logret')\n",
    "target_logret_as_lrret = name(i_logret(logret(base)*lr_factor), 'logret_1.9529')\n",
    "\n",
    "args = dict(sum1=False, return_pred=True, show_res=False)\n",
    "target_lrret_vals_none = name(get(lrret(target, [base], **args), rebal='none', mode=mode), 'lrret-vals-none')\n",
    "target_lrret_vals_day  = name(get(lrret(target, [base], **args), rebal='day', mode=mode), 'lrrret-vals-day')\n",
    "target_lrret_rets_none = name(get(lrret(target, [base], **args, fit_values=False), rebal='none', mode=mode), 'lrrret-rets-none')\n",
    "target_lrret_rets_day  = name(get(lrret(target, [base], **args, fit_values=False), rebal='day', mode=mode), 'lrrret-rets-day')\n",
    "\n",
    "all = [target, target_ret, target_ret_as_lrret, target_logret, target_logret_as_lrret, target_lrret_vals_none, target_lrret_vals_day, target_lrret_rets_none, target_lrret_rets_day, target_ret_as_lrret_get]\n",
    "show(sdiv(all, target))\n",
    "\n"
   ]
  },
  {
   "cell_type": "code",
   "execution_count": null,
   "metadata": {
    "ExecuteTime": {
     "end_time": "2018-09-06T12:43:58.889927Z",
     "start_time": "2018-09-06T12:43:56.698045Z"
    }
   },
   "outputs": [],
   "source": [
    "show_dd(target_ret_as_lrret_get, target, mode=\"PR\")\n",
    "show(target_ret_as_lrret_get, target, trim=False)"
   ]
  },
  {
   "cell_type": "code",
   "execution_count": null,
   "metadata": {},
   "outputs": [],
   "source": []
  }
 ],
 "metadata": {
  "kernelspec": {
   "display_name": "Python 3",
   "language": "python",
   "name": "python3"
  },
  "language_info": {
   "codemirror_mode": {
    "name": "ipython",
    "version": 3
   },
   "file_extension": ".py",
   "mimetype": "text/x-python",
   "name": "python",
   "nbconvert_exporter": "python",
   "pygments_lexer": "ipython3",
   "version": "3.6.7"
  },
  "varInspector": {
   "cols": {
    "lenName": 16,
    "lenType": 16,
    "lenVar": 40
   },
   "kernels_config": {
    "python": {
     "delete_cmd_postfix": "",
     "delete_cmd_prefix": "del ",
     "library": "var_list.py",
     "varRefreshCmd": "print(var_dic_list())"
    },
    "r": {
     "delete_cmd_postfix": ") ",
     "delete_cmd_prefix": "rm(",
     "library": "var_list.r",
     "varRefreshCmd": "cat(var_dic_list()) "
    }
   },
   "types_to_exclude": [
    "module",
    "function",
    "builtin_function_or_method",
    "instance",
    "_Feature"
   ],
   "window_display": false
  }
 },
 "nbformat": 4,
 "nbformat_minor": 2
}
