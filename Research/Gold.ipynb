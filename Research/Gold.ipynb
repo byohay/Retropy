{
 "cells": [
  {
   "cell_type": "code",
   "execution_count": null,
   "metadata": {
    "ExecuteTime": {
     "end_time": "2019-07-07T11:40:47.698914Z",
     "start_time": "2019-07-07T11:40:47.440173Z"
    }
   },
   "outputs": [],
   "source": [
    "xx = get(\"UAHUSD\", trim=2016)\n",
    "show(xx, lr(xx), ta=False)\n",
    "cagr(lr(xx))"
   ]
  },
  {
   "cell_type": "code",
   "execution_count": null,
   "metadata": {
    "ExecuteTime": {
     "end_time": "2019-07-07T11:39:14.327959Z",
     "start_time": "2019-07-07T11:39:14.144108Z"
    }
   },
   "outputs": [],
   "source": [
    "show(\"UAHUSD\", trim=2016)"
   ]
  },
  {
   "cell_type": "code",
   "execution_count": null,
   "metadata": {
    "ExecuteTime": {
     "end_time": "2019-06-27T19:49:04.896418Z",
     "start_time": "2019-06-27T19:49:02.046059Z"
    }
   },
   "outputs": [],
   "source": [
    "%run retropy.ipynb"
   ]
  },
  {
   "cell_type": "markdown",
   "metadata": {},
   "source": [
    "\n",
    "#### 26.10.2018\n",
    "https://seekingalpha.com/article/4214159-central-banks-etf-investors-start-buying-gold-aggressively  \n",
    "Thesis - gold is nearing bottom, is neglected by investors, and will surge if inflation fears rise in USD. \n",
    "\n"
   ]
  },
  {
   "cell_type": "markdown",
   "metadata": {},
   "source": [
    "# Silver"
   ]
  },
  {
   "cell_type": "code",
   "execution_count": null,
   "metadata": {
    "ExecuteTime": {
     "end_time": "2019-07-06T06:15:14.037591Z",
     "start_time": "2019-07-06T06:15:05.905785Z"
    }
   },
   "outputs": [],
   "source": [
    "slv = name(join_rel_align_series([get(silver), get('SLV', cache=False)]), \"silver\")\n",
    "gld = name(join_rel_align_series([gold, get('GLD', cache=False)]), \"gold\")"
   ]
  },
  {
   "cell_type": "code",
   "execution_count": null,
   "metadata": {
    "ExecuteTime": {
     "end_time": "2019-07-06T06:43:37.920364Z",
     "start_time": "2019-07-06T06:43:32.555190Z"
    }
   },
   "outputs": [],
   "source": [
    "SPY = get('SPY', cache=False)\n",
    "cpi = get(cpiUS, cache=False)\n",
    "cpi = cpi.reindex(pd.date_range(cpi.index[0], SPY.index[-1])).fillna(method='ffill')\n",
    "\n",
    "real_gold = name(gld/cpi, \"inf-adj gold\")\n",
    "real_slv  = name(slv/cpi, \"inf-adj silver\")\n"
   ]
  },
  {
   "cell_type": "code",
   "execution_count": null,
   "metadata": {
    "ExecuteTime": {
     "end_time": "2019-07-06T06:45:54.182083Z",
     "start_time": "2019-07-06T06:45:52.615349Z"
    }
   },
   "outputs": [],
   "source": [
    "show(real_slv, real_slv.median(), ta=False)\n",
    "show(slv, slv.median(), ta=False)"
   ]
  },
  {
   "cell_type": "code",
   "execution_count": null,
   "metadata": {
    "ExecuteTime": {
     "end_time": "2019-06-27T19:49:10.660356Z",
     "start_time": "2019-06-27T19:49:09.783710Z"
    }
   },
   "outputs": [],
   "source": [
    "# show_aum('SLV', 'GLD', 'BAR', 'IAU', cache=True)\n",
    "show_aum('SIVR', 'SLV')"
   ]
  },
  {
   "cell_type": "code",
   "execution_count": null,
   "metadata": {
    "ExecuteTime": {
     "end_time": "2019-07-06T06:19:34.190114Z",
     "start_time": "2019-07-06T06:19:31.925334Z"
    }
   },
   "outputs": [],
   "source": [
    "show_dd_price_actions(slv, r)"
   ]
  },
  {
   "cell_type": "code",
   "execution_count": null,
   "metadata": {
    "ExecuteTime": {
     "end_time": "2019-07-06T06:50:40.165918Z",
     "start_time": "2019-07-06T06:50:38.556818Z"
    }
   },
   "outputs": [],
   "source": [
    "show_dd(slv, gld, dd_func=dd_rolling)"
   ]
  },
  {
   "cell_type": "code",
   "execution_count": null,
   "metadata": {
    "ExecuteTime": {
     "end_time": "2019-07-06T09:58:46.314724Z",
     "start_time": "2019-07-06T09:58:45.525563Z"
    }
   },
   "outputs": [],
   "source": [
    "show(r)"
   ]
  },
  {
   "cell_type": "code",
   "execution_count": null,
   "metadata": {
    "ExecuteTime": {
     "end_time": "2019-07-06T09:59:45.537317Z",
     "start_time": "2019-07-06T09:59:44.755291Z"
    }
   },
   "outputs": [],
   "source": [
    "r2 = slv/gld\n",
    "show(r2, min(r2), r2[-1], ta=False)"
   ]
  },
  {
   "cell_type": "code",
   "execution_count": null,
   "metadata": {
    "ExecuteTime": {
     "end_time": "2019-07-06T06:47:38.567666Z",
     "start_time": "2019-07-06T06:47:36.506817Z"
    }
   },
   "outputs": [],
   "source": [
    "r = sdiv(gld, slv).dropna()\n",
    "show(r, min(r), r[-1], real_slv, real_slv.median(), real_gold, real_gold.median(), ta=False)"
   ]
  },
  {
   "cell_type": "code",
   "execution_count": null,
   "metadata": {
    "ExecuteTime": {
     "end_time": "2019-07-06T06:53:47.248125Z",
     "start_time": "2019-07-06T06:53:45.816512Z"
    }
   },
   "outputs": [],
   "source": [
    "show(real_gold, real_slv)"
   ]
  },
  {
   "cell_type": "markdown",
   "metadata": {},
   "source": [
    "# Gold"
   ]
  },
  {
   "cell_type": "code",
   "execution_count": null,
   "metadata": {
    "ExecuteTime": {
     "end_time": "2019-07-05T09:07:50.342394Z",
     "start_time": "2019-07-05T09:07:44.491566Z"
    }
   },
   "outputs": [],
   "source": [
    "show(gld, gld[-1], ta=False)"
   ]
  },
  {
   "cell_type": "code",
   "execution_count": null,
   "metadata": {
    "ExecuteTime": {
     "end_time": "2019-07-05T09:07:52.575890Z",
     "start_time": "2019-07-05T09:07:50.344508Z"
    }
   },
   "outputs": [],
   "source": [
    "#get([gold, SPY], cache=False)\n",
    "show_dd_price_actions(gld, SPY, dd_func=dd)\n",
    "show_dd_price_actions(gld, SPY)"
   ]
  },
  {
   "cell_type": "code",
   "execution_count": null,
   "metadata": {
    "ExecuteTime": {
     "end_time": "2019-06-27T19:51:01.011084Z",
     "start_time": "2019-06-27T19:50:58.038449Z"
    }
   },
   "outputs": [],
   "source": [
    "all = ['GLD', 'IAU', 'BAR', 'SGOL', 'OUNZ'] # GLDM\n",
    "gold_flow = aum_flow_sum(*all)\n",
    "show(gold_flow/10, gold, ta=False)\n",
    "show(gold, *all, trim=False)"
   ]
  },
  {
   "cell_type": "code",
   "execution_count": null,
   "metadata": {
    "ExecuteTime": {
     "end_time": "2019-06-27T19:52:09.694542Z",
     "start_time": "2019-06-27T19:52:03.839366Z"
    }
   },
   "outputs": [],
   "source": [
    "show_aum(*all, cache=False)"
   ]
  },
  {
   "cell_type": "code",
   "execution_count": null,
   "metadata": {
    "ExecuteTime": {
     "end_time": "2019-06-27T19:53:16.026026Z",
     "start_time": "2019-06-27T19:53:14.878612Z"
    }
   },
   "outputs": [],
   "source": [
    "usd = name(get(usdMajor), \"usdMajor\")"
   ]
  },
  {
   "cell_type": "code",
   "execution_count": null,
   "metadata": {
    "ExecuteTime": {
     "end_time": "2019-06-27T19:54:15.873450Z",
     "start_time": "2019-06-27T19:54:13.047793Z"
    }
   },
   "outputs": [],
   "source": [
    "show(gold, name(gold*usd, \"non USD gold\"), real_gold, trim=False)"
   ]
  },
  {
   "cell_type": "code",
   "execution_count": null,
   "metadata": {
    "ExecuteTime": {
     "end_time": "2019-07-05T09:09:18.982789Z",
     "start_time": "2019-07-05T09:09:15.616057Z"
    }
   },
   "outputs": [],
   "source": []
  },
  {
   "cell_type": "code",
   "execution_count": null,
   "metadata": {
    "ExecuteTime": {
     "end_time": "2019-07-05T09:09:20.205128Z",
     "start_time": "2019-07-05T09:09:19.433346Z"
    }
   },
   "outputs": [],
   "source": [
    "show(gld)"
   ]
  },
  {
   "cell_type": "code",
   "execution_count": null,
   "metadata": {
    "ExecuteTime": {
     "end_time": "2019-07-05T09:08:42.973796Z",
     "start_time": "2019-07-05T09:08:35.615507Z"
    }
   },
   "outputs": [],
   "source": [
    "show(real_gold, ma(real_gold, 365), ta=False)\n",
    "show_min_max_bands(real_gold, n=760)"
   ]
  },
  {
   "cell_type": "code",
   "execution_count": null,
   "metadata": {
    "ExecuteTime": {
     "end_time": "2018-07-07T20:39:59.904042Z",
     "start_time": "2018-07-07T20:39:03.066261Z"
    }
   },
   "outputs": [],
   "source": [
    "# inf-adjusted and dollar index adjusted\n",
    "show(adj_inf(gold), adj_inf(gold)/get(usdMajor), cache=True, trim=False)"
   ]
  },
  {
   "cell_type": "code",
   "execution_count": null,
   "metadata": {
    "ExecuteTime": {
     "end_time": "2019-07-06T10:12:28.175223Z",
     "start_time": "2019-07-06T10:12:27.923199Z"
    }
   },
   "outputs": [],
   "source": [
    "show(get('GLTR', cache=True) / gld)"
   ]
  }
 ],
 "metadata": {
  "kernelspec": {
   "display_name": "Python 3",
   "language": "python",
   "name": "python3"
  },
  "language_info": {
   "codemirror_mode": {
    "name": "ipython",
    "version": 3
   },
   "file_extension": ".py",
   "mimetype": "text/x-python",
   "name": "python",
   "nbconvert_exporter": "python",
   "pygments_lexer": "ipython3",
   "version": "3.6.7"
  },
  "varInspector": {
   "cols": {
    "lenName": 16,
    "lenType": 16,
    "lenVar": 40
   },
   "kernels_config": {
    "python": {
     "delete_cmd_postfix": "",
     "delete_cmd_prefix": "del ",
     "library": "var_list.py",
     "varRefreshCmd": "print(var_dic_list())"
    },
    "r": {
     "delete_cmd_postfix": ") ",
     "delete_cmd_prefix": "rm(",
     "library": "var_list.r",
     "varRefreshCmd": "cat(var_dic_list()) "
    }
   },
   "types_to_exclude": [
    "module",
    "function",
    "builtin_function_or_method",
    "instance",
    "_Feature"
   ],
   "window_display": false
  }
 },
 "nbformat": 4,
 "nbformat_minor": 2
}
