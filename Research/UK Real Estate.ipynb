{
 "cells": [
  {
   "cell_type": "code",
   "execution_count": null,
   "metadata": {
    "ExecuteTime": {
     "end_time": "2019-06-26T18:26:10.210701Z",
     "start_time": "2019-06-26T18:26:07.367639Z"
    }
   },
   "outputs": [],
   "source": [
    "%run retropy.ipynb"
   ]
  },
  {
   "cell_type": "code",
   "execution_count": null,
   "metadata": {
    "ExecuteTime": {
     "end_time": "2019-06-26T18:30:31.392453Z",
     "start_time": "2019-06-26T18:30:30.388180Z"
    }
   },
   "outputs": [],
   "source": [
    "url = 'http://landregistry.data.gov.uk/app/ukhpi/download/new.csv?from=2000-01-01&to=2026-01-01&location=http%3A%2F%2Flandregistry.data.gov.uk%2Fid%2Fregion%2Funited-kingdom&thm%5B%5D=property_type&in%5B%5D=avg'\n",
    "df = pd.read_csv(url)"
   ]
  },
  {
   "cell_type": "code",
   "execution_count": null,
   "metadata": {
    "ExecuteTime": {
     "end_time": "2019-06-26T18:30:31.716549Z",
     "start_time": "2019-06-26T18:30:31.394704Z"
    }
   },
   "outputs": [],
   "source": [
    "# df\n",
    "uk_all = name(df[\"Average price All property types\"], \"UK\")\n",
    "uk_all.index = pd.to_datetime(df[\"Period\"])\n",
    "uk_flats = name(df[\"Average price Flats and maisonettes\"], \"flats\")\n",
    "uk_flats.index = pd.to_datetime(df[\"Period\"])\n",
    "show(uk_all, uk_flats, trim=False)"
   ]
  },
  {
   "cell_type": "code",
   "execution_count": null,
   "metadata": {
    "ExecuteTime": {
     "end_time": "2019-06-26T18:41:35.231221Z",
     "start_time": "2019-06-26T18:41:32.996483Z"
    }
   },
   "outputs": [],
   "source": [
    "url = 'http://landregistry.data.gov.uk/app/ukhpi/download/new.csv?from=2000-01-01&to=2026-04-01&location%5B%5D=E08000012&location%5B%5D=E08000003&location%5B%5D=E08000008&st%5B%5D=fla&in%5B%5D=avg'\n",
    "df = pd.read_csv(url)   "
   ]
  },
  {
   "cell_type": "code",
   "execution_count": null,
   "metadata": {
    "ExecuteTime": {
     "end_time": "2019-06-26T18:41:48.762712Z",
     "start_time": "2019-06-26T18:41:48.555966Z"
    }
   },
   "outputs": [],
   "source": [
    "liverpool = name(df[df.Name == \"Liverpool\"].set_index(\"Period\").iloc[:, -2], \"liverpool\")\n",
    "manchester = name(df[df.Name == \"Manchester\"].set_index(\"Period\").iloc[:, -2], \"manchester\")\n",
    "tameside = name(df[df.Name == \"Tameside\"].set_index(\"Period\").iloc[:, -2], \"tameside\")\n",
    "uk_north = name((liverpool + tameside + manchester) / 3, \"north flats\")\n",
    "uk_north.index = pd.to_datetime(uk_north.index)\n",
    "\n",
    "show(uk_north, uk_all, uk_flats, trim=False)\n"
   ]
  },
  {
   "cell_type": "code",
   "execution_count": null,
   "metadata": {
    "ExecuteTime": {
     "end_time": "2019-06-27T18:59:27.471869Z",
     "start_time": "2019-06-27T18:59:27.326428Z"
    }
   },
   "outputs": [],
   "source": [
    "liverpool = name(df[df.Name == \"Liverpool\"].set_index(\"Period\").iloc[:, -2], \"liverpool\")\n",
    "manchester = name(df[df.Name == \"Manchester\"].set_index(\"Period\").iloc[:, -2], \"manchester\")\n",
    "tameside = name(df[df.Name == \"Tameside\"].set_index(\"Period\").iloc[:, -2], \"tameside\")\n",
    "uk_north = name((liverpool + tameside + manchester) / 3, \"north flats\")\n",
    "uk_north.index = pd.to_datetime(uk_north.index)\n",
    "\n"
   ]
  },
  {
   "cell_type": "code",
   "execution_count": null,
   "metadata": {
    "ExecuteTime": {
     "end_time": "2019-06-26T18:31:00.366643Z",
     "start_time": "2019-06-26T18:30:59.835196Z"
    }
   },
   "outputs": [],
   "source": [
    "# get(\"IUKP;LN@B\", cache=False)\n",
    "all = get([\"IUKP.L\", \"IUKP.L@Y\", \"IUKP;LN@B\"], trim=False, mode=\"PR\")\n",
    "all = [x[x>150] for x in all]\n",
    "show(all, ta=False)\n",
    "iukp = all[0]"
   ]
  },
  {
   "cell_type": "code",
   "execution_count": null,
   "metadata": {
    "ExecuteTime": {
     "end_time": "2019-06-26T18:39:45.065654Z",
     "start_time": "2019-06-26T18:39:44.797208Z"
    }
   },
   "outputs": [],
   "source": [
    "# all = get(['IPRP.L', 'IPRP.L@Y'])\n",
    "iprp = get('IPRP.L')\n",
    "iprp = iprp[iprp>800]\n",
    "show(iprp, ta=False)"
   ]
  },
  {
   "cell_type": "code",
   "execution_count": null,
   "metadata": {
    "ExecuteTime": {
     "end_time": "2019-06-26T18:39:49.538239Z",
     "start_time": "2019-06-26T18:39:48.739353Z"
    }
   },
   "outputs": [],
   "source": [
    "show(iukp, iprp, uk_all, uk_flats, uk_north, trim=False)"
   ]
  },
  {
   "cell_type": "code",
   "execution_count": null,
   "metadata": {
    "ExecuteTime": {
     "end_time": "2019-06-26T18:49:10.788215Z",
     "start_time": "2019-06-26T18:49:10.471188Z"
    }
   },
   "outputs": [],
   "source": [
    "show(iukp / iprp)"
   ]
  },
  {
   "cell_type": "code",
   "execution_count": null,
   "metadata": {
    "ExecuteTime": {
     "end_time": "2019-06-26T18:43:04.636264Z",
     "start_time": "2019-06-26T18:42:04.896250Z"
    }
   },
   "outputs": [],
   "source": [
    "publish()"
   ]
  },
  {
   "cell_type": "code",
   "execution_count": null,
   "metadata": {},
   "outputs": [],
   "source": []
  },
  {
   "cell_type": "code",
   "execution_count": null,
   "metadata": {
    "ExecuteTime": {
     "end_time": "2019-06-26T19:50:58.543372Z",
     "start_time": "2019-06-26T19:50:58.470270Z"
    }
   },
   "outputs": [],
   "source": [
    "iprp = iprp[iprp>1000]"
   ]
  },
  {
   "cell_type": "code",
   "execution_count": null,
   "metadata": {
    "ExecuteTime": {
     "end_time": "2019-06-26T19:51:53.194479Z",
     "start_time": "2019-06-26T19:51:53.121422Z"
    }
   },
   "outputs": [],
   "source": [
    "iprp[iprp<1000]"
   ]
  },
  {
   "cell_type": "code",
   "execution_count": null,
   "metadata": {
    "ExecuteTime": {
     "end_time": "2019-06-26T19:51:00.028711Z",
     "start_time": "2019-06-26T19:50:59.732958Z"
    }
   },
   "outputs": [],
   "source": [
    "show(iprp, ta=False)"
   ]
  },
  {
   "cell_type": "code",
   "execution_count": null,
   "metadata": {
    "ExecuteTime": {
     "end_time": "2019-06-27T08:48:35.149296Z",
     "start_time": "2019-06-27T08:48:33.799190Z"
    }
   },
   "outputs": [],
   "source": [
    "vap = get('VAP.AX', mode=\"PR\")\n",
    "xre = get('XRE.TO', mode=\"PR\")\n",
    "vnqi = get('VNQI', mode=\"PR\")\n",
    "vnq = get('VNQ', mode=\"PR\")\n",
    "show(vap, iukp, iprp, xre, vnq, ta='rel')"
   ]
  },
  {
   "cell_type": "code",
   "execution_count": null,
   "metadata": {
    "ExecuteTime": {
     "end_time": "2019-06-26T20:34:40.351548Z",
     "start_time": "2019-06-26T20:34:38.954538Z"
    }
   },
   "outputs": [],
   "source": [
    "# df = pd.read_csv('https://datahub.io/core/house-prices-global/r/real-index.csv')\n",
    "df = pd.read_csv('https://raw.githubusercontent.com/datasets/house-prices-global/master/data/real_index.csv')"
   ]
  },
  {
   "cell_type": "code",
   "execution_count": null,
   "metadata": {
    "ExecuteTime": {
     "end_time": "2019-06-26T20:34:40.504770Z",
     "start_time": "2019-06-26T20:34:40.353522Z"
    }
   },
   "outputs": [],
   "source": [
    "df.date = pd.to_datetime(df[\"date\"])\n",
    "df = df.set_index([\"date\", \"country\"]).unstack()[\"price\"]"
   ]
  },
  {
   "cell_type": "code",
   "execution_count": null,
   "metadata": {
    "ExecuteTime": {
     "end_time": "2019-06-26T20:34:41.163906Z",
     "start_time": "2019-06-26T20:34:40.513845Z"
    }
   },
   "outputs": [],
   "source": [
    "show(df[\"Israel\"], df[\"United Kingdom\"], df[\"United States\"], df[\"Canada\"], df[\"Australia\"], df[\"Germany\"], ta='rel')"
   ]
  },
  {
   "cell_type": "code",
   "execution_count": null,
   "metadata": {
    "ExecuteTime": {
     "end_time": "2019-06-27T08:52:45.094051Z",
     "start_time": "2019-06-27T08:52:41.237078Z"
    }
   },
   "outputs": [],
   "source": [
    "df_oecd = pd.read_csv('https://stats.oecd.org/sdmx-json/data/DP_LIVE/.HOUSECOST.../OECD?contentType=csv&detail=code&separator=comma&csv-lang=en')\n"
   ]
  },
  {
   "cell_type": "code",
   "execution_count": null,
   "metadata": {
    "ExecuteTime": {
     "end_time": "2019-06-27T08:54:00.203054Z",
     "start_time": "2019-06-27T08:54:00.126215Z"
    }
   },
   "outputs": [],
   "source": [
    "\n",
    "def re(code, real=True):\n",
    "    p = df_oecd.query(f'SUBJECT==\"{\"REAL\" if real else \"NOMINAL\"}\" and LOCATION==\"{code}\" and FREQUENCY==\"Q\"')\n",
    "    p.index = pd.to_datetime(p.TIME)\n",
    "    return name(p.Value, code)"
   ]
  },
  {
   "cell_type": "code",
   "execution_count": null,
   "metadata": {
    "ExecuteTime": {
     "end_time": "2019-06-27T17:18:45.584337Z",
     "start_time": "2019-06-27T17:18:44.684908Z"
    }
   },
   "outputs": [],
   "source": [
    "show(re(\"USA\", False) / re(\"USA\", True), cpiUS)"
   ]
  },
  {
   "cell_type": "code",
   "execution_count": null,
   "metadata": {
    "ExecuteTime": {
     "end_time": "2019-06-27T08:54:01.275493Z",
     "start_time": "2019-06-27T08:54:00.352528Z"
    }
   },
   "outputs": [],
   "source": [
    "\n",
    "show(re(\"ISR\"), df[\"Israel\"], trim=False)\n",
    "show(re(\"GBR\"), df[\"United Kingdom\"], trim=False)\n",
    "show(re(\"DEU\"), df[\"Germany\"], trim=False)\n",
    "show(re(\"AUS\"), df[\"Australia\"], trim=False)\n",
    "show(re(\"CAN\"), df[\"Canada\"], trim=False)\n",
    "show(re(\"USA\"), df[\"United States\"], trim=False)"
   ]
  },
  {
   "cell_type": "code",
   "execution_count": null,
   "metadata": {
    "ExecuteTime": {
     "end_time": "2019-06-27T08:54:01.694684Z",
     "start_time": "2019-06-27T08:54:01.279296Z"
    }
   },
   "outputs": [],
   "source": [
    "show(re(\"ISR\"), re(\"GBR\"), re(\"USA\"), re(\"DEU\"), re(\"AUS\"), re(\"CAN\"), ta='rel')"
   ]
  },
  {
   "cell_type": "code",
   "execution_count": null,
   "metadata": {
    "ExecuteTime": {
     "end_time": "2019-06-27T08:54:02.159274Z",
     "start_time": "2019-06-27T08:54:01.702172Z"
    }
   },
   "outputs": [],
   "source": [
    "show(re(\"USA\"), ma(vnq, 1000), trim=False)"
   ]
  },
  {
   "cell_type": "code",
   "execution_count": null,
   "metadata": {
    "ExecuteTime": {
     "end_time": "2019-06-27T08:54:02.512557Z",
     "start_time": "2019-06-27T08:54:02.161764Z"
    }
   },
   "outputs": [],
   "source": [
    "show(re(\"GBR\"), ma(iukp, 1000), trim=False)"
   ]
  },
  {
   "cell_type": "code",
   "execution_count": null,
   "metadata": {
    "ExecuteTime": {
     "end_time": "2019-06-27T08:54:03.113163Z",
     "start_time": "2019-06-27T08:54:02.515092Z"
    }
   },
   "outputs": [],
   "source": [
    "show(re(\"CAN\"), ma(xre, 1000), trim=False)"
   ]
  },
  {
   "cell_type": "code",
   "execution_count": null,
   "metadata": {
    "ExecuteTime": {
     "end_time": "2019-06-27T08:54:03.413179Z",
     "start_time": "2019-06-27T08:54:03.116327Z"
    }
   },
   "outputs": [],
   "source": [
    "show(re(\"AUS\"), ma(vap, 1000), trim=False)"
   ]
  },
  {
   "cell_type": "code",
   "execution_count": null,
   "metadata": {},
   "outputs": [],
   "source": []
  },
  {
   "cell_type": "code",
   "execution_count": null,
   "metadata": {},
   "outputs": [],
   "source": []
  },
  {
   "cell_type": "code",
   "execution_count": null,
   "metadata": {},
   "outputs": [],
   "source": []
  }
 ],
 "metadata": {
  "kernelspec": {
   "display_name": "Python 3",
   "language": "python",
   "name": "python3"
  },
  "language_info": {
   "codemirror_mode": {
    "name": "ipython",
    "version": 3
   },
   "file_extension": ".py",
   "mimetype": "text/x-python",
   "name": "python",
   "nbconvert_exporter": "python",
   "pygments_lexer": "ipython3",
   "version": "3.6.7"
  },
  "varInspector": {
   "cols": {
    "lenName": 16,
    "lenType": 16,
    "lenVar": 40
   },
   "kernels_config": {
    "python": {
     "delete_cmd_postfix": "",
     "delete_cmd_prefix": "del ",
     "library": "var_list.py",
     "varRefreshCmd": "print(var_dic_list())"
    },
    "r": {
     "delete_cmd_postfix": ") ",
     "delete_cmd_prefix": "rm(",
     "library": "var_list.r",
     "varRefreshCmd": "cat(var_dic_list()) "
    }
   },
   "types_to_exclude": [
    "module",
    "function",
    "builtin_function_or_method",
    "instance",
    "_Feature"
   ],
   "window_display": false
  }
 },
 "nbformat": 4,
 "nbformat_minor": 2
}
