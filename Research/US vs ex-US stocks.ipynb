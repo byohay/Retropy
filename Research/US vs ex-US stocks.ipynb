{
 "cells": [
  {
   "cell_type": "code",
   "execution_count": null,
   "metadata": {
    "ExecuteTime": {
     "end_time": "2019-05-04T18:03:25.926039Z",
     "start_time": "2019-05-04T18:03:23.247315Z"
    }
   },
   "outputs": [],
   "source": [
    "%run retropy.ipynb"
   ]
  },
  {
   "cell_type": "markdown",
   "metadata": {},
   "source": [
    "Hypothesis - ex-US will outperform\n",
    "- US vs x-US shows a cycle of about 15 years, which is now at it's peak\n",
    "- before the Trump trade war began, ex-US markets seems to have equalized with US and ready to outperform\n",
    "- this is especially sensible given the US high valuation vs the ex-US low valuations\n",
    "- the trade-war has init a wild run in relative performance of 0.14 points.\n",
    "- previous periods of inflection points between US and ex-US performance, also showed spikes in relative performance, of a ~0.2 points\n",
    "\n",
    "\n",
    "Contarian view - US will outperform\n",
    "- while a local pull back in relative perfrmance is likely, we are still in a positive macro trend\n",
    "- even further, the inflection didn't happen, which might indicate we are in for another leg of the US outperformance\n",
    "- it is possible that the US economy is inherintly superior to others, and some outperformance is built-in"
   ]
  },
  {
   "cell_type": "code",
   "execution_count": null,
   "metadata": {
    "ExecuteTime": {
     "end_time": "2019-05-04T18:03:35.385913Z",
     "start_time": "2019-05-04T18:03:25.927896Z"
    }
   },
   "outputs": [],
   "source": [
    "us = get(lc, \"Y\", cache=False)\n",
    "xus = get(i_ac, \"Y\", cache=False)\n",
    "show_min_max_bands(us / xus)\n",
    "show(us / xus)"
   ]
  },
  {
   "cell_type": "code",
   "execution_count": null,
   "metadata": {},
   "outputs": [],
   "source": []
  }
 ],
 "metadata": {
  "kernelspec": {
   "display_name": "Python [conda env:retropy]",
   "language": "python",
   "name": "conda-env-retropy-py"
  },
  "language_info": {
   "codemirror_mode": {
    "name": "ipython",
    "version": 3
   },
   "file_extension": ".py",
   "mimetype": "text/x-python",
   "name": "python",
   "nbconvert_exporter": "python",
   "pygments_lexer": "ipython3",
   "version": "3.6.7"
  },
  "varInspector": {
   "cols": {
    "lenName": 16,
    "lenType": 16,
    "lenVar": 40
   },
   "kernels_config": {
    "python": {
     "delete_cmd_postfix": "",
     "delete_cmd_prefix": "del ",
     "library": "var_list.py",
     "varRefreshCmd": "print(var_dic_list())"
    },
    "r": {
     "delete_cmd_postfix": ") ",
     "delete_cmd_prefix": "rm(",
     "library": "var_list.r",
     "varRefreshCmd": "cat(var_dic_list()) "
    }
   },
   "types_to_exclude": [
    "module",
    "function",
    "builtin_function_or_method",
    "instance",
    "_Feature"
   ],
   "window_display": false
  }
 },
 "nbformat": 4,
 "nbformat_minor": 2
}
