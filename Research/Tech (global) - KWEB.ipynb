{
 "cells": [
  {
   "cell_type": "code",
   "execution_count": null,
   "metadata": {
    "ExecuteTime": {
     "end_time": "2019-04-30T07:40:19.620740Z",
     "start_time": "2019-04-30T07:40:17.860803Z"
    }
   },
   "outputs": [],
   "source": [
    "%run retropy.ipynb"
   ]
  },
  {
   "cell_type": "markdown",
   "metadata": {
    "ExecuteTime": {
     "end_time": "2018-10-12T20:06:27.175108Z",
     "start_time": "2018-10-12T20:06:27.113731Z"
    }
   },
   "source": [
    "12.10.2018\n",
    "\n",
    "Hypothesis - good time to enter China Internet Tech Stocks\n",
    "- KWEB is at 36% draw-down, a significant discount in absolute terms. MCHI is at 29%.\n",
    "- in 2015 crash, where China used it financial arsenal to stabilize the stock market, MCHI was at a ~45% draw-down, which given some estimates on how low we can get\n",
    "- price is currently the same it was in March 2014 peak, more than 4 years ago.\n",
    "- on all risk metrics (mutual_dd, downside_capture, cagr, max_dd), KWEB was better than MCHI, making it slightly safer\n",
    "- AUM flow has increased by 15% ($400MM) during the decline in the past months, this is very unusual in most ETFS, which usually show highly correlated performance and flow. A similar trend is evident in FXI.\n",
    "\n",
    "Contrarian view - good, but too early\n",
    "- KWEB/MCHI seems to have a ceiling and a floor, and we are currently about 40% away from the ceiling. \n",
    "- Currently this is a falling knife, as there is no clean indication of reaching a bottom\n",
    "- China's shrinking box: https://www.zerohedge.com/news/2018-10-28/hedge-fund-cio-today-chinese-are-trapped-and-box-keeps-shrinking?utm_source=feedburner&utm_medium=feed&utm_campaign=Feed%3A+zerohedge%2Ffeed+%28zero+hedge+-+on+a+long+enough+timeline%2C+the+survival+rate+for+everyone+drops+to+zero%29"
   ]
  },
  {
   "cell_type": "code",
   "execution_count": null,
   "metadata": {
    "ExecuteTime": {
     "end_time": "2019-04-30T07:40:26.039149Z",
     "start_time": "2019-04-30T07:40:20.863043Z"
    }
   },
   "outputs": [],
   "source": [
    "get(['KWEB', 'MCHI'], cache=False)"
   ]
  },
  {
   "cell_type": "code",
   "execution_count": null,
   "metadata": {
    "ExecuteTime": {
     "end_time": "2019-04-30T07:40:27.841829Z",
     "start_time": "2019-04-30T07:40:26.951015Z"
    }
   },
   "outputs": [],
   "source": [
    "show_dd_price_actions('KWEB', 'MCHI')"
   ]
  },
  {
   "cell_type": "code",
   "execution_count": null,
   "metadata": {
    "ExecuteTime": {
     "end_time": "2019-04-30T07:40:58.146869Z",
     "start_time": "2019-04-30T07:40:51.203466Z"
    }
   },
   "outputs": [],
   "source": [
    "get('QQQ', cache=False)\n",
    "show_aum_vs_return('QQQ', cache=False)"
   ]
  },
  {
   "cell_type": "code",
   "execution_count": null,
   "metadata": {
    "ExecuteTime": {
     "end_time": "2019-04-30T07:41:31.384521Z",
     "start_time": "2019-04-30T07:41:10.526872Z"
    }
   },
   "outputs": [],
   "source": [
    "show_comp('KWEB', 'MCHI')"
   ]
  },
  {
   "cell_type": "code",
   "execution_count": null,
   "metadata": {
    "ExecuteTime": {
     "end_time": "2019-04-30T07:41:34.865439Z",
     "start_time": "2019-04-30T07:41:32.383565Z"
    }
   },
   "outputs": [],
   "source": [
    "show_aum('KWEB', cache=False)"
   ]
  },
  {
   "cell_type": "code",
   "execution_count": null,
   "metadata": {},
   "outputs": [],
   "source": []
  }
 ],
 "metadata": {
  "kernelspec": {
   "display_name": "Python [conda env:retropy]",
   "language": "python",
   "name": "conda-env-retropy-py"
  },
  "language_info": {
   "codemirror_mode": {
    "name": "ipython",
    "version": 3
   },
   "file_extension": ".py",
   "mimetype": "text/x-python",
   "name": "python",
   "nbconvert_exporter": "python",
   "pygments_lexer": "ipython3",
   "version": "3.6.7"
  },
  "varInspector": {
   "cols": {
    "lenName": 16,
    "lenType": 16,
    "lenVar": 40
   },
   "kernels_config": {
    "python": {
     "delete_cmd_postfix": "",
     "delete_cmd_prefix": "del ",
     "library": "var_list.py",
     "varRefreshCmd": "print(var_dic_list())"
    },
    "r": {
     "delete_cmd_postfix": ") ",
     "delete_cmd_prefix": "rm(",
     "library": "var_list.r",
     "varRefreshCmd": "cat(var_dic_list()) "
    }
   },
   "types_to_exclude": [
    "module",
    "function",
    "builtin_function_or_method",
    "instance",
    "_Feature"
   ],
   "window_display": false
  }
 },
 "nbformat": 4,
 "nbformat_minor": 2
}
