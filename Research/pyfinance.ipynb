{
 "cells": [
  {
   "cell_type": "code",
   "execution_count": 2,
   "metadata": {
    "ExecuteTime": {
     "end_time": "2018-08-28T06:34:23.105895Z",
     "start_time": "2018-08-28T06:34:22.184607Z"
    },
    "scrolled": false
   },
   "outputs": [
    {
     "name": "stdout",
     "output_type": "stream",
     "text": [
      "iPy: False\n"
     ]
    },
    {
     "data": {
      "text/html": [
       "\n",
       "<style>\n",
       "div.rendered_html {\n",
       "    max-width: 10000px;\n",
       "}\n",
       "</style>\n"
      ],
      "text/plain": [
       "<IPython.core.display.HTML object>"
      ]
     },
     "metadata": {},
     "output_type": "display_data"
    }
   ],
   "source": [
    "%run \"Retropy_framework.py\""
   ]
  },
  {
   "cell_type": "code",
   "execution_count": 2,
   "metadata": {
    "ExecuteTime": {
     "end_time": "2018-08-28T06:33:02.505592Z",
     "start_time": "2018-08-28T06:33:02.492938Z"
    }
   },
   "outputs": [
    {
     "data": {
      "text/plain": [
       "2016-01-01    0.0023\n",
       "2016-01-02   -0.0243\n",
       "2016-01-03   -0.0174\n",
       "2016-01-04    0.0087\n",
       "2016-01-05   -0.0042\n",
       "               ...  \n",
       "2017-01-30   -0.0135\n",
       "2017-01-31    0.0013\n",
       "2017-02-01   -0.0155\n",
       "2017-02-02   -0.0215\n",
       "2017-02-03    0.0009\n",
       "Freq: D, Length: 400, dtype: float64"
      ]
     },
     "execution_count": 2,
     "metadata": {},
     "output_type": "execute_result"
    }
   ],
   "source": [
    "from pyfinance import *\n",
    ">>> s = np.random.randn(400) / 100 + 0.0008\n",
    ">>> idx = pd.date_range(start='2016', periods=len(s))  # default daily freq.\n",
    ">>> ts = TSeries(s, index=idx)\n",
    "ts"
   ]
  },
  {
   "cell_type": "code",
   "execution_count": 3,
   "metadata": {
    "ExecuteTime": {
     "end_time": "2018-08-28T06:33:11.268623Z",
     "start_time": "2018-08-28T06:33:09.602859Z"
    }
   },
   "outputs": [
    {
     "data": {
      "text/html": [
       "<div>\n",
       "<style scoped>\n",
       "    .dataframe tbody tr th:only-of-type {\n",
       "        vertical-align: middle;\n",
       "    }\n",
       "\n",
       "    .dataframe tbody tr th {\n",
       "        vertical-align: top;\n",
       "    }\n",
       "\n",
       "    .dataframe thead th {\n",
       "        text-align: right;\n",
       "    }\n",
       "</style>\n",
       "<table border=\"1\" class=\"dataframe\">\n",
       "  <thead>\n",
       "    <tr style=\"text-align: right;\">\n",
       "      <th></th>\n",
       "      <th>term_spread</th>\n",
       "      <th>copper</th>\n",
       "    </tr>\n",
       "    <tr>\n",
       "      <th>DATE</th>\n",
       "      <th></th>\n",
       "      <th></th>\n",
       "    </tr>\n",
       "  </thead>\n",
       "  <tbody>\n",
       "    <tr>\n",
       "      <th>2000-02-01</th>\n",
       "      <td>-1.4091</td>\n",
       "      <td>-0.0200</td>\n",
       "    </tr>\n",
       "    <tr>\n",
       "      <th>2000-03-01</th>\n",
       "      <td>2.0000</td>\n",
       "      <td>-0.0372</td>\n",
       "    </tr>\n",
       "    <tr>\n",
       "      <th>2000-04-01</th>\n",
       "      <td>0.5185</td>\n",
       "      <td>-0.0333</td>\n",
       "    </tr>\n",
       "    <tr>\n",
       "      <th>2000-05-01</th>\n",
       "      <td>-0.0976</td>\n",
       "      <td>0.0614</td>\n",
       "    </tr>\n",
       "    <tr>\n",
       "      <th>2000-06-01</th>\n",
       "      <td>0.0270</td>\n",
       "      <td>-0.0185</td>\n",
       "    </tr>\n",
       "  </tbody>\n",
       "</table>\n",
       "</div>"
      ],
      "text/plain": [
       "            term_spread  copper\n",
       "DATE                           \n",
       "2000-02-01      -1.4091 -0.0200\n",
       "2000-03-01       2.0000 -0.0372\n",
       "2000-04-01       0.5185 -0.0333\n",
       "2000-05-01      -0.0976  0.0614\n",
       "2000-06-01       0.0270 -0.0185"
      ]
     },
     "execution_count": 3,
     "metadata": {},
     "output_type": "execute_result"
    },
    {
     "data": {
      "text/plain": [
       "DATE\n",
       "2000-02-01    0.0126\n",
       "2000-03-01   -0.0001\n",
       "2000-04-01    0.0056\n",
       "2000-05-01    0.0220\n",
       "2000-06-01   -0.0101\n",
       "Freq: MS, Name: usd, dtype: float64"
      ]
     },
     "execution_count": 3,
     "metadata": {},
     "output_type": "execute_result"
    }
   ],
   "source": [
    ">>> from pandas_datareader import DataReader\n",
    "\n",
    ">>> syms = {\n",
    "...     'TWEXBMTH': 'usd',\n",
    "...     'T10Y2YM': 'term_spread',\n",
    "...     'PCOPPUSDM': 'copper'\n",
    "...     }\n",
    "\n",
    ">>> data = DataReader(syms.keys(), data_source='fred',\n",
    "...                   start='2000-01-01', end='2016-12-31')\\\n",
    "...     .pct_change()\\\n",
    "...     .dropna()\\\n",
    "...     .rename(columns=syms)\n",
    "\n",
    ">>> y = data.pop('usd')\n",
    "\n",
    ">>> data.head()\n",
    "\n",
    ">>> y.head()\n"
   ]
  },
  {
   "cell_type": "code",
   "execution_count": 10,
   "metadata": {
    "ExecuteTime": {
     "end_time": "2018-08-06T06:23:30.344992Z",
     "start_time": "2018-08-06T06:23:11.774037Z"
    }
   },
   "outputs": [
    {
     "name": "stdout",
     "output_type": "stream",
     "text": [
      "Fetching OLS from AV .. Failed to fetch OLS from AV, trying from Y .. Fetching OLS from Y .. Failed to fetch implied symbol: OLS\n"
     ]
    },
    {
     "data": {
      "text/plain": [
       "0.001230320443416746"
      ]
     },
     "execution_count": 10,
     "metadata": {},
     "output_type": "execute_result"
    },
    {
     "data": {
      "text/plain": [
       "array([-0.00062647, -0.09490566])"
      ]
     },
     "execution_count": 10,
     "metadata": {},
     "output_type": "execute_result"
    },
    {
     "data": {
      "text/plain": [
       "33.42923069295481"
      ]
     },
     "execution_count": 10,
     "metadata": {},
     "output_type": "execute_result"
    },
    {
     "data": {
      "text/plain": [
       "(203,)"
      ]
     },
     "execution_count": 10,
     "metadata": {},
     "output_type": "execute_result"
    },
    {
     "data": {
      "text/plain": [
       "(203,)"
      ]
     },
     "execution_count": 10,
     "metadata": {},
     "output_type": "execute_result"
    }
   ],
   "source": [
    ">>> from pyfinance import ols\n",
    "\n",
    ">>> model = ols.OLS(y=y, x=data)\n",
    "\n",
    ">>> model.alpha  # the intercept - a scalar\n",
    "\n",
    ">>> model.beta  # the coefficients\n",
    "\n",
    ">>> model.fstat\n",
    "\n",
    "# Residuals and predicted y values are NumPy arrays\n",
    "# with the same shape as `y`.\n",
    ">>> model.resids.shape\n",
    "\n",
    ">>> model.predicted.shape\n"
   ]
  },
  {
   "cell_type": "code",
   "execution_count": 4,
   "metadata": {
    "ExecuteTime": {
     "end_time": "2018-08-28T06:35:08.364349Z",
     "start_time": "2018-08-28T06:35:08.358070Z"
    }
   },
   "outputs": [],
   "source": [
    "from pyfinance.general import *"
   ]
  },
  {
   "cell_type": "code",
   "execution_count": 9,
   "metadata": {
    "ExecuteTime": {
     "end_time": "2018-08-28T06:37:16.807666Z",
     "start_time": "2018-08-28T06:37:16.423835Z"
    }
   },
   "outputs": [],
   "source": [
    "all = [lc, gb, cb, cjb, sc]\n",
    "all = get(all)\n",
    "df = pd.DataFrame({x.name: logret(x) for x in all}).dropna()"
   ]
  },
  {
   "cell_type": "code",
   "execution_count": 10,
   "metadata": {
    "ExecuteTime": {
     "end_time": "2018-08-28T06:37:21.322645Z",
     "start_time": "2018-08-28T06:37:21.317753Z"
    }
   },
   "outputs": [],
   "source": [
    "pca = PCA(df)"
   ]
  },
  {
   "cell_type": "code",
   "execution_count": 12,
   "metadata": {
    "ExecuteTime": {
     "end_time": "2018-08-28T06:37:40.161855Z",
     "start_time": "2018-08-28T06:37:40.155179Z"
    }
   },
   "outputs": [
    {
     "data": {
      "text/plain": [
       "<pyfinance.general.PCA at 0x115e60278>"
      ]
     },
     "execution_count": 12,
     "metadata": {},
     "output_type": "execute_result"
    }
   ],
   "source": [
    "pca.fit()"
   ]
  }
 ],
 "metadata": {
  "kernelspec": {
   "display_name": "Python [conda env:retropy]",
   "language": "python",
   "name": "conda-env-retropy-py"
  },
  "language_info": {
   "codemirror_mode": {
    "name": "ipython",
    "version": 3
   },
   "file_extension": ".py",
   "mimetype": "text/x-python",
   "name": "python",
   "nbconvert_exporter": "python",
   "pygments_lexer": "ipython3",
   "version": "3.6.6"
  },
  "varInspector": {
   "cols": {
    "lenName": 16,
    "lenType": 16,
    "lenVar": 40
   },
   "kernels_config": {
    "python": {
     "delete_cmd_postfix": "",
     "delete_cmd_prefix": "del ",
     "library": "var_list.py",
     "varRefreshCmd": "print(var_dic_list())"
    },
    "r": {
     "delete_cmd_postfix": ") ",
     "delete_cmd_prefix": "rm(",
     "library": "var_list.r",
     "varRefreshCmd": "cat(var_dic_list()) "
    }
   },
   "types_to_exclude": [
    "module",
    "function",
    "builtin_function_or_method",
    "instance",
    "_Feature"
   ],
   "window_display": false
  }
 },
 "nbformat": 4,
 "nbformat_minor": 2
}
