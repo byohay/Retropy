{
 "cells": [
  {
   "cell_type": "code",
   "execution_count": null,
   "metadata": {
    "ExecuteTime": {
     "end_time": "2018-08-28T06:34:23.105895Z",
     "start_time": "2018-08-28T06:34:22.184607Z"
    }
   },
   "outputs": [],
   "source": [
    "%run \"Retropy_framework.py\""
   ]
  },
  {
   "cell_type": "code",
   "execution_count": null,
   "metadata": {
    "ExecuteTime": {
     "end_time": "2018-08-28T06:33:02.505592Z",
     "start_time": "2018-08-28T06:33:02.492938Z"
    }
   },
   "outputs": [],
   "source": [
    "from pyfinance import *\n",
    ">>> s = np.random.randn(400) / 100 + 0.0008\n",
    ">>> idx = pd.date_range(start='2016', periods=len(s))  # default daily freq.\n",
    ">>> ts = TSeries(s, index=idx)\n",
    "ts"
   ]
  },
  {
   "cell_type": "code",
   "execution_count": null,
   "metadata": {
    "ExecuteTime": {
     "end_time": "2018-08-28T06:33:11.268623Z",
     "start_time": "2018-08-28T06:33:09.602859Z"
    }
   },
   "outputs": [],
   "source": [
    ">>> from pandas_datareader import DataReader\n",
    "\n",
    ">>> syms = {\n",
    "...     'TWEXBMTH': 'usd',\n",
    "...     'T10Y2YM': 'term_spread',\n",
    "...     'PCOPPUSDM': 'copper'\n",
    "...     }\n",
    "\n",
    ">>> data = DataReader(syms.keys(), data_source='fred',\n",
    "...                   start='2000-01-01', end='2016-12-31')\\\n",
    "...     .pct_change()\\\n",
    "...     .dropna()\\\n",
    "...     .rename(columns=syms)\n",
    "\n",
    ">>> y = data.pop('usd')\n",
    "\n",
    ">>> data.head()\n",
    "\n",
    ">>> y.head()\n"
   ]
  },
  {
   "cell_type": "code",
   "execution_count": null,
   "metadata": {
    "ExecuteTime": {
     "end_time": "2018-08-06T06:23:30.344992Z",
     "start_time": "2018-08-06T06:23:11.774037Z"
    }
   },
   "outputs": [],
   "source": [
    ">>> from pyfinance import ols\n",
    "\n",
    ">>> model = ols.OLS(y=y, x=data)\n",
    "\n",
    ">>> model.alpha  # the intercept - a scalar\n",
    "\n",
    ">>> model.beta  # the coefficients\n",
    "\n",
    ">>> model.fstat\n",
    "\n",
    "# Residuals and predicted y values are NumPy arrays\n",
    "# with the same shape as `y`.\n",
    ">>> model.resids.shape\n",
    "\n",
    ">>> model.predicted.shape\n"
   ]
  },
  {
   "cell_type": "code",
   "execution_count": null,
   "metadata": {
    "ExecuteTime": {
     "end_time": "2018-08-28T06:35:08.364349Z",
     "start_time": "2018-08-28T06:35:08.358070Z"
    }
   },
   "outputs": [],
   "source": [
    "from pyfinance.general import *"
   ]
  },
  {
   "cell_type": "code",
   "execution_count": null,
   "metadata": {
    "ExecuteTime": {
     "end_time": "2018-08-28T06:37:16.807666Z",
     "start_time": "2018-08-28T06:37:16.423835Z"
    }
   },
   "outputs": [],
   "source": [
    "all = [lc, gb, cb, cjb, sc]\n",
    "all = get(all)\n",
    "df = pd.DataFrame({x.name: logret(x) for x in all}).dropna()"
   ]
  },
  {
   "cell_type": "code",
   "execution_count": null,
   "metadata": {
    "ExecuteTime": {
     "end_time": "2018-08-28T06:37:21.322645Z",
     "start_time": "2018-08-28T06:37:21.317753Z"
    }
   },
   "outputs": [],
   "source": [
    "pca = PCA(df)"
   ]
  },
  {
   "cell_type": "code",
   "execution_count": null,
   "metadata": {
    "ExecuteTime": {
     "end_time": "2018-08-28T06:37:40.161855Z",
     "start_time": "2018-08-28T06:37:40.155179Z"
    }
   },
   "outputs": [],
   "source": [
    "pca.fit()"
   ]
  }
 ],
 "metadata": {
  "kernelspec": {
   "display_name": "Python [conda env:retropy]",
   "language": "python",
   "name": "conda-env-retropy-py"
  },
  "language_info": {
   "codemirror_mode": {
    "name": "ipython",
    "version": 3
   },
   "file_extension": ".py",
   "mimetype": "text/x-python",
   "name": "python",
   "nbconvert_exporter": "python",
   "pygments_lexer": "ipython3",
   "version": "3.6.6"
  },
  "varInspector": {
   "cols": {
    "lenName": 16,
    "lenType": 16,
    "lenVar": 40
   },
   "kernels_config": {
    "python": {
     "delete_cmd_postfix": "",
     "delete_cmd_prefix": "del ",
     "library": "var_list.py",
     "varRefreshCmd": "print(var_dic_list())"
    },
    "r": {
     "delete_cmd_postfix": ") ",
     "delete_cmd_prefix": "rm(",
     "library": "var_list.r",
     "varRefreshCmd": "cat(var_dic_list()) "
    }
   },
   "types_to_exclude": [
    "module",
    "function",
    "builtin_function_or_method",
    "instance",
    "_Feature"
   ],
   "window_display": false
  }
 },
 "nbformat": 4,
 "nbformat_minor": 2
}
