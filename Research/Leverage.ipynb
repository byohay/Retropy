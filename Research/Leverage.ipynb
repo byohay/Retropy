{
 "cells": [
  {
   "cell_type": "code",
   "execution_count": null,
   "metadata": {
    "ExecuteTime": {
     "end_time": "2019-05-20T05:46:08.538889Z",
     "start_time": "2019-05-20T05:46:06.365436Z"
    }
   },
   "outputs": [],
   "source": [
    "%run retropy.ipynb"
   ]
  },
  {
   "cell_type": "code",
   "execution_count": null,
   "metadata": {
    "ExecuteTime": {
     "end_time": "2019-05-20T06:03:21.447870Z",
     "start_time": "2019-05-20T06:03:19.784494Z"
    }
   },
   "outputs": [],
   "source": [
    "mode = \"NTR\"\n",
    "spy = get('VFINX', mode=mode, source=\"Y\")\n",
    "p = ret(spy).fillna(0)\n",
    "rate = get(ac.fedRate)/100\n",
    "daily_rate = np.power(rate+1, 1/365)-1\n",
    "sso = i_ret(p*2 - (daily_rate+0.0025/365) - 0.01/365)\n",
    "sso = name(sso, \"sso\")\n",
    "SSO = get('SSO', mode=mode)\n",
    "show(sso, spy, SSO, ta='rel')"
   ]
  },
  {
   "cell_type": "code",
   "execution_count": null,
   "metadata": {
    "ExecuteTime": {
     "end_time": "2019-05-20T06:03:21.759312Z",
     "start_time": "2019-05-20T06:03:21.449930Z"
    }
   },
   "outputs": [],
   "source": [
    "show(sso / SSO)"
   ]
  },
  {
   "cell_type": "code",
   "execution_count": null,
   "metadata": {},
   "outputs": [],
   "source": []
  }
 ],
 "metadata": {
  "kernelspec": {
   "display_name": "Python 3",
   "language": "python",
   "name": "python3"
  },
  "language_info": {
   "codemirror_mode": {
    "name": "ipython",
    "version": 3
   },
   "file_extension": ".py",
   "mimetype": "text/x-python",
   "name": "python",
   "nbconvert_exporter": "python",
   "pygments_lexer": "ipython3",
   "version": "3.6.7"
  },
  "varInspector": {
   "cols": {
    "lenName": 16,
    "lenType": 16,
    "lenVar": 40
   },
   "kernels_config": {
    "python": {
     "delete_cmd_postfix": "",
     "delete_cmd_prefix": "del ",
     "library": "var_list.py",
     "varRefreshCmd": "print(var_dic_list())"
    },
    "r": {
     "delete_cmd_postfix": ") ",
     "delete_cmd_prefix": "rm(",
     "library": "var_list.r",
     "varRefreshCmd": "cat(var_dic_list()) "
    }
   },
   "types_to_exclude": [
    "module",
    "function",
    "builtin_function_or_method",
    "instance",
    "_Feature"
   ],
   "window_display": false
  }
 },
 "nbformat": 4,
 "nbformat_minor": 2
}
