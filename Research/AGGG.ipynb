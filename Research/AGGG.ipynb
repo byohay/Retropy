{
 "cells": [
  {
   "cell_type": "code",
   "execution_count": null,
   "metadata": {
    "ExecuteTime": {
     "end_time": "2019-05-28T08:54:52.723653Z",
     "start_time": "2019-05-28T08:54:50.335083Z"
    }
   },
   "outputs": [],
   "source": [
    "%run retropy.ipynb"
   ]
  },
  {
   "cell_type": "code",
   "execution_count": null,
   "metadata": {
    "ExecuteTime": {
     "end_time": "2019-04-30T07:25:34.753985Z",
     "start_time": "2019-04-30T07:25:34.706132Z"
    }
   },
   "outputs": [],
   "source": [
    "conf.conf_cache_memory = True\n",
    "conf.conf_cache_disk = True"
   ]
  },
  {
   "cell_type": "code",
   "execution_count": null,
   "metadata": {
    "ExecuteTime": {
     "end_time": "2019-04-30T07:25:35.280177Z",
     "start_time": "2019-04-30T07:25:35.231638Z"
    }
   },
   "outputs": [],
   "source": [
    "conf.conf_cache_memory = False\n",
    "conf.conf_cache_disk = False"
   ]
  },
  {
   "cell_type": "code",
   "execution_count": null,
   "metadata": {
    "ExecuteTime": {
     "end_time": "2019-05-28T09:06:01.630512Z",
     "start_time": "2019-05-28T09:05:59.922208Z"
    }
   },
   "outputs": [],
   "source": [
    "aggg = get(\"AGGG.L@Y\", interpolate=False)\n",
    "idx = name(get(\"LEGATRUU;IND@B\", interpolate=False), \"~AGGG\")\n",
    "show(aggg, idx, ta=False)"
   ]
  },
  {
   "cell_type": "code",
   "execution_count": null,
   "metadata": {
    "ExecuteTime": {
     "end_time": "2019-06-03T10:37:26.022246Z",
     "start_time": "2019-06-03T10:37:25.879397Z"
    }
   },
   "outputs": [],
   "source": [
    "show(glag)"
   ]
  },
  {
   "cell_type": "code",
   "execution_count": null,
   "metadata": {
    "ExecuteTime": {
     "end_time": "2019-06-03T10:53:32.309825Z",
     "start_time": "2019-06-03T10:53:31.928892Z"
    }
   },
   "outputs": [],
   "source": [
    "aggg = get(\"AGGG.L@AV\", interpolate=False, cache=True)\n",
    "# aggg = ret(aggg)\n",
    "# aggg = aggg[aggg.abs()<0.9]\n",
    "# aggg = i_ret(aggg)\n",
    "\n",
    "agggB = get(\"AGGG;LN@B\", interpolate=False, cache=True)\n",
    "\n",
    "#agggJT = convertSeries(get(\"IE00B3F81409@JT\", interpolate=False), \"EUR\", \"USD\")\n",
    "\n",
    "agggIdx = name(get(\"LEGATRUU;IND@B\", interpolate=False), \"~AGGG-idx\")\n",
    "\n",
    "glagB = get(\"GLAG;LN@B\", interpolate=False)\n",
    "\n",
    "glag = get('GLAG.L', cache=True)\n",
    "glag = convertSeries(glag, 'GBP', 'USD', cache=True)\n",
    "glag = drop_outliers(glag)\n",
    "\n",
    "agg = get(\"AGG\")\n",
    "igov = get(\"IGOV\")\n",
    "agggMix = name((agg*0.47 + igov*0.53).dropna(), \"~AGGG-mix\")\n",
    "\n",
    "all = [agggB, glagB, agggIdx, agggMix, glag, glagB]\n",
    "show(all, trim=False, legend=True)"
   ]
  },
  {
   "cell_type": "code",
   "execution_count": null,
   "metadata": {
    "ExecuteTime": {
     "end_time": "2019-05-28T18:06:23.071233Z",
     "start_time": "2019-05-28T18:06:22.524153Z"
    }
   },
   "outputs": [],
   "source": [
    "lrret(agggIdx, [agg, igov])"
   ]
  },
  {
   "cell_type": "code",
   "execution_count": null,
   "metadata": {
    "ExecuteTime": {
     "end_time": "2019-05-29T19:04:48.468103Z",
     "start_time": "2019-05-29T19:04:46.447222Z"
    }
   },
   "outputs": [],
   "source": [
    "t = get('WIP')\n",
    "s = [get(usdMajor), get(usdOther), getForex(\"USD\", \"GBP\")]\n",
    "args = dict(sum1=False, pos_weights=False, fit_values=False, freq=\"W\")\n",
    "\n",
    "#s = usdMajorCurrencies\n",
    "#args = dict(sum1=True, sum_max1=False, pos_weights=True, fit_values=False, freq=\"W\")\n",
    "\n",
    "lrret(t, s, **args)\n",
    "fit = lrret(t, s, return_pred_fit=True, show_res=False, **args)\n",
    "show(t / fit, t, fit, 1/get(usdMajor), 1/get(usdOther))"
   ]
  },
  {
   "cell_type": "code",
   "execution_count": null,
   "metadata": {
    "ExecuteTime": {
     "end_time": "2018-10-25T22:16:32.774601Z",
     "start_time": "2018-10-25T22:16:31.497811Z"
    }
   },
   "outputs": [],
   "source": [
    "lrret(idx, [1/get(usdMajor)], sum1=False, pos_weights=False, fit_values=False)\n",
    "#lr(idx, get(usdMajor))\n",
    "show(idx, idx*i_ret(0.6178*ret(get(usdMajor))))"
   ]
  },
  {
   "cell_type": "code",
   "execution_count": null,
   "metadata": {
    "ExecuteTime": {
     "end_time": "2018-10-25T22:16:45.536421Z",
     "start_time": "2018-10-25T22:16:42.557036Z"
    }
   },
   "outputs": [],
   "source": [
    "# AGGG seems to be very closely related to corp-bonds (in local currency)\n",
    "# also interesting to note that in this period, credit risk was well rewarded, while duration risk was too but with a price\n",
    "idxLocalCurs = name(get({idx:100, usdMajor:61.4}), \"~AGGG-local\")\n",
    "all = get([idxLocalCurs, 'IEI', 'IEF', lgb, elgb, 'EDV', 'ZROZ', gb, 'AGG', cb, cjb, 'IGOV', 'BWX', 'BWZ', 'EBND', 'EMB', 'DSUM', 'EMLC', 'HYXU'])\n",
    "showRiskReturn(*all)\n",
    "showRiskReturn(*all, ret_func=get_curr_yield)"
   ]
  },
  {
   "cell_type": "code",
   "execution_count": null,
   "metadata": {
    "ExecuteTime": {
     "end_time": "2018-10-25T22:17:04.787863Z",
     "start_time": "2018-10-25T22:17:03.839163Z"
    }
   },
   "outputs": [],
   "source": [
    "show(lmap(dd, ['IEI', 'IEF', 'AGG', cb, idxLocalCurs]), trim=False, legend=False)"
   ]
  },
  {
   "cell_type": "code",
   "execution_count": null,
   "metadata": {
    "ExecuteTime": {
     "end_time": "2018-08-23T12:09:01.421458Z",
     "start_time": "2018-08-23T12:09:01.251341Z"
    }
   },
   "outputs": [],
   "source": [
    "# AGGG and GLAG are the same, both dist' with the unhdged version\n",
    "show(agggB, glagB)\n",
    "show(agggB / glagB, 0, 1)"
   ]
  },
  {
   "cell_type": "code",
   "execution_count": null,
   "metadata": {
    "ExecuteTime": {
     "end_time": "2018-08-23T12:19:41.409031Z",
     "start_time": "2018-08-23T12:19:41.213906Z"
    }
   },
   "outputs": [],
   "source": [
    "# the regression gives AGG a 45% holding, matching EXACTLY the USD exposure of at the ETF\n",
    "lrret(idx, ['AGG', 'IGOV'], fit_values=True)"
   ]
  },
  {
   "cell_type": "code",
   "execution_count": null,
   "metadata": {
    "ExecuteTime": {
     "end_time": "2019-05-28T14:41:54.502645Z",
     "start_time": "2019-05-28T14:41:38.514386Z"
    }
   },
   "outputs": [],
   "source": [
    "get(['AGG', 'IGOV','BWZ', 'BWX'], cache=False)"
   ]
  },
  {
   "cell_type": "code",
   "execution_count": null,
   "metadata": {
    "ExecuteTime": {
     "end_time": "2019-05-29T19:07:50.518172Z",
     "start_time": "2019-05-29T19:07:49.345554Z"
    }
   },
   "outputs": [],
   "source": [
    "type = \"normal\"\n",
    "fees = True\n",
    "agg = get_yield_live(\"AGG\", type=type, reduce_fees=fees)\n",
    "igov = get_yield_live(\"IGOV\", type=type, reduce_fees=fees)\n",
    "bwx = get_yield_live(\"BWX\", type=type, reduce_fees=fees)\n",
    "bwz = get_yield_live(\"BWZ\", type=type, reduce_fees=fees)\n",
    "wip = get_yield_live(\"WIP\", type=type, reduce_fees=fees)\n",
    "aggg = name((agg*0.45 + igov*0.55).dropna(), \"~AGGG\")\n",
    "show(agg, igov, bwx, aggg, bwz, wip, range(6), ta=False, log=False)"
   ]
  },
  {
   "cell_type": "code",
   "execution_count": null,
   "metadata": {
    "ExecuteTime": {
     "end_time": "2018-08-23T14:48:43.387974Z",
     "start_time": "2018-08-23T14:48:42.873204Z"
    }
   },
   "outputs": [],
   "source": [
    "lrret(idx, [usdMajor], pos_weights=False, sum1=False, fit_values=False)"
   ]
  },
  {
   "cell_type": "code",
   "execution_count": null,
   "metadata": {
    "ExecuteTime": {
     "end_time": "2018-08-23T15:02:11.081529Z",
     "start_time": "2018-08-23T15:02:10.617116Z"
    }
   },
   "outputs": [],
   "source": [
    "#  33.34% EDV - אג\"ח ממשלת ארה\"ב ארוך מאד (24.5 מח\"מ)\n",
    "# - 33.33% BWZ - אג\"ח ממשלתי בינלאומי קצר (לא כולל ארה\"ב) נקוב במטבע מקומי (1.8 מח\"מ)\n",
    "# - 22.00% EBND - אג\"ח ממשלתי מדינות מתפתחות נקוב במטבע מקומי (5.3 מח\"מ)\n",
    "# - 11.33% DSUM - אג\"ח קונצרני קצר offshore נקוב ביואן (1.6 מח\"מ).\n",
    "\n",
    "p = get({'AGG':33.33, 'BWZ': 33.33, 'EBND': 22, 'DSUM':11.34})\n",
    "show(p, idx)"
   ]
  },
  {
   "cell_type": "code",
   "execution_count": null,
   "metadata": {
    "ExecuteTime": {
     "end_time": "2018-08-23T15:03:08.696307Z",
     "start_time": "2018-08-23T15:03:08.435713Z"
    }
   },
   "outputs": [],
   "source": [
    "lrret(idx, ['EDV', 'BWZ', 'BWX', 'EBND', 'DSUM'])"
   ]
  },
  {
   "cell_type": "code",
   "execution_count": null,
   "metadata": {
    "ExecuteTime": {
     "end_time": "2018-08-23T15:06:43.486247Z",
     "start_time": "2018-08-23T15:06:40.575541Z"
    }
   },
   "outputs": [],
   "source": [
    "lrret_mutual([idx, 'EDV', 'AGG', 'BWZ', 'IGOV', 'EBND'])"
   ]
  },
  {
   "cell_type": "code",
   "execution_count": null,
   "metadata": {
    "ExecuteTime": {
     "end_time": "2019-05-28T18:35:13.202773Z",
     "start_time": "2019-05-28T18:35:12.973179Z"
    }
   },
   "outputs": [],
   "source": [
    "show_aum('IGOV', 'BWX', 'BWZ', 'WIP', 'EBND')"
   ]
  },
  {
   "cell_type": "code",
   "execution_count": null,
   "metadata": {
    "ExecuteTime": {
     "end_time": "2019-05-28T18:11:45.708351Z",
     "start_time": "2019-05-28T18:11:44.522750Z"
    }
   },
   "outputs": [],
   "source": [
    "show('WIP', 'IGOV', 'BWX', 'BWZ', 'SPY', 'AGG', mode=\"PR\")"
   ]
  },
  {
   "cell_type": "code",
   "execution_count": null,
   "metadata": {
    "ExecuteTime": {
     "end_time": "2019-05-28T18:15:26.452795Z",
     "start_time": "2019-05-28T18:15:25.522921Z"
    }
   },
   "outputs": [],
   "source": [
    "l = get(['WIP', 'IGOV', 'BWX', 'BWZ'], mode=\"NTR\")\n",
    "show([x / get('IGOV', mode=\"NTR\") for x in l])"
   ]
  },
  {
   "cell_type": "code",
   "execution_count": null,
   "metadata": {
    "ExecuteTime": {
     "end_time": "2019-06-02T09:30:25.153696Z",
     "start_time": "2019-06-02T09:30:24.082878Z"
    }
   },
   "outputs": [],
   "source": [
    "# get('JNK', cache=False)\n",
    "show('SPY', 'VWO', 'EMB', 'EBND', 'JNK', mode=\"NTR\", trim=False)"
   ]
  },
  {
   "cell_type": "code",
   "execution_count": null,
   "metadata": {
    "ExecuteTime": {
     "end_time": "2019-06-03T10:35:41.853036Z",
     "start_time": "2019-06-03T10:35:41.650693Z"
    }
   },
   "outputs": [],
   "source": [
    "glagB = get(\"GLAG;LN@B\", interpolate=False)\n",
    "\n",
    "show(convertSeries('GLAG.L', 'GBP', 'USD'), glagB, aggg_idx)"
   ]
  },
  {
   "cell_type": "code",
   "execution_count": null,
   "metadata": {
    "ExecuteTime": {
     "end_time": "2019-06-08T07:10:33.215365Z",
     "start_time": "2019-06-08T07:10:30.163185Z"
    }
   },
   "outputs": [],
   "source": [
    "show_aum('URTH', 'ACWI', 'VT', cache=False)"
   ]
  }
 ],
 "metadata": {
  "kernelspec": {
   "display_name": "Python 3",
   "language": "python",
   "name": "python3"
  },
  "language_info": {
   "codemirror_mode": {
    "name": "ipython",
    "version": 3
   },
   "file_extension": ".py",
   "mimetype": "text/x-python",
   "name": "python",
   "nbconvert_exporter": "python",
   "pygments_lexer": "ipython3",
   "version": "3.6.7"
  },
  "varInspector": {
   "cols": {
    "lenName": 16,
    "lenType": 16,
    "lenVar": 40
   },
   "kernels_config": {
    "python": {
     "delete_cmd_postfix": "",
     "delete_cmd_prefix": "del ",
     "library": "var_list.py",
     "varRefreshCmd": "print(var_dic_list())"
    },
    "r": {
     "delete_cmd_postfix": ") ",
     "delete_cmd_prefix": "rm(",
     "library": "var_list.r",
     "varRefreshCmd": "cat(var_dic_list()) "
    }
   },
   "types_to_exclude": [
    "module",
    "function",
    "builtin_function_or_method",
    "instance",
    "_Feature"
   ],
   "window_display": false
  }
 },
 "nbformat": 4,
 "nbformat_minor": 2
}
