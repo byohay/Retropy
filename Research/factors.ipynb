{
 "cells": [
  {
   "cell_type": "code",
   "execution_count": null,
   "metadata": {
    "ExecuteTime": {
     "end_time": "2019-07-06T08:47:05.358520Z",
     "start_time": "2019-07-06T08:47:02.745826Z"
    }
   },
   "outputs": [],
   "source": [
    "%run retropy.ipynb"
   ]
  },
  {
   "cell_type": "code",
   "execution_count": null,
   "metadata": {
    "ExecuteTime": {
     "end_time": "2019-07-06T08:49:23.001237Z",
     "start_time": "2019-07-06T08:49:22.898279Z"
    }
   },
   "outputs": [],
   "source": [
    "sc, lc, lcv, lcg = get([ac.sc, ac.lc, ac.lcv, ac.lcg], cache=True, source=\"Y\", mode=\"NTR\")"
   ]
  },
  {
   "cell_type": "code",
   "execution_count": null,
   "metadata": {
    "ExecuteTime": {
     "end_time": "2019-07-06T08:49:26.710836Z",
     "start_time": "2019-07-06T08:49:25.265445Z"
    }
   },
   "outputs": [],
   "source": [
    "show(sc / lc)\n",
    "show(lcv / lc)\n",
    "show(lcg / lc)"
   ]
  },
  {
   "cell_type": "code",
   "execution_count": null,
   "metadata": {
    "ExecuteTime": {
     "end_time": "2018-10-16T09:18:59.128458Z",
     "start_time": "2018-10-16T09:18:56.290089Z"
    }
   },
   "outputs": [],
   "source": [
    "show_min_max_bands(IJR / SPY)\n",
    "show_min_max_bands(MTUM / SPY)"
   ]
  },
  {
   "cell_type": "code",
   "execution_count": null,
   "metadata": {},
   "outputs": [],
   "source": [
    "show_comp(IJR, SPY)"
   ]
  },
  {
   "cell_type": "code",
   "execution_count": null,
   "metadata": {
    "ExecuteTime": {
     "end_time": "2018-10-16T09:10:36.919720Z",
     "start_time": "2018-10-16T09:10:36.767280Z"
    }
   },
   "outputs": [],
   "source": [
    "etfs = [VBR, IJR, VLUE, USMV, MTUM]\n",
    "reit = [VNQ, VNQI]\n",
    "base = [QQQ, QLD, SPY, SSO, VXUS]"
   ]
  },
  {
   "cell_type": "code",
   "execution_count": null,
   "metadata": {
    "ExecuteTime": {
     "end_time": "2018-10-16T09:10:36.957242Z",
     "start_time": "2018-10-16T09:10:36.921810Z"
    }
   },
   "outputs": [],
   "source": [
    "all = get(etfs + base + reit)"
   ]
  },
  {
   "cell_type": "code",
   "execution_count": null,
   "metadata": {
    "ExecuteTime": {
     "end_time": "2018-10-16T09:13:07.309765Z",
     "start_time": "2018-10-16T09:11:42.342595Z"
    }
   },
   "outputs": [],
   "source": [
    "analyze_assets(*all, start=None)"
   ]
  },
  {
   "cell_type": "code",
   "execution_count": null,
   "metadata": {
    "ExecuteTime": {
     "end_time": "2018-10-16T09:11:38.507147Z",
     "start_time": "2018-10-16T09:10:34.172Z"
    }
   },
   "outputs": [],
   "source": [
    "p = \"VBR|IJR|VLUE|USMV|MTUM\"\n",
    "lrret(p, all)"
   ]
  },
  {
   "cell_type": "code",
   "execution_count": null,
   "metadata": {},
   "outputs": [],
   "source": []
  },
  {
   "cell_type": "code",
   "execution_count": null,
   "metadata": {},
   "outputs": [],
   "source": []
  }
 ],
 "metadata": {
  "kernelspec": {
   "display_name": "Python 3",
   "language": "python",
   "name": "python3"
  },
  "language_info": {
   "codemirror_mode": {
    "name": "ipython",
    "version": 3
   },
   "file_extension": ".py",
   "mimetype": "text/x-python",
   "name": "python",
   "nbconvert_exporter": "python",
   "pygments_lexer": "ipython3",
   "version": "3.6.7"
  },
  "varInspector": {
   "cols": {
    "lenName": 16,
    "lenType": 16,
    "lenVar": 40
   },
   "kernels_config": {
    "python": {
     "delete_cmd_postfix": "",
     "delete_cmd_prefix": "del ",
     "library": "var_list.py",
     "varRefreshCmd": "print(var_dic_list())"
    },
    "r": {
     "delete_cmd_postfix": ") ",
     "delete_cmd_prefix": "rm(",
     "library": "var_list.r",
     "varRefreshCmd": "cat(var_dic_list()) "
    }
   },
   "types_to_exclude": [
    "module",
    "function",
    "builtin_function_or_method",
    "instance",
    "_Feature"
   ],
   "window_display": false
  }
 },
 "nbformat": 4,
 "nbformat_minor": 2
}
